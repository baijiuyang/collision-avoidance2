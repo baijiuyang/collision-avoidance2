{
 "cells": [
  {
   "cell_type": "code",
   "execution_count": 60,
   "metadata": {},
   "outputs": [],
   "source": [
    "import os\n",
    "import sys\n",
    "import json\n",
    "from scipy.integrate import solve_ivp\n",
    "from scipy.stats import ttest_rel\n",
    "import numpy as np\n",
    "from numpy.linalg import norm\n",
    "from numpy import sqrt\n",
    "from math import pi\n",
    "import pickle\n",
    "import matplotlib.pyplot as plt\n",
    "from packages import data_container\n",
    "from packages.data_container import Data\n",
    "from packages.helper import play_trajs, rotate, sp2a, v2sp, dist, psi, beta, d_theta, d_psi, sp2v, dist, \\\n",
    "    traj_speed, min_sep\n",
    "from packages.ode_simulator import ODESimulator\n",
    "from fitting import Cohen_movObst2, Cohen_movObst1\n",
    "from sklearn.metrics import mean_squared_error\n",
    "\n",
    "# For pickle to load the Data object, which is defined in packages.data_container\n",
    "sys.modules['data_container'] = data_container\n",
    "\n",
    "file = os.path.abspath(os.path.join(os.getcwd(), os.pardir, 'Raw_Data', 'Cohen_movObst1_data.pickle'))\n",
    "with open(file, 'rb') as f:\n",
    "    data = pickle.load(f)\n",
    "\n",
    "'''Fajen_approach1a'''\n",
    "fajen_approach = {'name': 'fajen_approach', 'b1': 2.01938384, 'k1': 4.90527274, 'c1': 2.96094879, 'c2': 0.50896525,\n",
    "                  'k2': 1.61216734}\n",
    "fajen_approach2 = {'name': 'fajen_approach2', 'b1': 2.04992354, 'k1': 2.85641543, 'c1': 0.54294928, 'c2': 0.73857217,\n",
    "                   'b2': 3.89580222, 'k2': 5.04511601}\n",
    "\n",
    "acceleration_approach = {'name': 'acceleration_approach', 'k': 0.9220813483746707}\n",
    "#--------------------------------------------------------------------------------------\n",
    "\n",
    "'''Cohen_movObst1'''\n",
    "\n",
    "# cohen_avoid = {'name': 'cohen_avoid', 'b1': 2.1260796879288923, 'k1': 673.0529452234115, 'c5': 14.968106833780706,\n",
    "#                'c6': 1.0453773247966653, 'b2': 0.006893708430404716, 'k2': 13.305731910646147, 'c7': 6.887725262876937,\n",
    "#                'c8': 0.626517752901824}\n",
    "\n",
    "# cohen_avoid2 = {'name': 'cohen_avoid2', 'b1': 1.313894780845967, 'k1': 393.59559030933247, 'c5': 8.82965005381204,\n",
    "#                 'c6': 2.3410827991863172, 'b2': 0.0003485317797959908, 'k2': 66.77017554542931, 'c7': 7.602409489606929,\n",
    "#                 'c8': 1.5994854927685118}\n",
    "\n",
    "# cohen_avoid3 = {'name': 'cohen_avoid3', 'k1': 40.758773179123104, 'c5': 9.73184518588978, 'c6': 23.508572875262164,\n",
    "#                 'k2': 35.65382695736378, 'c7': 9.814413003581466, 'c8': 20.776807046770987}\n",
    "\n",
    "# cohen_avoid4 = {'name': 'cohen_avoid4', 'k1': 4.798312212313739, 'c5': 1.4381497616822931, 'c6': 5.126613085209973,\n",
    "#                 'k2': 18.94607374676705, 'c7': 8.103786608747624, 'c8': 2.167764111347458}\n",
    "\n",
    "# perpendicular_avoid2 = {'name': 'perpendicular_avoid2', 'k': 5.355486629738685, 'c': 15.073121867842529}\n",
    "\n",
    "#-----------------------------------------------------------------------------------------\n",
    "\n",
    "'''Cohen_movObst2'''\n",
    "cohen_avoid = {'name': 'cohen_avoid', 'b1': 3.363638816353943, 'k1': 95.09517044816117, 'c5': 11.400136527121575,\n",
    "               'c6': 0.48808376780737783, 'b2': 0.0, 'k2': 594.7235062798342, 'c7': 4.535696669262642,\n",
    "               'c8': 3.777451780362486}\n",
    "\n",
    "cohen_avoid2 = {'name': 'cohen_avoid2', 'b1': 3.3485438586491, 'k1': 119.59655224362285, 'c5': 8.320041684111693,\n",
    "                'c6': 9.59390592684502, 'b2': 0.0, 'k2': 16.022521094515888, 'c7': 3.714647768807139,\n",
    "                'c8': 3.971298762659632}\n",
    "\n",
    "cohen_avoid3 = {'name': 'cohen_avoid3', 'k1': 27.015824466499474, 'c5': 6.439764681301262, 'c6': 28.71370803318366,\n",
    "                'k2': 23.09740785255075, 'c7': 3.6069831344642873, 'c8': 13.659355893212165}\n",
    "\n",
    "cohen_avoid4 = {'name': 'cohen_avoid4', 'k1': 2.0736814583750123, 'c5': 0.277869777057664, 'c6': 11.55562093696106,\n",
    "                'k2': 0.695174380649082, 'c7': 5.707392197706118, 'c8': 7.709406732831272}\n",
    "#-----------------------------------------------------------------------------------------"
   ]
  },
  {
   "cell_type": "code",
   "execution_count": null,
   "metadata": {},
   "outputs": [],
   "source": [
    "'''Simulation with var0'''\n",
    "%matplotlib qt\n",
    "Hz = 100\n",
    "xg0, yg0, xo0, yo0, x0, y0 = 0, 10, 5, 5, 0, 0\n",
    "vxo0, vyo0, vx0, vy0 = -1, 0, 0, 1\n",
    "s0, phi0 = v2sp([vx0, vy0])\n",
    "dphi0 = dds = 0\n",
    "var0 = [xg0, yg0, xo0, yo0, vxo0, vyo0, x0, y0, vx0, vy0, phi0, s0, dphi0, dds]\n",
    "models = [fajen_approach, cohen_avoid]\n",
    "args = {'w_goal': 0.1, 'w_obst': 0.1}\n",
    "sim = ODESimulator(Hz=90, models=models, args=args, ref=[0, 1])\n",
    "sim.simulate(var0, total_time=10)\n",
    "sim.play()"
   ]
  },
  {
   "cell_type": "code",
   "execution_count": 2,
   "metadata": {
    "scrolled": true
   },
   "outputs": [
    {
     "name": "stdout",
     "output_type": "stream",
     "text": [
      "Loading finished\n",
      "solve_ivp crashed. Switch to Euler method\n",
      "Simulated 1 trials in 0:00:00\n"
     ]
    },
    {
     "data": {
      "text/plain": [
       "<matplotlib.animation.FuncAnimation at 0x1f6998f2748>"
      ]
     },
     "execution_count": 2,
     "metadata": {},
     "output_type": "execute_result"
    }
   ],
   "source": [
    "'''Simulate one trial'''\n",
    "############\n",
    "i_trial = 861\n",
    "approach = fajen_approach\n",
    "avoid = cohen_avoid\n",
    "\n",
    "############\n",
    "%matplotlib qt\n",
    "models = [approach, avoid]\n",
    "sim = ODESimulator(data=data, ref=[0, 1])\n",
    "sim.models = models\n",
    "sim.simulate_all(trials=[i_trial], t_start='obst_onset', t_end='obst_out', ps='trial')\n",
    "title = 'subj ' + str(sim.data.info['subj_id'][i_trial]) + \\\n",
    "        ' trial ' + str(sim.data.info['trial_id'][i_trial]) + \\\n",
    "        ' obst_angle: ' + str(sim.data.info['obst_angle'][i_trial]) + \\\n",
    "        ' obst_speed: ' + str(sim.data.info['obst_speed'][i_trial])\n",
    "sim.test('p_dist')\n",
    "sim.play(title=title)"
   ]
  },
  {
   "cell_type": "code",
   "execution_count": 65,
   "metadata": {},
   "outputs": [
    {
     "name": "stdout",
     "output_type": "stream",
     "text": [
      "Loading finished\n",
      "Simulated 875 trials in 0:00:27\n",
      "0.24663529942639034\n",
      "0.7851428571428571\n"
     ]
    }
   ],
   "source": [
    "'''Simuate all trials model 1'''\n",
    "############\n",
    "# subject = 1\n",
    "approach = fajen_approach\n",
    "avoid = cohen_avoid2\n",
    "############\n",
    "%matplotlib qt\n",
    "models = [approach, avoid]\n",
    "subjects = range(20)\n",
    "sim1, trials1 = Cohen_movObst2(subjects)\n",
    "sim1.reset()\n",
    "sim1.models = models\n",
    "\n",
    "# for i in range(len(data.trajs)):\n",
    "#     if i in data.dump or data.info['subj_id'][i] != subject or data.info['obst_speed'][i] == 0:\n",
    "#         continue\n",
    "#     trials.append(i)\n",
    "sim1.simulate_all(trials1, t_start='obst_onset', t_end='obst_out', ps='trial')\n",
    "print(sim1.test('p_dist'))\n",
    "print(sim1.test('order_accuracy'))"
   ]
  },
  {
   "cell_type": "code",
   "execution_count": 66,
   "metadata": {
    "scrolled": true
   },
   "outputs": [
    {
     "name": "stdout",
     "output_type": "stream",
     "text": [
      "Loading finished\n",
      "Simulated 875 trials in 0:00:22\n",
      "0.24684128959749277\n",
      "0.7885714285714286\n"
     ]
    }
   ],
   "source": [
    "'''Simuate all trials model 2'''\n",
    "############\n",
    "# subject = 1\n",
    "approach = fajen_approach2\n",
    "avoid = cohen_avoid4\n",
    "\n",
    "# avoid =  {'name': 'cohen_avoid4', 'k1': 19.548, 'c5': 0.116, 'c6': 24.700, 'k2': 91.621, 'c7': 5.009, 'c8': 16.079}\n",
    "# avoid =  {'name': 'cohen_avoid4', 'k1': 81.396, 'c5': 0.518, 'c6': 18.739, 'k2': 87.143, 'c7': 1.879, 'c8': 27.955}\n",
    "# avoid =  {'name': 'cohen_avoid4', 'k1': 56.617, 'c5': 0.136, 'c6': 9.106, 'k2': 58.301, 'c7': 7.441, 'c8': 1.563}\n",
    "# avoid =  {'name': 'cohen_avoid4', 'k1': 82.222, 'c5': 0.186, 'c6': 6.506, 'k2': 12.226, 'c7': 7.056, 'c8': 23.840}\n",
    "# avoid =  {'name': 'cohen_avoid4', 'k1': 37.100, 'c5': 0.657, 'c6': 7.380, 'k2': 52.451, 'c7': 3.455, 'c8': 23.441}\n",
    "\n",
    "\n",
    "############\n",
    "%matplotlib qt\n",
    "models = [approach, avoid]\n",
    "subjects = range(20)\n",
    "sim2, trials2 = Cohen_movObst2(subjects)\n",
    "sim2.reset()\n",
    "sim2.models = models\n",
    "\n",
    "# for i in range(len(data.trajs)):\n",
    "#     if i in data.dump or data.info['subj_id'][i] != subject or data.info['obst_speed'][i] == 0:\n",
    "#         continue\n",
    "#     trials.append(i)\n",
    "sim2.simulate_all(trials2, t_start='obst_onset', t_end='obst_out', ps='trial')\n",
    "print(sim2.test('p_dist'))\n",
    "print(sim2.test('order_accuracy'))"
   ]
  },
  {
   "cell_type": "code",
   "execution_count": 68,
   "metadata": {},
   "outputs": [
    {
     "name": "stdout",
     "output_type": "stream",
     "text": [
      "The BIC of model cohen_avoid2 is -1541.9730813728042, MSE is 0.16134816854221473, k is 8, n is 875\n"
     ]
    }
   ],
   "source": [
    "'''BIC'''\n",
    "sim = sim1\n",
    "k = 8\n",
    "n = len(sim.p_pred)\n",
    "MSE = sim.test('p_MSE')*2\n",
    "BIC = n * np.log(MSE) + k * np.log(n)\n",
    "print(f'The BIC of model {sim.models[1][\"name\"]} is {BIC}, MSE is {MSE}, k is {k}, n is {n}')"
   ]
  },
  {
   "cell_type": "code",
   "execution_count": 60,
   "metadata": {},
   "outputs": [
    {
     "name": "stdout",
     "output_type": "stream",
     "text": [
      "smallest error 158\n",
      "663\n",
      "897\n"
     ]
    }
   ],
   "source": [
    "'''Find certain errors'''\n",
    "sim = sim1\n",
    "errors = sim.test('p_dist', all_errors=True)\n",
    "print(f'smallest error {np.argmin(errors)}')\n",
    "for i, err in enumerate(errors):\n",
    "    if 0.189 < err < 0.19:\n",
    "        print(i)"
   ]
  },
  {
   "cell_type": "code",
   "execution_count": 63,
   "metadata": {},
   "outputs": [
    {
     "name": "stdout",
     "output_type": "stream",
     "text": [
      "0.18927789389401092\n"
     ]
    },
    {
     "data": {
      "text/plain": [
       "<matplotlib.animation.FuncAnimation at 0x269d577d208>"
      ]
     },
     "execution_count": 63,
     "metadata": {},
     "output_type": "execute_result"
    }
   ],
   "source": [
    "'''Play simulations'''\n",
    "sim = sim1\n",
    "i_trial = 897\n",
    "print(sim.test('p_dist', i_trials=[i_trial]))\n",
    "sim.play(i_trial=i_trial, save=True)\n"
   ]
  },
  {
   "cell_type": "code",
   "execution_count": 5,
   "metadata": {},
   "outputs": [
    {
     "data": {
      "text/plain": [
       "2.991859296482412"
      ]
     },
     "execution_count": 5,
     "metadata": {},
     "output_type": "execute_result"
    }
   ],
   "source": [
    "'''Check simulation length'''\n",
    "ls = []\n",
    "for i in range(len(sim.p_pred)):\n",
    "    ls.append(len(sim.p_pred[i]))\n",
    "np.mean(ls)/30"
   ]
  },
  {
   "cell_type": "code",
   "execution_count": 37,
   "metadata": {},
   "outputs": [
    {
     "name": "stdout",
     "output_type": "stream",
     "text": [
      "[{'name': 'fajen_approach', 'b1': 2.01938384, 'k1': 4.90527274, 'c1': 2.96094879, 'c2': 0.50896525, 'k2': 1.61216734, 'ps': 1.1242147210583378}, {'name': 'cohen_avoid2', 'b1': 3.3485438586491, 'k1': 119.59655224362285, 'c5': 8.320041684111693, 'c6': 9.59390592684502, 'b2': 0.0, 'k2': 16.022521094515888, 'c7': 3.714647768807139, 'c8': 3.971298762659632, 'ps': 1.1242147210583378}]\n",
      "875 trials in total\n",
      "RMSE on heading is 0.23135130693377928\n",
      "RMSE on speed is 0.09203448273536953\n",
      "Distance is 0.24663529942639034\n"
     ]
    }
   ],
   "source": [
    "'''Speed and heading errors correct vs incorrect trials'''\n",
    "from sklearn.metrics import mean_squared_error\n",
    "sim = sim1\n",
    "phi_MSEs = []\n",
    "speed_MSEs = []\n",
    "trials = []\n",
    "for i in range(len(sim.v_pred)):\n",
    "    j = sim.i_trials[i]\n",
    "#     if sim.pass_order_pred[i] == sim.data.info['pass_order'][j]:\n",
    "    v_subj = np.gradient(sim.p_subj[i], axis=0) * sim.data.Hz\n",
    "    v_pred = sim.v_pred[i]\n",
    "    s0, phi0 = v2sp(v_subj)\n",
    "    s1, phi1 = v2sp(v_pred)\n",
    "    speed_MSEs.append(mean_squared_error(s0, s1))\n",
    "    phi_MSEs.append(mean_squared_error(phi0, phi1))\n",
    "    trials.append(i)\n",
    "print(sim.models)\n",
    "print(f'{len(phi_MSEs)} trials in total')\n",
    "print(f'RMSE on heading is {np.sqrt(np.mean(phi_MSEs))}')\n",
    "print(f'RMSE on speed is {np.sqrt(np.mean(speed_MSEs))}')\n",
    "print(f\"Distance is {sim.test('p_dist', i_trials=trials)}\")"
   ]
  },
  {
   "cell_type": "code",
   "execution_count": null,
   "metadata": {},
   "outputs": [],
   "source": [
    "sim2.test('p_dist')"
   ]
  },
  {
   "cell_type": "code",
   "execution_count": null,
   "metadata": {},
   "outputs": [],
   "source": [
    "'''Minimum Passing Distance'''\n",
    "%matplotlib qt\n",
    "sim = sim2\n",
    "fig = plt.figure()\n",
    "ax = fig.add_subplot()\n",
    "ax.set_title('Signed predicted minimum passing distance (SMPD)')\n",
    "ax.set_ylabel('SMPD (m)')\n",
    "ax.set_xlabel('normalized time (%)')\n",
    "ax.set_ylim((-2, 2))\n",
    "for j, i in enumerate(sim.i_trials):\n",
    "    t0 = data.info['obst_onset'][i]\n",
    "    t1 = data.info['obst_out'][i]\n",
    "    p0 = sim.p_pred[j]\n",
    "    p1 = data.info['p_obst'][i][t0:t1]\n",
    "    v0 = sim.v_pred[j]\n",
    "    v1 = data.info['v_obst'][i][t0:t1]\n",
    "    t = np.linspace(0, 100, len(p0))\n",
    "    smpd = []\n",
    "    for _p0, _p1, _v0, _v1 in zip(p0, p1, v0, v1):        \n",
    "        smpd.append(min_sep(_p0, _p1, _v0, _v1)[0])\n",
    "    ax.plot(t, smpd, 'k', linewidth=0.1, alpha=0.5)"
   ]
  },
  {
   "cell_type": "code",
   "execution_count": null,
   "metadata": {},
   "outputs": [],
   "source": [
    "print(len(p0), len(p1), len(sim.i_trials))"
   ]
  },
  {
   "cell_type": "code",
   "execution_count": null,
   "metadata": {},
   "outputs": [],
   "source": [
    "'''Compute pred_order'''\n",
    "s = sim\n",
    "orders = []\n",
    "for i in range(len(s.p_pred)):\n",
    "    j = s.i_trials[i]\n",
    "    true_order = s.data.info['pass_order'][j]\n",
    "    p0 = s.p_pred[i][-1]\n",
    "    v0 = s.v_pred[i][-1]\n",
    "    p1 = s.p_obst[i][-1]\n",
    "    _beta = beta(p0, p1, v0)\n",
    "    angle = s.data.info['obst_angle'][j]\n",
    "    pred_order = np.sign(_beta * -angle)\n",
    "    orders.append(true_order == pred_order)\n",
    "print(np.mean(orders))"
   ]
  },
  {
   "cell_type": "code",
   "execution_count": null,
   "metadata": {},
   "outputs": [],
   "source": [
    "sim.test('order_accuracy')"
   ]
  },
  {
   "cell_type": "code",
   "execution_count": null,
   "metadata": {},
   "outputs": [],
   "source": [
    "'''t-test between two models'''\n",
    "err1 = sim.test('p_dist', all_errors=True)\n",
    "err2 = sim2.test('p_dist', all_errors=True)\n",
    "print(ttest_rel(err1, err2))\n",
    "print(f'sd1 = {np.std(err1)}, sd2 = {np.std(err2)}')\n",
    "print(f'df = {len(err1) - 1}')"
   ]
  },
  {
   "cell_type": "code",
   "execution_count": null,
   "metadata": {},
   "outputs": [],
   "source": [
    "'''Show one trial from batch simulations'''\n",
    "######## index in simulated trials only\n",
    "i = 83\n",
    "########\n",
    "i_trial = sim.i_trials[i]\n",
    "title = 'subj ' + str(sim.data.info['subj_id'][i_trial]) + \\\n",
    "        ' trial ' + str(sim.data.info['trial_id'][i_trial]) + \\\n",
    "        ' obst_angle: ' + str(sim.data.info['obst_angle'][i_trial]) + \\\n",
    "        ' obst_speed: ' + str(sim.data.info['obst_speed'][i_trial])\n",
    "sim.play(i, title=title, save=False)\n",
    "\n",
    "# When beta and dpsi has the same sign it means pass in front, otherwise it means pass from behind\n",
    "pass_order = sim.data.info['pass_order'][i]\n",
    "pred = sim.pass_order_pred[i]\n",
    "print('pass order ', pass_order, 'prediction ', pred)\n",
    "print(f\"err is {sim.test('p_dist', i_trial=i)}\")"
   ]
  },
  {
   "cell_type": "code",
   "execution_count": 23,
   "metadata": {},
   "outputs": [],
   "source": [
    "'''plot true vs predicted speed by condition'''\n",
    "#####################\n",
    "subject = 1\n",
    "#####################\n",
    "%matplotlib qt\n",
    "Hz = sim.Hz\n",
    "fig = plt.figure()\n",
    "fig.suptitle('Subject ' + str(subject))\n",
    "axes = {}\n",
    "obst_angle = sorted(set([abs(x) for x in data.info['obst_angle'] if x != 0]))\n",
    "obst_speed = sorted(set([abs(x) for x in data.info['obst_speed'] if x != 0]))\n",
    "i_plot = 1\n",
    "for angle in obst_angle:\n",
    "    for speed in obst_speed:\n",
    "        axes[(angle, speed)] = fig.add_subplot(5, 5, i_plot)\n",
    "        axes[(angle, speed)].set_xlim(0, 5)\n",
    "        axes[(angle, speed)].set_ylim(0.5, 2)\n",
    "        axes[(angle, speed)].set_title(str(angle) + '° ' + str(speed) + 'm/s')\n",
    "#         axes[(angle, speed)].set_aspect('equal')\n",
    "        i_plot += 1\n",
    "for i, i_trial in enumerate(sim.i_trials):\n",
    "    speed = sim.data.info['obst_speed'][i_trial]\n",
    "    angle = sim.data.info['obst_angle'][i_trial]\n",
    "    subj_id = sim.data.info['subj_id'][i_trial]\n",
    "    if subj_id != subject or speed == 0:\n",
    "        continue\n",
    "    \n",
    "    subj, pred = sim.p_subj[i], sim.p_pred[i]\n",
    "    s_subj, s_pred = traj_speed(subj, Hz), traj_speed(pred, Hz)\n",
    "    t = np.linspace(0, len(pred)-1, len(pred)) / Hz\n",
    "    # Speed\n",
    "    axes[(abs(angle), speed)].plot(t, s_subj, 'r')\n",
    "    axes[(abs(angle), speed)].plot(t, s_pred, 'b')\n"
   ]
  },
  {
   "cell_type": "code",
   "execution_count": 22,
   "metadata": {},
   "outputs": [],
   "source": [
    "'''plot true vs predicted heading by condition'''\n",
    "#####################\n",
    "subject = 1\n",
    "#####################\n",
    "%matplotlib qt\n",
    "Hz = sim.Hz\n",
    "fig = plt.figure()\n",
    "fig.suptitle('Subject ' + str(subject))\n",
    "axes = {}\n",
    "obst_angle = sorted(set([abs(x) for x in data.info['obst_angle'] if x != 0]))\n",
    "obst_speed = sorted(set([abs(x) for x in data.info['obst_speed'] if x != 0]))\n",
    "i_plot = 1\n",
    "for angle in obst_angle:\n",
    "    for speed in obst_speed:\n",
    "        axes[(angle, speed)] = fig.add_subplot(5, 5, i_plot)\n",
    "        axes[(angle, speed)].set_xlim(0, 5)\n",
    "        axes[(angle, speed)].set_ylim(0, 1.5)\n",
    "        axes[(angle, speed)].set_title(str(angle) + '° ' + str(speed) + 'm/s')\n",
    "#         axes[(angle, speed)].set_aspect('equal')\n",
    "        i_plot += 1\n",
    "for i, i_trial in enumerate(sim.i_trials):\n",
    "    speed = sim.data.info['obst_speed'][i_trial]\n",
    "    angle = sim.data.info['obst_angle'][i_trial]\n",
    "    subj_id = sim.data.info['subj_id'][i_trial]\n",
    "    if subj_id != subject or speed == 0:\n",
    "        continue\n",
    "    \n",
    "    subj, pred = sim.p_subj[i], sim.p_pred[i]\n",
    "    h_subj, h_pred = v2sp(np.gradient(subj, axis=0) * Hz)[1], v2sp(np.gradient(pred, axis=0) * Hz)[1]\n",
    "    if h_subj[0] < 0:\n",
    "        h_subj += pi\n",
    "        h_pred += pi\n",
    "    t = np.linspace(0, len(pred)-1, len(pred)) / Hz\n",
    "    # Heading\n",
    "    axes[(abs(angle), speed)].plot(t, h_subj, 'r')\n",
    "    axes[(abs(angle), speed)].plot(t, h_pred, 'b')\n",
    "    if abs(angle) == 112.5 and speed == 1.2:\n",
    "        print(i, i_trial)\n"
   ]
  },
  {
   "cell_type": "code",
   "execution_count": 42,
   "metadata": {},
   "outputs": [
    {
     "name": "stdout",
     "output_type": "stream",
     "text": [
      "Loading finished\n",
      "Simulated 59 trials in 0:00:01\n",
      "1 finished\n",
      "Loading finished\n",
      "Simulated 56 trials in 0:00:01\n",
      "2 finished\n",
      "Loading finished\n",
      "Simulated 58 trials in 0:00:01\n",
      "3 finished\n",
      "Loading finished\n",
      "Simulated 60 trials in 0:00:01\n",
      "4 finished\n",
      "Loading finished\n",
      "Simulated 60 trials in 0:00:02\n",
      "5 finished\n",
      "Loading finished\n",
      "Simulated 56 trials in 0:00:01\n",
      "6 finished\n",
      "Loading finished\n",
      "Simulated 59 trials in 0:00:02\n",
      "7 finished\n",
      "Loading finished\n",
      "Simulated 58 trials in 0:00:02\n",
      "10 finished\n",
      "Loading finished\n",
      "Simulated 59 trials in 0:00:02\n",
      "11 finished\n",
      "Loading finished\n",
      "Simulated 58 trials in 0:00:01\n",
      "12 finished\n",
      "Loading finished\n",
      "Simulated 60 trials in 0:00:01\n",
      "13 finished\n",
      "Loading finished\n",
      "Simulated 57 trials in 0:00:01\n",
      "14 finished\n",
      "Loading finished\n",
      "Simulated 56 trials in 0:00:01\n",
      "15 finished\n",
      "Loading finished\n",
      "Simulated 59 trials in 0:00:01\n",
      "8 finished\n",
      "Loading finished\n",
      "Simulated 60 trials in 0:00:01\n",
      "9 finished\n"
     ]
    }
   ],
   "source": [
    "'''Cross validation error'''\n",
    "path = os.path.abspath(os.path.join(os.getcwd(), os.pardir, 'Results', 'cohen_movObst2_cross_validation_cohen_avoid'))\n",
    "filenames = [os.path.join(path, name) for name in os.listdir(path) if name[-3:] == 'txt']\n",
    "MSEs = {}\n",
    "for filename in filenames:\n",
    "    with open(filename, 'rb') as f:\n",
    "        best = 0\n",
    "        e_min = float('inf')\n",
    "        if filename[-6] == '_' or filename[-6] == '-':\n",
    "            subj_id = int(filename[-5])\n",
    "        else:\n",
    "            subj_id = int(filename[-6:-4])\n",
    "        for i, line in enumerate(f):\n",
    "            if i >= 5:\n",
    "                try:\n",
    "                    err = str(line).split(\"\\\\t\")[-4][:10]\n",
    "                    if err[0] == '0':\n",
    "                        err = float(err)\n",
    "                        if err < e_min:\n",
    "                            e_min = err\n",
    "                            best = str(line).replace(\"\\\\\", \"\")\n",
    "                except:\n",
    "                    pass\n",
    "    try:\n",
    "        models = json.loads(best.split('t')[1].replace(\"\\'\", \"\\\"\"))\n",
    "        subjects = [int(subj_id)]\n",
    "        sim, trials = Cohen_movObst2(subjects)\n",
    "        sim.reset()\n",
    "        sim.models = models\n",
    "        sim.simulate_all(trials, t_start='obst_onset', t_end='obst_out', ps='trial')\n",
    "        MSEs[subj_id] = sim.test('p_dist', all_errors=True)\n",
    "        print(f'{subj_id} finished')\n",
    "    except:\n",
    "        pass"
   ]
  },
  {
   "cell_type": "code",
   "execution_count": 43,
   "metadata": {},
   "outputs": [
    {
     "data": {
      "text/plain": [
       "60.0"
      ]
     },
     "execution_count": 43,
     "metadata": {},
     "output_type": "execute_result"
    }
   ],
   "source": [
    "len(data.trajs)/15"
   ]
  },
  {
   "cell_type": "code",
   "execution_count": 43,
   "metadata": {},
   "outputs": [
    {
     "name": "stdout",
     "output_type": "stream",
     "text": [
      "1 0.4227768353884516\n",
      "2 0.15307592873592307\n",
      "3 0.17925545108523722\n",
      "4 0.37783747862651024\n",
      "5 0.2600656831531423\n",
      "6 0.17447361605719194\n",
      "7 0.46172314029079636\n",
      "10 0.18032311731628467\n",
      "11 0.17418104839082255\n",
      "12 0.1882962978540945\n",
      "13 0.2118958955885841\n",
      "14 0.3693317240573899\n",
      "15 0.2941238468642867\n",
      "8 0.23790223787787934\n",
      "9 0.14174547610042862\n"
     ]
    }
   ],
   "source": [
    "for key, val in MSEs.items():\n",
    "    print(key, np.mean(val))"
   ]
  }
 ],
 "metadata": {
  "kernelspec": {
   "display_name": "Python 3",
   "language": "python",
   "name": "python3"
  },
  "language_info": {
   "codemirror_mode": {
    "name": "ipython",
    "version": 3
   },
   "file_extension": ".py",
   "mimetype": "text/x-python",
   "name": "python",
   "nbconvert_exporter": "python",
   "pygments_lexer": "ipython3",
   "version": "3.7.9"
  }
 },
 "nbformat": 4,
 "nbformat_minor": 2
}
