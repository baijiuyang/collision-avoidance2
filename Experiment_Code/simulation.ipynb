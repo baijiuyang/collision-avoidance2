{
 "cells": [
  {
   "cell_type": "code",
   "execution_count": 36,
   "metadata": {},
   "outputs": [],
   "source": [
    "import os\n",
    "import sys\n",
    "from scipy.integrate import solve_ivp\n",
    "import numpy as np\n",
    "from numpy.linalg import norm\n",
    "from numpy import sqrt\n",
    "from math import pi\n",
    "import pickle\n",
    "import matplotlib.pyplot as plt\n",
    "from packages import data_container\n",
    "from packages.data_container import Data\n",
    "from packages.helper import play_trajs, rotate, sp2a, v2sp, dist, psi, beta, d_theta, d_psi, sp2v, dist, traj_speed\n",
    "from packages.ode_simulator import ODESimulator\n",
    "# For pickle to load the Data object, which is defined in packages.data_container\n",
    "sys.modules['data_container'] = data_container\n",
    "\n",
    "file = os.path.abspath(os.path.join(os.getcwd(), os.pardir, 'Raw_Data', 'Bai_movObst1_data.pickle'))\n",
    "with open(file, 'rb') as f:\n",
    "    data = pickle.load(f)\n",
    "\n",
    "'''Models'''\n",
    "fajen_approach = {'name': 'fajen_approach', 'ps': 1, 'b1': 3.25, 'k1': 7.5, 'c1': 0.4, 'c2': 0.4, 'k2': 1.4}\n",
    "fajen_approach2 = {'name': 'fajen_approach2', \n",
    "                         'ps': 1.3, 'b1': 3.25, 'k1':7.5, 'c1': 0.4, 'c2': 0.4, 'b2': 4.8, 'k2': 6}\n",
    "cohen_avoid = {'name': 'cohen_avoid', 'ps': 1.3, 'b1': 3.25, 'k1': 530, 'c5': 6, 'c6': 1.3, \n",
    "               'b2': 3.25, 'k2': 530, 'c7': 6, 'c8': 1.3}\n",
    "cohen_avoid2 = {'name': 'cohen_avoid2', 'ps': 1.3, 'b1': 3.25, 'k1': 530, 'c5': 6, 'c6': 1.3, \n",
    "               'b2': 3.25, 'k2': 530, 'c7': 6, 'c8': 1.3}\n",
    "cohen_avoid3 = {'name': 'cohen_avoid3', 'k1': 530, 'c5': 6, 'c6': 1.3, 'k2': 50, 'c7': 6, 'c8': 1.3}\n",
    "cohen_avoid4 = {'name': 'cohen_avoid4', 'k1': 530, 'c5': 6, 'c6': 1.3, 'k2': 50, 'c7': 6, 'c8': 1.3}"
   ]
  },
  {
   "cell_type": "code",
   "execution_count": 69,
   "metadata": {},
   "outputs": [
    {
     "data": {
      "text/plain": [
       "{-180.0, -157.5, -135.0, -112.5, -90.0, 0.0, 90.0, 112.5, 135.0, 157.5, 180.0}"
      ]
     },
     "execution_count": 69,
     "metadata": {},
     "output_type": "execute_result"
    }
   ],
   "source": [
    "set(data.info['obst_angle'])\n",
    "# set(data.info['obst_speed'])"
   ]
  },
  {
   "cell_type": "code",
   "execution_count": 6,
   "metadata": {},
   "outputs": [
    {
     "name": "stdout",
     "output_type": "stream",
     "text": [
      "Simulation finished in 0:00:00 t_total 9.988889\n"
     ]
    }
   ],
   "source": [
    "'''Simulation with var0'''\n",
    "%matplotlib qt\n",
    "Hz = 100\n",
    "xg0, yg0, xo0, yo0, x0, y0 = 0, 10, 5, 5, 0, 0\n",
    "vxo0, vyo0, vx0, vy0 = -1, 0, 0, 1\n",
    "s0, phi0 = v2sp([vx0, vy0])\n",
    "dphi0 = dds = 0\n",
    "var0 = [xg0, yg0, xo0, yo0, vxo0, vyo0, x0, y0, vx0, vy0, phi0, s0, dphi0, dds]\n",
    "models = [fajen_approach, cohen_avoid]\n",
    "args = {'w_goal': 0.1, 'w_obst': 0.1}\n",
    "sim = ODESimulator(Hz=90, models=models, args=args, ref=[0, 1])\n",
    "sim.simulate(var0, total_time=10)\n",
    "sim.play()"
   ]
  },
  {
   "cell_type": "code",
   "execution_count": 2,
   "metadata": {},
   "outputs": [
    {
     "name": "stdout",
     "output_type": "stream",
     "text": [
      "Loading finished\n"
     ]
    }
   ],
   "source": [
    "'''Load data to simulator'''\n",
    "sim = ODESimulator(data=data, ref=[0, 1])"
   ]
  },
  {
   "cell_type": "code",
   "execution_count": 3,
   "metadata": {
    "scrolled": true
   },
   "outputs": [
    {
     "name": "stdout",
     "output_type": "stream",
     "text": [
      "Simulated 1 trials in 0:00:00\n"
     ]
    },
    {
     "data": {
      "text/plain": [
       "0.46844995486384194"
      ]
     },
     "execution_count": 3,
     "metadata": {},
     "output_type": "execute_result"
    }
   ],
   "source": [
    "'''Simulate one trial'''\n",
    "############\n",
    "subject = 0\n",
    "trial = 0\n",
    "approach = {'name': 'fajen_approach', 'b1': 1.3118996599538175, 'k1': 20.05817176956081, 'c1': 2.533333934342072, 'c2': 0.07555087088494414, 'k2': 0.7413974342994933, 'ps': 1.282479471344188}\n",
    "avoid = {'name': 'cohen_avoid', 'b1': 6.062816742962076, 'k1': 108.96028254157136, 'c5': 19.28855721578636, 'c6': 0.10048432127026148, 'b2': 0.005258155378802256, 'k2': 518.1796716975705, 'c7': 9.998918268499008, 'c8': 1.2379774342292225, 'ps': 1.282479471344188}\n",
    "models = [approach, avoid]\n",
    "############\n",
    "i_trial = subject * 160 + trial - 1\n",
    "%matplotlib qt\n",
    "sim.reset()\n",
    "sim.models = models\n",
    "sim.simulate_all(trials=[i_trial], t_start='match_order', t_end='obst_out', ps='subj')\n",
    "title = 'subj ' + str(sim.data.info['subj_id'][i_trial]) + \\\n",
    "        ' trial ' + str(sim.data.info['trial_id'][i_trial]) + \\\n",
    "        ' obst_angle: ' + str(sim.data.info['obst_angle'][i_trial]) + \\\n",
    "        ' obst_speed: ' + str(sim.data.info['obst_speed'][i_trial])\n",
    "sim.play(0, actual=False, title=title)\n",
    "sim.test('p_dist')"
   ]
  },
  {
   "cell_type": "code",
   "execution_count": 64,
   "metadata": {},
   "outputs": [
    {
     "name": "stdout",
     "output_type": "stream",
     "text": [
      "Simulated 120 trials in 0:00:09\n"
     ]
    },
    {
     "data": {
      "text/plain": [
       "0.28449129921329525"
      ]
     },
     "execution_count": 64,
     "metadata": {},
     "output_type": "execute_result"
    }
   ],
   "source": [
    "'''Simuate all trials'''\n",
    "############\n",
    "subject = 1\n",
    "approach = {'name': 'fajen_approach', 'b1': 0.8081777207885088, 'k1': 32.80043575704669, 'c1': 8.416453555226326, 'c2': 0.03974207207189774, 'k2': 0.8136444335415792, 'ps': 1.329331601172892}\n",
    "avoid = {'name': 'cohen_avoid', 'b1': 33.704853892505334, 'k1': 673.535032951836, 'c5': 19.88888904128986, 'c6': 0.19250925303961428, 'b2': 13.225629649781725, 'k2': 712.2956125001266, 'c7': 6.807300704087232, 'c8': 0.6934559494941175, 'ps': 1.329331601172892}\n",
    "models = [approach, avoid]\n",
    "############\n",
    "%matplotlib qt\n",
    "sim.reset()\n",
    "sim.models = models\n",
    "trials = []\n",
    "for i in range(len(data.trajs)):\n",
    "    if i in data.dump or data.info['subj_id'][i] != subject or data.info['obst_speed'][i] == 0:\n",
    "        continue\n",
    "    trials.append(i)\n",
    "sim.simulate_all(trials, t_start='stimuli_onset', t_end='obst_out')\n",
    "sim.test('p_dist')"
   ]
  },
  {
   "cell_type": "code",
   "execution_count": 72,
   "metadata": {},
   "outputs": [
    {
     "name": "stdout",
     "output_type": "stream",
     "text": [
      "pass order  -1.0 prediction  1.0\n",
      "err is 0.5442221570927824\n"
     ]
    }
   ],
   "source": [
    "'''Show one trial from batch simulations'''\n",
    "######## index in simulated trials only\n",
    "i = 83\n",
    "########\n",
    "i_trial = sim.i_trials[i]\n",
    "title = 'subj ' + str(sim.data.info['subj_id'][i_trial]) + \\\n",
    "        ' trial ' + str(sim.data.info['trial_id'][i_trial]) + \\\n",
    "        ' obst_angle: ' + str(sim.data.info['obst_angle'][i_trial]) + \\\n",
    "        ' obst_speed: ' + str(sim.data.info['obst_speed'][i_trial])\n",
    "sim.play(i, title=title, save=False)\n",
    "\n",
    "# When beta and dpsi has the same sign it means pass in front, otherwise it means pass from behind\n",
    "pass_order = sim.data.info['pass_order'][i]\n",
    "pred = sim.pass_order_pred[i]\n",
    "print('pass order ', pass_order, 'prediction ', pred)\n",
    "print(f\"err is {sim.test('p_dist', i_trial=i)}\")"
   ]
  },
  {
   "cell_type": "code",
   "execution_count": 65,
   "metadata": {},
   "outputs": [],
   "source": [
    "'''true vs predicted speed by condition'''\n",
    "#####################\n",
    "subject = 1\n",
    "#####################\n",
    "%matplotlib qt\n",
    "Hz = sim.Hz\n",
    "fig = plt.figure()\n",
    "fig.suptitle('Subject ' + str(subject))\n",
    "axes = {}\n",
    "obst_angle = sorted(set([abs(x) for x in data.info['obst_angle'] if x != 0]))\n",
    "obst_speed = sorted(set([abs(x) for x in data.info['obst_speed'] if x != 0]))\n",
    "i_plot = 1\n",
    "for angle in obst_angle:\n",
    "    for speed in obst_speed:\n",
    "        axes[(angle, speed)] = fig.add_subplot(5, 5, i_plot)\n",
    "        axes[(angle, speed)].set_xlim(0, 5)\n",
    "        axes[(angle, speed)].set_ylim(0.5, 2)\n",
    "        axes[(angle, speed)].set_title(str(angle) + '° ' + str(speed) + 'm/s')\n",
    "#         axes[(angle, speed)].set_aspect('equal')\n",
    "        i_plot += 1\n",
    "for i, i_trial in enumerate(sim.i_trials):\n",
    "    speed = sim.data.info['obst_speed'][i_trial]\n",
    "    angle = sim.data.info['obst_angle'][i_trial]\n",
    "    subj_id = sim.data.info['subj_id'][i_trial]\n",
    "    if subj_id != subject or speed == 0:\n",
    "        continue\n",
    "    \n",
    "    subj, pred = sim.p_subj[i], sim.p_pred[i]\n",
    "    s_subj, s_pred = traj_speed(subj, Hz), traj_speed(pred, Hz)\n",
    "    t = np.linspace(0, len(pred)-1, len(pred)) / Hz\n",
    "    # Speed\n",
    "    axes[(abs(angle), speed)].plot(t, s_subj, 'r')\n",
    "    axes[(abs(angle), speed)].plot(t, s_pred, 'b')\n"
   ]
  },
  {
   "cell_type": "code",
   "execution_count": 67,
   "metadata": {},
   "outputs": [
    {
     "name": "stdout",
     "output_type": "stream",
     "text": [
      "18 184\n",
      "69 253\n",
      "77 263\n",
      "83 273\n",
      "111 311\n",
      "118 318\n"
     ]
    }
   ],
   "source": [
    "'''true vs predicted heading by condition'''\n",
    "#####################\n",
    "subject = 1\n",
    "#####################\n",
    "%matplotlib qt\n",
    "Hz = sim.Hz\n",
    "fig = plt.figure()\n",
    "fig.suptitle('Subject ' + str(subject))\n",
    "axes = {}\n",
    "obst_angle = sorted(set([abs(x) for x in data.info['obst_angle'] if x != 0]))\n",
    "obst_speed = sorted(set([abs(x) for x in data.info['obst_speed'] if x != 0]))\n",
    "i_plot = 1\n",
    "for angle in obst_angle:\n",
    "    for speed in obst_speed:\n",
    "        axes[(angle, speed)] = fig.add_subplot(5, 5, i_plot)\n",
    "        axes[(angle, speed)].set_xlim(0, 5)\n",
    "        axes[(angle, speed)].set_ylim(0, 1.5)\n",
    "        axes[(angle, speed)].set_title(str(angle) + '° ' + str(speed) + 'm/s')\n",
    "#         axes[(angle, speed)].set_aspect('equal')\n",
    "        i_plot += 1\n",
    "for i, i_trial in enumerate(sim.i_trials):\n",
    "    speed = sim.data.info['obst_speed'][i_trial]\n",
    "    angle = sim.data.info['obst_angle'][i_trial]\n",
    "    subj_id = sim.data.info['subj_id'][i_trial]\n",
    "    if subj_id != subject or speed == 0:\n",
    "        continue\n",
    "    \n",
    "    subj, pred = sim.p_subj[i], sim.p_pred[i]\n",
    "    h_subj, h_pred = v2sp(np.gradient(subj, axis=0) * Hz)[1], v2sp(np.gradient(pred, axis=0) * Hz)[1]\n",
    "    if h_subj[0] < 0:\n",
    "        h_subj += pi\n",
    "        h_pred += pi\n",
    "    t = np.linspace(0, len(pred)-1, len(pred)) / Hz\n",
    "    # Heading\n",
    "    axes[(abs(angle), speed)].plot(t, h_subj, 'r')\n",
    "    axes[(abs(angle), speed)].plot(t, h_pred, 'b')\n",
    "    if abs(angle) == 112.5 and speed == 1.2:\n",
    "        print(i, i_trial)\n"
   ]
  },
  {
   "cell_type": "code",
   "execution_count": 8,
   "metadata": {},
   "outputs": [
    {
     "data": {
      "text/plain": [
       "-8.916084053041905e-06"
      ]
     },
     "execution_count": 8,
     "metadata": {},
     "output_type": "execute_result"
    }
   ],
   "source": [
    "xg, yg, xo, yo, vxo, vyo, x, y, vx, vy, phi, s, dphi, ds = sim.var0_match[3]\n",
    "p0, p1, v0, v1 = [x, y], [xo, yo], [vx, vy], [vxo, vyo]\n",
    "beta(p0, p1, v0) * d_psi(p0, p1, v0, v1)"
   ]
  },
  {
   "cell_type": "code",
   "execution_count": 29,
   "metadata": {},
   "outputs": [
    {
     "data": {
      "text/plain": [
       "0.65"
      ]
     },
     "execution_count": 29,
     "metadata": {},
     "output_type": "execute_result"
    }
   ],
   "source": [
    "sim.test('order_accuracy')"
   ]
  }
 ],
 "metadata": {
  "kernelspec": {
   "display_name": "avoidance",
   "language": "python",
   "name": "avoidance"
  },
  "language_info": {
   "codemirror_mode": {
    "name": "ipython",
    "version": 3
   },
   "file_extension": ".py",
   "mimetype": "text/x-python",
   "name": "python",
   "nbconvert_exporter": "python",
   "pygments_lexer": "ipython3",
   "version": "3.6.10"
  }
 },
 "nbformat": 4,
 "nbformat_minor": 2
}
