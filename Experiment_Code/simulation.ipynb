{
 "cells": [
  {
   "cell_type": "code",
   "execution_count": 1,
   "metadata": {},
   "outputs": [],
   "source": [
    "import os\n",
    "import sys\n",
    "from scipy.integrate import solve_ivp\n",
    "import numpy as np\n",
    "from numpy.linalg import norm\n",
    "from numpy import sqrt\n",
    "from math import pi\n",
    "import pickle\n",
    "import matplotlib.pyplot as plt\n",
    "from packages import data_container\n",
    "from packages.data_container import Data\n",
    "from packages.helper import play_trajs, rotate, sp2a, v2sp, dist, psi, beta, d_theta, d_psi, sp2v, dist\n",
    "from packages.ode_simulator import ODESimulator\n",
    "# For pickle to load the Data object, which is defined in packages.data_container\n",
    "sys.modules['data_container'] = data_container\n",
    "\n",
    "file = os.path.abspath(os.path.join(os.getcwd(), os.pardir, 'Raw_Data', 'Bai_movObst1_data.pickle'))\n",
    "with open(file, 'rb') as f:\n",
    "    data = pickle.load(f)\n",
    "data.filter_all()\n",
    "\n",
    "'''Models'''\n",
    "fajen_approach = {'name': 'fajen_approach', 'ps': 1, 'b1': 3.25, 'k1': 7.5, 'c1': 0.4, 'c2': 0.4, 'k2': 1.4}\n",
    "fajen_approach2 = {'name': 'fajen_approach2', \n",
    "                         'ps': 1.3, 'b1': 3.25, 'k1':7.5, 'c1': 0.4, 'c2': 0.4, 'b2': 4.8, 'k2': 6}\n",
    "cohen_avoid = {'name': 'cohen_avoid', 'ps': 1.3, 'b1': 3.25, 'k1': 530, 'c5': 6, 'c6': 1.3, \n",
    "               'b2': 3.25, 'k2': 530, 'c7': 6, 'c8': 1.3}\n",
    "cohen_avoid2 = {'name': 'cohen_avoid2', 'ps': 1.3, 'b1': 3.25, 'k1': 530, 'c5': 6, 'c6': 1.3, \n",
    "               'b2': 3.25, 'k2': 530, 'c7': 6, 'c8': 1.3}\n",
    "cohen_avoid3 = {'name': 'cohen_avoid3', 'k1': 530, 'c5': 6, 'c6': 1.3, 'k2': 50, 'c7': 6, 'c8': 1.3}\n",
    "cohen_avoid4 = {'name': 'cohen_avoid4', 'k1': 530, 'c5': 6, 'c6': 1.3, 'k2': 50, 'c7': 6, 'c8': 1.3}"
   ]
  },
  {
   "cell_type": "code",
   "execution_count": 69,
   "metadata": {},
   "outputs": [
    {
     "data": {
      "text/plain": [
       "{-180.0, -157.5, -135.0, -112.5, -90.0, 0.0, 90.0, 112.5, 135.0, 157.5, 180.0}"
      ]
     },
     "execution_count": 69,
     "metadata": {},
     "output_type": "execute_result"
    }
   ],
   "source": [
    "set(data.info['obst_angle'])\n",
    "# set(data.info['obst_speed'])"
   ]
  },
  {
   "cell_type": "code",
   "execution_count": 6,
   "metadata": {},
   "outputs": [
    {
     "name": "stdout",
     "output_type": "stream",
     "text": [
      "Simulation finished in 0:00:00 t_total 9.988889\n"
     ]
    }
   ],
   "source": [
    "'''Simulation with var0'''\n",
    "%matplotlib qt\n",
    "Hz = 100\n",
    "xg0, yg0, xo0, yo0, x0, y0 = 0, 10, 5, 5, 0, 0\n",
    "vxo0, vyo0, vx0, vy0 = -1, 0, 0, 1\n",
    "s0, phi0 = v2sp([vx0, vy0])\n",
    "dphi0 = dds = 0\n",
    "var0 = [xg0, yg0, xo0, yo0, vxo0, vyo0, x0, y0, vx0, vy0, phi0, s0, dphi0, dds]\n",
    "models = [fajen_approach, cohen_avoid]\n",
    "args = {'w_goal': 0.1, 'w_obst': 0.1}\n",
    "sim = ODESimulator(Hz=90, models=models, args=args, ref=[0, 1])\n",
    "sim.simulate(var0, total_time=10)\n",
    "sim.play()"
   ]
  },
  {
   "cell_type": "code",
   "execution_count": 5,
   "metadata": {},
   "outputs": [],
   "source": [
    "sim.play(0, actual=False, title=title)"
   ]
  },
  {
   "cell_type": "code",
   "execution_count": 3,
   "metadata": {
    "scrolled": true
   },
   "outputs": [
    {
     "name": "stdout",
     "output_type": "stream",
     "text": [
      "159 158\n",
      "Simulation finished in 0:00:00 t_total 3.877778\n"
     ]
    },
    {
     "data": {
      "text/plain": [
       "0.2926333265614818"
      ]
     },
     "execution_count": 3,
     "metadata": {},
     "output_type": "execute_result"
    }
   ],
   "source": [
    "'''Simulate one trial'''\n",
    "############\n",
    "subject = 0\n",
    "trial = 159\n",
    "avoid = {'name': 'cohen_avoid', 'b1': 0, 'k1': 0, 'c5': 0.1, 'c6': 0.1, 'b2': 0, 'k2': 0, 'c7': 0.1, 'c8': 0.1}\n",
    "models = [fajen_approach, avoid]\n",
    "############\n",
    "i_trial = subject * 160 + trial - 1\n",
    "%matplotlib qt\n",
    "sim = ODESimulator(models=models, data=data, ref=[0, 1])\n",
    "sim.simulate(sim.var0[i_trial], i_trial=i_trial)\n",
    "title = 'subj ' + str(sim.data.info['subj_id'][i_trial]) + ' trial ' + str(sim.data.info['trial_id'][i_trial]) + ' obst_angle: ' + str(sim.data.info['obst_angle'][i_trial]) + ' obst_speed: ' + str(sim.data.info['obst_speed'][i_trial])\n",
    "sim.play(0, actual=False, title=title)\n",
    "sim.test('p_dist')"
   ]
  },
  {
   "cell_type": "code",
   "execution_count": 4,
   "metadata": {},
   "outputs": [
    {
     "name": "stdout",
     "output_type": "stream",
     "text": [
      "1 0\n",
      "2 1\n",
      "3 2\n",
      "4 3\n",
      "5 4\n",
      "6 5\n",
      "7 6\n",
      "9 8\n",
      "10 9\n",
      "11 10\n",
      "13 12\n",
      "14 13\n",
      "15 14\n",
      "17 16\n",
      "19 18\n",
      "20 19\n",
      "25 24\n",
      "26 25\n",
      "27 26\n",
      "28 27\n",
      "29 28\n",
      "30 29\n",
      "33 32\n",
      "34 33\n",
      "37 36\n",
      "38 37\n",
      "39 38\n",
      "40 39\n",
      "43 42\n",
      "49 48\n",
      "50 49\n",
      "51 50\n",
      "52 51\n",
      "53 52\n",
      "54 53\n",
      "55 54\n",
      "56 55\n",
      "57 56\n",
      "58 57\n",
      "59 58\n",
      "61 60\n",
      "62 61\n",
      "63 62\n",
      "64 63\n",
      "65 64\n",
      "66 65\n",
      "67 66\n",
      "69 68\n",
      "70 69\n",
      "72 71\n",
      "74 73\n",
      "75 74\n",
      "76 75\n",
      "77 76\n",
      "78 77\n",
      "79 78\n",
      "80 79\n",
      "81 80\n",
      "82 81\n",
      "85 84\n",
      "86 85\n",
      "87 86\n",
      "90 89\n",
      "91 90\n",
      "92 91\n",
      "94 93\n",
      "95 94\n",
      "97 96\n",
      "98 97\n",
      "99 98\n",
      "100 99\n",
      "101 100\n",
      "102 101\n",
      "103 102\n",
      "104 103\n",
      "105 104\n",
      "106 105\n",
      "107 106\n",
      "108 107\n",
      "111 110\n",
      "112 111\n",
      "113 112\n",
      "115 114\n",
      "117 116\n",
      "118 117\n",
      "120 119\n",
      "121 120\n",
      "122 121\n",
      "123 122\n",
      "124 123\n",
      "125 124\n",
      "126 125\n",
      "127 126\n",
      "129 128\n",
      "130 129\n",
      "131 130\n",
      "132 131\n",
      "133 132\n",
      "135 134\n",
      "136 135\n",
      "137 136\n",
      "138 137\n",
      "139 138\n",
      "140 139\n",
      "142 141\n",
      "143 142\n",
      "145 144\n",
      "146 145\n",
      "147 146\n",
      "148 147\n",
      "149 148\n",
      "150 149\n",
      "151 150\n",
      "152 151\n",
      "153 152\n",
      "154 153\n",
      "155 154\n",
      "156 155\n",
      "157 156\n",
      "159 158\n",
      "Simulation_all finished in 0:00:03\n"
     ]
    },
    {
     "data": {
      "text/plain": [
       "0.2907718912094225"
      ]
     },
     "execution_count": 4,
     "metadata": {},
     "output_type": "execute_result"
    }
   ],
   "source": [
    "'''Simuate all trials'''\n",
    "############\n",
    "subject = 0\n",
    "avoid = {'name': 'cohen_avoid', 'b1': 0, 'k1': 0, 'c5': 0.1, 'c6': 0.1, 'b2': 0, 'k2': 0, 'c7': 0.1, 'c8': 0.1}\n",
    "models = [fajen_approach, avoid]\n",
    "############\n",
    "%matplotlib qt\n",
    "sim = ODESimulator(models=models, data=data, ref=[0, 1])\n",
    "sim.simulate_all(subject)\n",
    "sim.test('p_dist')"
   ]
  },
  {
   "cell_type": "code",
   "execution_count": null,
   "metadata": {},
   "outputs": [],
   "source": []
  }
 ],
 "metadata": {
  "kernelspec": {
   "display_name": "avoidance",
   "language": "python",
   "name": "avoidance"
  },
  "language_info": {
   "codemirror_mode": {
    "name": "ipython",
    "version": 3
   },
   "file_extension": ".py",
   "mimetype": "text/x-python",
   "name": "python",
   "nbconvert_exporter": "python",
   "pygments_lexer": "ipython3",
   "version": "3.6.10"
  }
 },
 "nbformat": 4,
 "nbformat_minor": 2
}
