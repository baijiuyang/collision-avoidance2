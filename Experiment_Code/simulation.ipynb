{
 "cells": [
  {
   "cell_type": "code",
   "execution_count": 1,
   "metadata": {},
   "outputs": [],
   "source": [
    "import os\n",
    "import sys\n",
    "from scipy.integrate import solve_ivp\n",
    "import numpy as np\n",
    "from numpy.linalg import norm\n",
    "from numpy import sqrt\n",
    "from math import pi\n",
    "import pickle\n",
    "import matplotlib.pyplot as plt\n",
    "from packages import data_container\n",
    "from packages.data_container import Data\n",
    "from packages.helper import play_trajs, rotate, sp2a, v2sp, dist, psi, beta, d_theta, d_psi, sp2v, dist\n",
    "from packages.ode_simulator import ODESimulator\n",
    "# For pickle to load the Data object, which is defined in packages.data_container\n",
    "sys.modules['data_container'] = data_container\n",
    "\n",
    "file = os.path.abspath(os.path.join(os.getcwd(), os.pardir, 'Raw_Data', 'Bai_movObst1_data.pickle'))\n",
    "with open(file, 'rb') as f:\n",
    "    data = pickle.load(f)\n",
    "\n",
    "'''Models'''\n",
    "fajen_approach = {'name': 'fajen_approach', 'ps': 1, 'b1': 3.25, 'k1': 7.5, 'c1': 0.4, 'c2': 0.4, 'k2': 1.4}\n",
    "fajen_approach2 = {'name': 'fajen_approach2', \n",
    "                         'ps': 1.3, 'b1': 3.25, 'k1':7.5, 'c1': 0.4, 'c2': 0.4, 'b2': 4.8, 'k2': 6}\n",
    "cohen_avoid = {'name': 'cohen_avoid', 'ps': 1.3, 'b1': 3.25, 'k1': 530, 'c5': 6, 'c6': 1.3, \n",
    "               'b2': 3.25, 'k2': 530, 'c7': 6, 'c8': 1.3}\n",
    "cohen_avoid2 = {'name': 'cohen_avoid2', 'ps': 1.3, 'b1': 3.25, 'k1': 530, 'c5': 6, 'c6': 1.3, \n",
    "               'b2': 3.25, 'k2': 530, 'c7': 6, 'c8': 1.3}\n",
    "cohen_avoid3 = {'name': 'cohen_avoid3', 'k1': 530, 'c5': 6, 'c6': 1.3, 'k2': 50, 'c7': 6, 'c8': 1.3}\n",
    "cohen_avoid4 = {'name': 'cohen_avoid4', 'k1': 530, 'c5': 6, 'c6': 1.3, 'k2': 50, 'c7': 6, 'c8': 1.3}"
   ]
  },
  {
   "cell_type": "code",
   "execution_count": 69,
   "metadata": {},
   "outputs": [
    {
     "data": {
      "text/plain": [
       "{-180.0, -157.5, -135.0, -112.5, -90.0, 0.0, 90.0, 112.5, 135.0, 157.5, 180.0}"
      ]
     },
     "execution_count": 69,
     "metadata": {},
     "output_type": "execute_result"
    }
   ],
   "source": [
    "set(data.info['obst_angle'])\n",
    "# set(data.info['obst_speed'])"
   ]
  },
  {
   "cell_type": "code",
   "execution_count": 6,
   "metadata": {},
   "outputs": [
    {
     "name": "stdout",
     "output_type": "stream",
     "text": [
      "Simulation finished in 0:00:00 t_total 9.988889\n"
     ]
    }
   ],
   "source": [
    "'''Simulation with var0'''\n",
    "%matplotlib qt\n",
    "Hz = 100\n",
    "xg0, yg0, xo0, yo0, x0, y0 = 0, 10, 5, 5, 0, 0\n",
    "vxo0, vyo0, vx0, vy0 = -1, 0, 0, 1\n",
    "s0, phi0 = v2sp([vx0, vy0])\n",
    "dphi0 = dds = 0\n",
    "var0 = [xg0, yg0, xo0, yo0, vxo0, vyo0, x0, y0, vx0, vy0, phi0, s0, dphi0, dds]\n",
    "models = [fajen_approach, cohen_avoid]\n",
    "args = {'w_goal': 0.1, 'w_obst': 0.1}\n",
    "sim = ODESimulator(Hz=90, models=models, args=args, ref=[0, 1])\n",
    "sim.simulate(var0, total_time=10)\n",
    "sim.play()"
   ]
  },
  {
   "cell_type": "code",
   "execution_count": 2,
   "metadata": {},
   "outputs": [
    {
     "name": "stdout",
     "output_type": "stream",
     "text": [
      "Loading finished\n"
     ]
    }
   ],
   "source": [
    "'''Load data to simulator'''\n",
    "sim = ODESimulator(data=data, ref=[0, 1])"
   ]
  },
  {
   "cell_type": "code",
   "execution_count": 12,
   "metadata": {
    "scrolled": true
   },
   "outputs": [
    {
     "name": "stdout",
     "output_type": "stream",
     "text": [
      "Simulated 1 trials in 0:00:00\n"
     ]
    },
    {
     "data": {
      "text/plain": [
       "0.09100613326398824"
      ]
     },
     "execution_count": 12,
     "metadata": {},
     "output_type": "execute_result"
    }
   ],
   "source": [
    "'''Simulate one trial'''\n",
    "############\n",
    "subject = 0\n",
    "trial = 6\n",
    "avoid = {'name': 'cohen_avoid', 'b1': 31.119968265526424, 'k1': 701.6130147352106, 'c5': 5.152112674082112, 'c6': 0.4623975607885705, 'b2': 0.0, 'k2': 177.6168003671018, 'c7': 9.156590246880357, 'c8': 0.9337444230424649}\n",
    "models = [fajen_approach, avoid]\n",
    "############\n",
    "i_trial = subject * 160 + trial - 1\n",
    "%matplotlib qt\n",
    "sim.reset()\n",
    "sim.models = models\n",
    "sim.simulate_all(trials=[i_trial], match_order=True)\n",
    "title = 'subj ' + str(sim.data.info['subj_id'][i_trial]) + ' trial ' + str(sim.data.info['trial_id'][i_trial]) + ' obst_angle: ' + str(sim.data.info['obst_angle'][i_trial]) + ' obst_speed: ' + str(sim.data.info['obst_speed'][i_trial])\n",
    "sim.play(0, actual=False, title=title)\n",
    "sim.test('p_dist')"
   ]
  },
  {
   "cell_type": "code",
   "execution_count": 3,
   "metadata": {},
   "outputs": [
    {
     "name": "stdout",
     "output_type": "stream",
     "text": [
      "Simulated 120 trials in 0:00:11\n"
     ]
    },
    {
     "data": {
      "text/plain": [
       "0.2314528377438206"
      ]
     },
     "execution_count": 3,
     "metadata": {},
     "output_type": "execute_result"
    }
   ],
   "source": [
    "'''Simuate all trials'''\n",
    "############\n",
    "subject = 0\n",
    "avoid = {'name': 'cohen_avoid', 'b1': 31.119968265526424, 'k1': 701.6130147352106, 'c5': 5.152112674082112, 'c6': 0.4623975607885705, 'b2': 0.0, 'k2': 177.6168003671018, 'c7': 9.156590246880357, 'c8': 0.9337444230424649}\n",
    "models = [fajen_approach, avoid]\n",
    "############\n",
    "%matplotlib qt\n",
    "sim.models = models\n",
    "trials = range(subject * 160, (subject+1) * 160)\n",
    "sim.reset()\n",
    "sim.simulate_all(trials, match_order=True)\n",
    "sim.test('p_dist')"
   ]
  },
  {
   "cell_type": "code",
   "execution_count": 10,
   "metadata": {},
   "outputs": [
    {
     "name": "stdout",
     "output_type": "stream",
     "text": [
      "pass order  1.0 prediction  1.0\n",
      "True\n"
     ]
    }
   ],
   "source": [
    "i = 5\n",
    "\n",
    "sim.play(i)\n",
    "xg, yg, xo, yo, vxo, vyo, x, y, vx, vy, phi, s, dphi, ds = sim.var0_match[i]\n",
    "# When beta and dpsi has the same sign it means pass in front, otherwise it means pass from behind\n",
    "pass_order = sim.data.info['pass_order'][i]\n",
    "pred = sim.pass_order_pred[i]\n",
    "print('pass order ', pass_order, 'prediction ', pred)\n",
    "print(pass_order == pred)"
   ]
  },
  {
   "cell_type": "code",
   "execution_count": 8,
   "metadata": {},
   "outputs": [
    {
     "data": {
      "text/plain": [
       "-8.916084053041905e-06"
      ]
     },
     "execution_count": 8,
     "metadata": {},
     "output_type": "execute_result"
    }
   ],
   "source": [
    "xg, yg, xo, yo, vxo, vyo, x, y, vx, vy, phi, s, dphi, ds = sim.var0_match[3]\n",
    "p0, p1, v0, v1 = [x, y], [xo, yo], [vx, vy], [vxo, vyo]\n",
    "beta(p0, p1, v0) * d_psi(p0, p1, v0, v1)"
   ]
  },
  {
   "cell_type": "code",
   "execution_count": 4,
   "metadata": {},
   "outputs": [
    {
     "data": {
      "text/plain": [
       "0.9333333333333333"
      ]
     },
     "execution_count": 4,
     "metadata": {},
     "output_type": "execute_result"
    }
   ],
   "source": [
    "sim.test('order_accuracy')"
   ]
  }
 ],
 "metadata": {
  "kernelspec": {
   "display_name": "avoidance",
   "language": "python",
   "name": "avoidance"
  },
  "language_info": {
   "codemirror_mode": {
    "name": "ipython",
    "version": 3
   },
   "file_extension": ".py",
   "mimetype": "text/x-python",
   "name": "python",
   "nbconvert_exporter": "python",
   "pygments_lexer": "ipython3",
   "version": "3.6.10"
  }
 },
 "nbformat": 4,
 "nbformat_minor": 2
}
