{
 "cells": [
  {
   "cell_type": "code",
   "execution_count": 3,
   "metadata": {},
   "outputs": [],
   "source": [
    "import os\n",
    "import sys\n",
    "import pickle\n",
    "from packages import data_container\n",
    "from packages.data_container import Data\n",
    "# For pickle to load the Data object, which is defined in packages.data_container\n",
    "sys.modules['data_container'] = data_container"
   ]
  },
  {
   "cell_type": "code",
   "execution_count": 14,
   "metadata": {},
   "outputs": [],
   "source": [
    "'''Import data from csv to Data object'''\n",
    "header=('subj_x', 'subj_y', 'subj_z', 'subj_yaw', 'subj_pitch', 'subj_row')\n",
    "info={'p_goal':[], 'p_obst':[], 'obst_angle':[], 'obst_speed':[], 'subj_id':[], 'trial_id':[], 'stimuli_onset':[], \n",
    "      'w_goal': 0.4, 'w_obst': 0.2, 'ps':[], 'time_stamp': []}\n",
    "exp = Data(Hz=90, header=header, info=info)\n",
    "for subj_id in range(1):\n",
    "    # Import output\n",
    "    file_path = os.path.abspath(os.path.join(os.getcwd(), os.pardir, 'Raw Data', 'Subj' + str(subj_id).zfill(2) + '.csv'))\n",
    "    with open(file_path, 'r') as f:\n",
    "        trials = [line.split(',') for line in f.read().split('\\n')]\n",
    "        head = 0\n",
    "        while head + 1 < len(trials):\n",
    "            for i in range(head+1, len(trials)):\n",
    "                if trials[i][0] == '':\n",
    "                    tail = i - 1\n",
    "                    break\n",
    "            trial_id = int(trials[head+1][1])\n",
    "            angle = float(trials[head+1][3])\n",
    "            speed = float(trials[head+1][5])\n",
    "            subj = [[float(val) for val in line[1:7]] for line in trials[head+3:tail+1]]\n",
    "            goal = [[float(line[-2]), float(line[-1])] for line in trials[head+3:tail+1]]\n",
    "            obst = [[float(line[-4]), float(line[-3])] for line in trials[head+3:tail+1]]\n",
    "            time_stamp = [float(line[0]) for line in trials[head+3:tail+1]]\n",
    "            for i in range(len(obst) - 1):\n",
    "                if obst[i][0] != obst[i + 1][0] or obst[i][1] != obst[i + 1][1]:\n",
    "                    onset = i\n",
    "                    break\n",
    "            exp.add_traj(subj)\n",
    "            exp.add_info({'p_goal':goal, 'p_obst':obst, 'obst_angle':angle, 'obst_speed':speed, 'subj_id':subj_id, \n",
    "                       'trial_id':trial_id, 'stimuli_onset':onset, 'time_stamp':time_stamp})\n",
    "            head = tail + 1\n",
    "            \n",
    "outfile = os.path.abspath(os.path.join(os.getcwd(), os.pardir, 'Raw Data', 'Bai_movObst1_data.pickle'))       \n",
    "with open(outfile, 'wb') as f:   \n",
    "    pickle.dump(exp, f, pickle.HIGHEST_PROTOCOL)  "
   ]
  },
  {
   "cell_type": "code",
   "execution_count": 13,
   "metadata": {},
   "outputs": [
    {
     "data": {
      "text/plain": [
       "1059"
      ]
     },
     "execution_count": 13,
     "metadata": {},
     "output_type": "execute_result"
    }
   ],
   "source": [
    "exp.info['stimuli_onset'][0]"
   ]
  }
 ],
 "metadata": {
  "kernelspec": {
   "display_name": "avoidance",
   "language": "python",
   "name": "avoidance"
  },
  "language_info": {
   "codemirror_mode": {
    "name": "ipython",
    "version": 3
   },
   "file_extension": ".py",
   "mimetype": "text/x-python",
   "name": "python",
   "nbconvert_exporter": "python",
   "pygments_lexer": "ipython3",
   "version": "3.6.10"
  }
 },
 "nbformat": 4,
 "nbformat_minor": 2
}
