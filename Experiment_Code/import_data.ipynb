{
 "cells": [
  {
   "cell_type": "code",
   "execution_count": 1,
   "metadata": {},
   "outputs": [],
   "source": [
    "import os\n",
    "import sys\n",
    "import pickle\n",
    "import numpy as np\n",
    "from math import pi\n",
    "from packages import data_container\n",
    "from packages.data_container import Data\n",
    "from packages.helper import traj_speed, beta\n",
    "# For pickle to load the Data object, which is defined in packages.data_container\n",
    "sys.modules['data_container'] = data_container"
   ]
  },
  {
   "cell_type": "code",
   "execution_count": 2,
   "metadata": {},
   "outputs": [],
   "source": [
    "'''Import data from csv to Data object'''\n",
    "header=('subj_x', 'subj_y', 'subj_z', 'subj_yaw', 'subj_pitch', 'subj_row')\n",
    "info={'p_goal':[], 'p_obst':[], 'obst_angle':[], 'obst_speed':[], 'subj_id':[], 'trial_id':[], 'stimuli_onset':[], \n",
    "      'stimuli_out':[], 'w_goal': 0.4, 'w_obst': 0.2, 'ps_trial':[], 'ps_subj':[], 'time_stamp': []}\n",
    "data = Data(Hz=90, header=header, info=info)\n",
    "n_subj = 4\n",
    "for subj_id in range(n_subj):\n",
    "    # Import output\n",
    "    file_path = os.path.abspath(os.path.join(os.getcwd(), os.pardir, 'Raw_Data', 'Subj' + str(subj_id).zfill(2) + '.csv'))\n",
    "    with open(file_path, 'r') as f:\n",
    "        trials = [line.split(',') for line in f.read().split('\\n')]\n",
    "        head = 0\n",
    "        while head + 1 < len(trials):\n",
    "            for i in range(head+1, len(trials)):\n",
    "                if trials[i][0] == '':\n",
    "                    tail = i - 1\n",
    "                    break\n",
    "            trial_id = int(trials[head+1][1])\n",
    "            angle = float(trials[head+1][3])\n",
    "            speed = float(trials[head+1][5])\n",
    "            subj = np.array([[float(val) for val in line[1:7]] for line in trials[head+3:tail+1]])\n",
    "            goal = np.array([[float(line[-2]), float(line[-1])] for line in trials[head+3:tail+1]])\n",
    "            obst = np.array([[float(line[-4]), float(line[-3])] for line in trials[head+3:tail+1]])\n",
    "            time_stamp = [float(line[0]) for line in trials[head+3:tail+1]]\n",
    "            for i in range(len(obst) - 1):\n",
    "                if obst[i][0] != obst[i + 1][0] or obst[i][1] != obst[i + 1][1]:\n",
    "                    onset = i\n",
    "                    break\n",
    "            for i in range(onset, len(subj) - 1):\n",
    "                p0 = subj[i, [0,2]]\n",
    "                p1 = obst[i]\n",
    "                v0 = (subj[i+1,[0,2]] - subj[i,[0,2]]) * data.Hz\n",
    "                if abs(beta(p0, p1, v0)) > pi / 2:\n",
    "                    stimuli_out = i\n",
    "                    break\n",
    "            data.add_traj(subj)\n",
    "            ps_trial = np.mean(traj_speed(subj[:,[0,2]], data.Hz)[-2*data.Hz:-data.Hz])\n",
    "            data.add_info({'p_goal':goal, 'p_obst':obst, 'obst_angle':angle, 'obst_speed':speed, 'subj_id':subj_id, \n",
    "                       'trial_id':trial_id, 'stimuli_onset':onset, 'stimuli_out': stimuli_out, 'time_stamp':time_stamp, 'ps_trial': ps_trial,\n",
    "                         'ps_subj': 0})\n",
    "            head = tail + 1\n",
    "ps_subj = [0] * n_subj\n",
    "for i in range(len(data.trajs)):\n",
    "    if data.info['obst_speed'][i] == 0:\n",
    "        subj_id = data.info['subj_id'][i]\n",
    "        ps_subj[subj_id] += data.info['ps_trial'][i] / 10\n",
    "for i in range(len(data.trajs)):\n",
    "    subj_id = data.info['subj_id'][i]\n",
    "    data.info['ps_subj'][i] = ps_subj[subj_id]\n",
    "data.filter_all()\n",
    "outfile = os.path.abspath(os.path.join(os.getcwd(), os.pardir, 'Raw_Data', 'Bai_movObst1_data.pickle'))       \n",
    "with open(outfile, 'wb') as f:   \n",
    "    pickle.dump(data, f, pickle.HIGHEST_PROTOCOL)  "
   ]
  },
  {
   "cell_type": "code",
   "execution_count": 5,
   "metadata": {},
   "outputs": [
    {
     "data": {
      "text/plain": [
       "640"
      ]
     },
     "execution_count": 5,
     "metadata": {},
     "output_type": "execute_result"
    }
   ],
   "source": [
    "len(data.trajs)"
   ]
  }
 ],
 "metadata": {
  "kernelspec": {
   "display_name": "avoidance",
   "language": "python",
   "name": "avoidance"
  },
  "language_info": {
   "codemirror_mode": {
    "name": "ipython",
    "version": 3
   },
   "file_extension": ".py",
   "mimetype": "text/x-python",
   "name": "python",
   "nbconvert_exporter": "python",
   "pygments_lexer": "ipython3",
   "version": "3.6.10"
  }
 },
 "nbformat": 4,
 "nbformat_minor": 2
}
