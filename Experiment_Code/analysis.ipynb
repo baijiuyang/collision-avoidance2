{
 "cells": [
  {
   "cell_type": "code",
   "execution_count": 1,
   "metadata": {},
   "outputs": [],
   "source": [
    "import os\n",
    "import sys\n",
    "import json\n",
    "from collections import Counter\n",
    "from scipy.integrate import solve_ivp\n",
    "import numpy as np\n",
    "from numpy.linalg import norm\n",
    "from numpy import sqrt\n",
    "from sklearn.metrics import accuracy_score\n",
    "from math import pi\n",
    "import pickle\n",
    "import matplotlib.pyplot as plt\n",
    "from packages import data_container\n",
    "from packages.data_container import Data\n",
    "from packages.helper import play_trajs, rotate, sp2a, v2sp, dist, psi, beta, d_theta, d_psi, sp2v, dist, min_dist, \\\n",
    "    vector_angle, signed_angle, side, inner, theta, min_sep\n",
    "from packages.ode_simulator import ODESimulator\n",
    "# For pickle to load the Data object, which is defined in packages.data_container\n",
    "sys.modules['data_container'] = data_container\n",
    "\n",
    "# file = os.path.abspath(os.path.join(os.getcwd(), os.pardir, 'Raw_Data', 'Bai_movObst1_data.pickle'))\n",
    "# with open(file, 'rb') as f:\n",
    "#     data = pickle.load(f)\n",
    "\n",
    "# file = os.path.abspath(os.path.join(os.getcwd(), os.pardir, 'Raw_Data', 'Bai_movObst1b_data.pickle'))\n",
    "# with open(file, 'rb') as f:\n",
    "#     data2 = pickle.load(f)\n",
    "\n",
    "file = os.path.abspath(os.path.join(os.getcwd(), os.pardir, 'Raw_Data', 'Cohen_movObst_exp1_data.pickle'))\n",
    "with open(file, 'rb') as f:\n",
    "    data = pickle.load(f)"
   ]
  },
  {
   "cell_type": "code",
   "execution_count": 2,
   "metadata": {},
   "outputs": [
    {
     "data": {
      "text/plain": [
       "{1, 2, 3, 4, 5, 6, 7, 8, 10, 11, 12, 13, 14, 15}"
      ]
     },
     "execution_count": 2,
     "metadata": {},
     "output_type": "execute_result"
    }
   ],
   "source": [
    "set(data.info['subj_id'])"
   ]
  },
  {
   "cell_type": "code",
   "execution_count": 6,
   "metadata": {},
   "outputs": [],
   "source": [
    "'''Minimum Passing Distance'''\n",
    "%matplotlib qt\n",
    "fig = plt.figure()\n",
    "ax = fig.add_subplot()\n",
    "ax.set_title('Signed predicted minimum passing distance (SMPD)')\n",
    "ax.set_ylabel('SMPD (m)')\n",
    "ax.set_xlabel('normalized time (%)')\n",
    "ax.set_ylim((-2, 2))\n",
    "for i in range(len(data.trajs)):\n",
    "    t0 = data.info['stimuli_onset'][i]\n",
    "    t1 = data.info['stimuli_out'][i]\n",
    "    p0 = data.info['p_subj'][i][t0:t1]\n",
    "    p1 = data.info['p_obst'][i][t0:t1]\n",
    "    v0 = data.info['v_subj'][i][t0:t1]\n",
    "    v1 = data.info['v_obst'][i][t0:t1]\n",
    "    t = np.linspace(0, 100, len(p0))\n",
    "    smpd = []\n",
    "    for _p0, _p1, _v0, _v1 in zip(p0, p1, v0, v1):        \n",
    "        smpd.append(min_sep(_p0, _p1, _v0, _v1)[0])\n",
    "    ax.plot(t, smpd, 'k', linewidth=0.1, alpha=0.5)\n",
    "    \n",
    "    "
   ]
  },
  {
   "cell_type": "code",
   "execution_count": 64,
   "metadata": {},
   "outputs": [
    {
     "name": "stdout",
     "output_type": "stream",
     "text": [
      "10 12\n"
     ]
    }
   ],
   "source": [
    "'''Animate data'''\n",
    "############\n",
    "subject = 0\n",
    "trial = 31\n",
    "\n",
    "############\n",
    "%matplotlib qt\n",
    "i = subject * 160 + trial - 1\n",
    "i = 2\n",
    "# p_obst = np.array(data.info['p_obst'][i])\n",
    "t0 = data.info['stimuli_onset'][i]\n",
    "p_goal = data.info['p_goal'][i]\n",
    "p_subj = data.info['p_subj'][i]\n",
    "p_obst = data.info['p_obst'][i]\n",
    "trajs = [p_goal, p_obst, p_subj]\n",
    "ws = [data.info['w_goal'], data.info['w_obst'], 0.4]\n",
    "title = 'subj ' + str(data.info['subj_id'][i]) + ' trial ' + str(data.info['trial_id'][i]) + ' obst_angle: ' + str(data.info['obst_angle'][i]) + ' obst_speed: ' + str(data.info['obst_speed'][i])\n",
    "play_trajs(trajs, ws, data.Hz, title=title)\n",
    "print(data.info['subj_id'][i], data.info['trial_id'][i])"
   ]
  },
  {
   "cell_type": "code",
   "execution_count": 9,
   "metadata": {},
   "outputs": [
    {
     "name": "stdout",
     "output_type": "stream",
     "text": [
      "15 47\n"
     ]
    }
   ],
   "source": [
    "'''Plot acceleration angle and magnitude'''\n",
    "%matplotlib qt\n",
    "trials = range(400,401)\n",
    "subject = 1\n",
    "con_angle = [90, -90]\n",
    "con_speed = []\n",
    "fig0 = plt.figure()\n",
    "ax0 = fig0.add_subplot()\n",
    "fig1 = plt.figure()\n",
    "ax1 = fig1.add_subplot()\n",
    "for i in trials:\n",
    "    angle = data.info['obst_angle'][i]\n",
    "    speed = data.info['obst_speed'][i]\n",
    "    subj_id = data.info['subj_id'][i]\n",
    "    if i in data.dump:\n",
    "        continue\n",
    "#     if angle not in con_angle or subj_id != subject:\n",
    "#         continue\n",
    "    t0, t1 = data.info['stimuli_onset'][i], data.info['stimuli_out'][i]\n",
    "    p0, p1, a0 = np.array(data.info['p_subj'][i][t0:t1]), np.array(data.info['p_obst'][i][t0:t1]), np.array(data.info['a_subj'][i][t0:t1])\n",
    "    angles = signed_angle(p1 - p0, a0)\n",
    "    ax0.scatter(range(len(angles)), angles, s=1)\n",
    "    ax1.plot(norm(a0, axis=-1))\n",
    "    print(data.info['subj_id'][i], data.info['trial_id'][i])"
   ]
  },
  {
   "cell_type": "code",
   "execution_count": 66,
   "metadata": {},
   "outputs": [],
   "source": [
    "'''Plot dpsi dtheta by time'''\n",
    "%matplotlib qt\n",
    "subjects = range(16)\n",
    "n = len(data.trajs)\n",
    "fig0 = plt.figure()\n",
    "ax0 = fig0.add_subplot()\n",
    "fig1 = plt.figure()\n",
    "ax1 = fig1.add_subplot()\n",
    "fig2 = plt.figure()\n",
    "ax2 = fig2.add_subplot()\n",
    "for i in range(2,3):\n",
    "    if (data.info['subj_id'][i] in subjects and\n",
    "        i not in data.dump and\n",
    "        data.info['obst_speed'][i] != 0 and\n",
    "        abs(data.info['obst_angle'][i]) != 180):\n",
    "        t0, t1 = data.info['stimuli_onset'][i], data.info['stimuli_out'][i]\n",
    "        p0, p1 = np.array(data.info['p_subj'][i][t0:t1]), np.array(data.info['p_obst'][i][t0:t1])\n",
    "        v0, v1 = np.array(data.info['v_subj'][i][t0:t1]), np.array(data.info['v_obst'][i])\n",
    "        a0 = np.array(data.info['a_subj'][i][t0:t1])\n",
    "        a0 = norm(a0, axis=-1)\n",
    "        v1 = np.tile(v1, (len(v0), 1))\n",
    "        dpsis = np.absolute(d_psi(p0, p1, v0, v1))\n",
    "        dthetas = d_theta(p0, p1, v0, v1, w=0.1)\n",
    "        thetas = theta(p0, p1, w=0.1)\n",
    "        ratio = dthetas/thetas\n",
    "        ax0.plot(a0)\n",
    "        c1, c2 = 0, 0.2\n",
    "        ax1.plot((ratio+c1)/(dpsis+c2))\n",
    "        ax2.scatter(ratio[60:80], a0[60:80], s=1)\n",
    "#         ax2.scatter(range(len(dpsis)), dthetas/dpsis, s=1)"
   ]
  },
  {
   "cell_type": "code",
   "execution_count": 4,
   "metadata": {},
   "outputs": [
    {
     "data": {
      "text/plain": [
       "Text(0.5, 1.0, 'subj 2 angle: 90 speed: 1.2')"
      ]
     },
     "execution_count": 4,
     "metadata": {},
     "output_type": "execute_result"
    }
   ],
   "source": [
    "'''Plot data by condition'''\n",
    "#####################\n",
    "subject = 2\n",
    "con_ang = [90]\n",
    "con_spd = [1.2]\n",
    "# con_ang = set(data.info['obst_angle'])\n",
    "# con_spd = set(data.info['obst_speed'])\n",
    "#####################\n",
    "%matplotlib qt\n",
    "plt.figure()\n",
    "for i in range(len(data.trajs)):\n",
    "    obst_speed = data.info['obst_speed'][i]\n",
    "    obst_angle = data.info['obst_angle'][i]\n",
    "    subj_id = data.info['subj_id'][i]\n",
    "    if subj_id != subject:\n",
    "        continue\n",
    "    if not (obst_speed in con_spd and abs(obst_angle) in con_ang):\n",
    "        continue\n",
    "    subj = np.array(data.get_traj(i))\n",
    "    obst = np.array(data.info['p_obst'][i])\n",
    "    if i % 2 == 0:\n",
    "        subj = rotate(subj, np.arctan(11 / 9) - pi / 2)\n",
    "        obst = rotate(obst, np.arctan(11 / 9) - pi / 2)\n",
    "    else:\n",
    "        subj = rotate(subj, np.arctan(11 / 9) + pi / 2)\n",
    "        obst = rotate(obst, np.arctan(11 / 9) + pi / 2)\n",
    "    if obst_angle < 0:\n",
    "        subj[:, 0] *= -1\n",
    "        obst[:, 0] *= -1\n",
    "    plt.plot(subj[:, 0], subj[:, 1])\n",
    "    plt.plot(obst[:, 0], obst[:, 1])\n",
    "ax = plt.gca()\n",
    "ax.set_aspect('equal')\n",
    "ax.set_title('subj ' + str(subject) + ' angle: ' + str(con_ang[0]) + ' speed: ' + str(con_spd[0]))"
   ]
  },
  {
   "cell_type": "code",
   "execution_count": null,
   "metadata": {},
   "outputs": [],
   "source": [
    "'''Plot data by subject'''\n",
    "#####################\n",
    "subject = 3\n",
    "#####################\n",
    "%matplotlib qt\n",
    "fig = plt.figure()\n",
    "fig.suptitle('Subject ' + str(subject))\n",
    "axes = {}\n",
    "obst_angle = [90, 112.5, 135, 157.5, 180]\n",
    "obst_speed = [0.9, 1.0, 1.1, 1.2, 1.3]\n",
    "i_plot = 1\n",
    "for angle in obst_angle:\n",
    "    for speed in obst_speed:\n",
    "        axes[(angle, speed)] = fig.add_subplot(5, 5, i_plot)\n",
    "        axes[(angle, speed)].set_xlim(-3, 3)\n",
    "        axes[(angle, speed)].set_ylim(-7, 5)\n",
    "        axes[(angle, speed)].set_title(str(angle) + '° ' + str(speed) + 'm/s')\n",
    "        axes[(angle, speed)].set_aspect('equal')\n",
    "        i_plot += 1\n",
    "for i in range(len(data.trajs)):\n",
    "    speed = data.info['obst_speed'][i]\n",
    "    angle = data.info['obst_angle'][i]\n",
    "    subj_id = data.info['subj_id'][i]\n",
    "    if subj_id != subject or speed == 0:\n",
    "        continue\n",
    "    subj = np.array(data.info['p_subj'][i])\n",
    "    obst = np.array(data.info['p_obst'][i])\n",
    "    if i % 2 == 0:\n",
    "        subj = rotate(subj, np.arctan(11 / 9) - pi / 2)\n",
    "        obst = rotate(obst, np.arctan(11 / 9) - pi / 2)\n",
    "    else:\n",
    "        subj = rotate(subj, np.arctan(11 / 9) + pi / 2)\n",
    "        obst = rotate(obst, np.arctan(11 / 9) + pi / 2)\n",
    "    if angle < 0:\n",
    "        subj[:, 0] *= -1\n",
    "        obst[:, 0] *= -1\n",
    "    axes[(abs(angle), speed)].plot(subj[:, 0], subj[:, 1])\n",
    "    axes[(abs(angle), speed)].plot(obst[:, 0], obst[:, 1])"
   ]
  },
  {
   "cell_type": "code",
   "execution_count": 3,
   "metadata": {},
   "outputs": [
    {
     "name": "stdout",
     "output_type": "stream",
     "text": [
      "{1, 2, 3, 4, 5, 6, 7, 8, 10, 11, 12, 13, 14, 15}\n",
      "Loading finished\n",
      "passing order matching rate  0.8238805970149253\n"
     ]
    },
    {
     "data": {
      "text/plain": [
       "Text(0.5, 0, 'dpsi')"
      ]
     },
     "execution_count": 3,
     "metadata": {},
     "output_type": "execute_result"
    },
    {
     "data": {
      "image/png": "[encoded data removed]",
      "text/plain": [
       "<Figure size 432x288 with 1 Axes>"
      ]
     },
     "metadata": {
      "needs_background": "light"
     },
     "output_type": "display_data"
    },
    {
     "data": {
      "image/png": "[encoded data removed]",
      "text/plain": [
       "<Figure size 432x288 with 1 Axes>"
      ]
     },
     "metadata": {
      "needs_background": "light"
     },
     "output_type": "display_data"
    }
   ],
   "source": [
    "'''Check initial dpsi and subject passing choice, plot dpsi of matching and non-matching trials'''\n",
    "subjects = set(data.info['subj_id'])\n",
    "print(subjects)\n",
    "sim = ODESimulator(data=data, ref=[0,1])\n",
    "side_pred = []\n",
    "side_true = []\n",
    "dpsi_match = []\n",
    "dpsi_not = []\n",
    "for i in range(len(sim.data.trajs)):\n",
    "    if (sim.data.info['subj_id'][i] in subjects and\n",
    "        i not in sim.data.dump and\n",
    "        sim.data.info['obst_speed'][i] != 0 and\n",
    "        abs(sim.data.info['obst_angle'][i]) != 180):\n",
    "        xg, yg, xo, yo, vxo, vyo, x, y, vx, vy, a, phi, s, dphi, ds = sim.compute_var0(i, sim.data.info['stimuli_onset'][i])\n",
    "        # When beta and dpsi has the same sign it means pass in front, otherwise it means pass from behind\n",
    "        dpsi = d_psi([x, y], [xo, yo], [vx, vy], [vxo, vyo])\n",
    "        b = beta([x, y], [xo, yo], [vx, vy])\n",
    "        side_pred.append(1 if b * dpsi > 0 else -1)\n",
    "        side_true.append(sim.data.info['pass_order'][i])\n",
    "        if side_pred[-1] == side_true[-1]:\n",
    "            dpsi_match.append(dpsi)\n",
    "        else:\n",
    "            dpsi_not.append(dpsi)\n",
    "print('passing order matching rate ', accuracy_score(side_true, side_pred))\n",
    "plt.scatter(np.random.uniform(size=len(dpsi_match)), dpsi_match, label='matching trials')\n",
    "plt.scatter(np.random.uniform(size=len(dpsi_not)), dpsi_not, label='non-matching trials')\n",
    "plt.ylabel('dpsi')\n",
    "plt.xlabel('arbitrary')\n",
    "plt.legend()\n",
    "thress = np.linspace(0, 0.1, 11)\n",
    "match_rates = []\n",
    "trial_ratios = []\n",
    "for thres in thress:\n",
    "    a, b = sum([abs(x) > thres for x in dpsi_match]), sum([abs(x) > thres for x in dpsi_not])\n",
    "    match_rates.append(a/(a+b))\n",
    "    trial_ratios.append((a+b)/len(side_pred))\n",
    "plt.figure()\n",
    "plt.scatter(thress, match_rates, label='Match Rate')\n",
    "plt.scatter(thress, trial_ratios, label='Trial Ratio')\n",
    "plt.legend()\n",
    "plt.ylabel('Percentage')\n",
    "plt.xlabel('dpsi')\n",
    "# print(a/(a+b), ' matching rate for trials with initial dpsi smaller than ', thres)\n"
   ]
  },
  {
   "cell_type": "code",
   "execution_count": 13,
   "metadata": {},
   "outputs": [
    {
     "name": "stdout",
     "output_type": "stream",
     "text": [
      "849\n",
      "924\n"
     ]
    }
   ],
   "source": [
    "'''Check trial length from match_onset to stimuli_out'''\n",
    "match_onsets = []\n",
    "lens = []\n",
    "for i in range(len(data.trajs)):\n",
    "    if i not in data.dump:\n",
    "        p0 = data.info['p_subj'][i]\n",
    "        p1 = data.info['p_obst'][i]\n",
    "        v0 = data.info['v_subj'][i]\n",
    "        v1 = data.info['v_obst'][i]\n",
    "        stimuli_out = data.info['stimuli_out'][i]\n",
    "        stimuli_onset = data.info['stimuli_onset'][i]\n",
    "        match_onset = data.info['match_onset'][i]\n",
    "        dpsis = d_psi(p0, p1, v0, v1)\n",
    "        if stimuli_out - match_onset <= 30:\n",
    "            plt.plot(dpsis)\n",
    "            plt.plot(dpsis[match_onset:stimuli_out])\n",
    "            print(i)\n",
    "        match_onsets.append(data.info['match_onset'][i])\n",
    "        lens.append(data.info['stimuli_out'][i] - data.info['match_onset'][i])\n",
    "# plt.hist(match_onsets)\n",
    "# plt.figure()\n",
    "# plt.hist(lens)"
   ]
  },
  {
   "cell_type": "code",
   "execution_count": null,
   "metadata": {},
   "outputs": [],
   "source": [
    "'''Approach data'''\n",
    "'''Plot data by condition'''\n",
    "#####################\n",
    "subject = 0\n",
    "s0 = [1.4]\n",
    "d0 = [8]\n",
    "angle = [15]\n",
    "s0 = set(data2.info['goal_s0'])\n",
    "d0 = set(data2.info['goal_d0'])\n",
    "angle = set(data2.info['goal_angle'])\n",
    "#####################\n",
    "%matplotlib qt\n",
    "plt.figure()\n",
    "for i in range(len(data2.trajs)):\n",
    "    goal_s0 = data2.info['goal_s0'][i]\n",
    "    goal_d0 = data2.info['goal_d0'][i]\n",
    "    goal_angle = data2.info['goal_angle'][i]\n",
    "    subj_id = data2.info['subj_id'][i]\n",
    "    if subj_id != subject:\n",
    "        continue\n",
    "    if not (goal_s0 in s0 and goal_d0 in d0 and abs(goal_angle) in angle):\n",
    "        continue\n",
    "    subj = np.array(data2.info['p_subj'][i])\n",
    "    goal = np.array(data2.info['p_goal'][i])\n",
    "    if i % 2 == 0:\n",
    "        subj = rotate(subj, np.arctan(11 / 9) - pi / 2)\n",
    "        goal = rotate(goal, np.arctan(11 / 9) - pi / 2)\n",
    "    else:\n",
    "        subj = rotate(subj, np.arctan(11 / 9) + pi / 2)\n",
    "        goal = rotate(goal, np.arctan(11 / 9) + pi / 2)\n",
    "#     if goal_angle < 0:\n",
    "#         subj[:, 0] *= -1\n",
    "#         goal[:, 0] *= -1\n",
    "    plt.plot(subj[:, 0], subj[:, 1])\n",
    "    print(subj)\n",
    "    plt.plot(goal[:, 0], goal[:, 1])\n",
    "ax = plt.gca()\n",
    "ax.set_aspect('equal')\n",
    "ax.set_title(f'subj {str(subject)} angle: {str(angle)} s0: {str(s0)} d0: {str(d0)}')"
   ]
  },
  {
   "cell_type": "code",
   "execution_count": 3,
   "metadata": {},
   "outputs": [],
   "source": [
    "'''Cohen experiments'''\n",
    "file = os.path.abspath(os.path.join(os.getcwd(), os.pardir, 'Raw_Data', 'Cohen_movObst_exp1_data.pickle'))\n",
    "with open(file, 'rb') as f:\n",
    "    cohen1 = pickle.load(f)"
   ]
  },
  {
   "cell_type": "code",
   "execution_count": null,
   "metadata": {},
   "outputs": [],
   "source": [
    "cohen1.info['pass_order']\n",
    "# data.info['pass_order']"
   ]
  },
  {
   "cell_type": "code",
   "execution_count": 3,
   "metadata": {},
   "outputs": [
    {
     "name": "stdout",
     "output_type": "stream",
     "text": [
      "\n",
      "\n",
      "-1 b\"5133t[{'name': 'fajen_approach', 'b1': 2.01938384, 'k1': 4.90527274, 'c1': 2.96094879, 'c2': 0.50896525, 'k2': 1.61216734, 'ps': 1.3075058885951525}, {'name': 'cohen_avoid2', 'b1': 1.313894780845967, 'k1': 393.59559030933247, 'c5': 8.82965005381204, 'c6': 2.3410827991863172, 'b2': 0.0003485317797959908, 'k2': 66.77017554542931, 'c7': 7.602409489606929, 'c8': 1.5994854927685118, 'ps': 1.3075058885951525}]t0.19380049776952585torder_accuracyt0.835820895522388rn\"\n"
     ]
    }
   ],
   "source": [
    "''' Check optimal parameters from training results '''\n",
    "bests = {} \n",
    "path = os.path.abspath(os.path.join(os.getcwd(), os.pardir, 'Results', 'cohen_movObst1_cohen_avoid1&2&34&4_thres_differential_evolution'))\n",
    "filenames = [os.path.join(path, name) for name in os.listdir(path) if name[-3:] == 'txt']\n",
    "filenames = [filenames[2]]\n",
    "# b1s = []\n",
    "# k1s = []\n",
    "errs = []\n",
    "for filename in filenames:\n",
    "    with open(filename, 'rb') as f:\n",
    "        best = 0\n",
    "        e_min = float('inf')\n",
    "        for i, line in enumerate(f):\n",
    "            if i == 1:\n",
    "                subj_id = int(line[-4:-2])\n",
    "            if i >= 5:\n",
    "                try:\n",
    "                    err = str(line).split(\"\\\\t\")[-3][:10]\n",
    "                    if err[0] == '0':\n",
    "                        err = float(err)\n",
    "                        if err < e_min:\n",
    "                            e_min = err\n",
    "                            best = str(line).replace(\"\\\\\", \"\")\n",
    "                except:\n",
    "                    pass\n",
    "                # Find all parameters that have small error\n",
    "#                 if subj_id == 0 and float(err) < 0.16:\n",
    "#                     model = str(line).split(\"\\\\t\")[1].split(\"}\")[1][1:] + '}'\n",
    "#                     model = model.replace('\\'', '\\\"')\n",
    "#                     d = json.loads(model)\n",
    "#                     b1s.append(d['b1'])\n",
    "#                     k1s.append(d['k1'])\n",
    "#                     errs.append(float(err))\n",
    "    bests[subj_id] = best\n",
    "for i, best in bests.items():\n",
    "    print('\\n')\n",
    "    print(i, best)"
   ]
  },
  {
   "cell_type": "code",
   "execution_count": 70,
   "metadata": {},
   "outputs": [
    {
     "data": {
      "text/plain": [
       "{-1: 'b\"5226t[{\\'name\\': \\'fajen_approach2\\', \\'b1\\': 2.04992354, \\'k1\\': 2.85641543, \\'c1\\': 0.54294928, \\'c2\\': 0.73857217, \\'b2\\': 3.89580222, \\'k2\\': 5.04511601, \\'ps\\': 1.3075058885951525}, {\\'name\\': \\'cohen_avoid4_thres\\', \\'k1\\': 2.88211554599569, \\'c5\\': 1.8402080467654376, \\'c6\\': 10.786835005989973, \\'k2\\': 3.380457830359567, \\'c7\\': 5.4360445618996565, \\'c8\\': 12.67287871326611, \\'thres\\': 0.006145124061037794, \\'ps\\': 1.3075058885951525}]t0.1816487976225869torder_accuracyt0.672636815920398rn\"'}"
      ]
     },
     "execution_count": 70,
     "metadata": {},
     "output_type": "execute_result"
    }
   ],
   "source": [
    "bests"
   ]
  },
  {
   "cell_type": "code",
   "execution_count": 54,
   "metadata": {},
   "outputs": [
    {
     "data": {
      "text/plain": [
       "<matplotlib.collections.PathCollection at 0x2dabdf0cf60>"
      ]
     },
     "execution_count": 54,
     "metadata": {},
     "output_type": "execute_result"
    }
   ],
   "source": [
    "%matplotlib qt\n",
    "plt.plot(errs)\n",
    "plt.figure()\n",
    "plt.scatter(b1s, k1s)"
   ]
  }
 ],
 "metadata": {
  "kernelspec": {
   "display_name": "Python 3",
   "language": "python",
   "name": "python3"
  },
  "language_info": {
   "codemirror_mode": {
    "name": "ipython",
    "version": 3
   },
   "file_extension": ".py",
   "mimetype": "text/x-python",
   "name": "python",
   "nbconvert_exporter": "python",
   "pygments_lexer": "ipython3",
   "version": "3.7.9"
  }
 },
 "nbformat": 4,
 "nbformat_minor": 2
}
