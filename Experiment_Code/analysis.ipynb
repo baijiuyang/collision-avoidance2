{
 "cells": [
  {
   "cell_type": "code",
   "execution_count": 1,
   "metadata": {},
   "outputs": [],
   "source": [
    "import os\n",
    "import sys\n",
    "from scipy.integrate import solve_ivp\n",
    "import numpy as np\n",
    "from numpy.linalg import norm\n",
    "from numpy import sqrt\n",
    "from math import pi\n",
    "import pickle\n",
    "import matplotlib.pyplot as plt\n",
    "from packages import data_container\n",
    "from packages.data_container import Data\n",
    "from packages.helper import play_trajs, rotate, sp2a, v2sp, dist, psi, beta, d_theta, d_psi\n",
    "from packages.ode_simulator import ODESimulator\n",
    "# For pickle to load the Data object, which is defined in packages.data_container\n",
    "sys.modules['data_container'] = data_container\n"
   ]
  },
  {
   "cell_type": "code",
   "execution_count": 11,
   "metadata": {},
   "outputs": [],
   "source": [
    "file = os.path.abspath(os.path.join(os.getcwd(), os.pardir, 'Raw Data', 'Bai_movObst1_data.pickle'))\n",
    "with open(file, 'rb') as f:\n",
    "    data = pickle.load(f)"
   ]
  },
  {
   "cell_type": "code",
   "execution_count": 69,
   "metadata": {},
   "outputs": [
    {
     "data": {
      "text/plain": [
       "{-180.0, -157.5, -135.0, -112.5, -90.0, 0.0, 90.0, 112.5, 135.0, 157.5, 180.0}"
      ]
     },
     "execution_count": 69,
     "metadata": {},
     "output_type": "execute_result"
    }
   ],
   "source": [
    "set(data.info['obst_angle'])\n",
    "# set(data.info['obst_speed'])"
   ]
  },
  {
   "cell_type": "code",
   "execution_count": 39,
   "metadata": {},
   "outputs": [
    {
     "data": {
      "text/plain": [
       "<matplotlib.animation.FuncAnimation at 0x1fa31903470>"
      ]
     },
     "execution_count": 39,
     "metadata": {},
     "output_type": "execute_result"
    }
   ],
   "source": [
    "'''Animate data'''\n",
    "%matplotlib qt\n",
    "i = 1\n",
    "# p_obst = np.array(data.info['p_obst'][i])\n",
    "t0 = data.info['stimuli_onset'][i]\n",
    "p_goal = np.array(data.info['p_goal'][i])\n",
    "p_subj = np.array(data.get_traj(i))[:,[0,2]]\n",
    "p_obst = np.array(data.info['p_obst'][i])\n",
    "trajs = [p_goal, p_obst, p_subj]\n",
    "ws = [data.info['w_goal'], data.info['w_obst'], 0.4]\n",
    "play_trajs(trajs, ws, data.Hz)"
   ]
  },
  {
   "cell_type": "code",
   "execution_count": 120,
   "metadata": {},
   "outputs": [
    {
     "data": {
      "text/plain": [
       "Text(0.5, 1.0, 'angle: 180 speed: 1.3')"
      ]
     },
     "execution_count": 120,
     "metadata": {},
     "output_type": "execute_result"
    }
   ],
   "source": [
    "'''Plot data by condition'''\n",
    "%matplotlib qt\n",
    "plt.figure()\n",
    "con_ang = [180]\n",
    "con_spd = [1.3]\n",
    "for i in range(len(data.trajs)):\n",
    "    obst_speed = data.info['obst_speed'][i]\n",
    "    obst_angle = data.info['obst_angle'][i]\n",
    "    if not (obst_speed in con_spd and abs(obst_angle) in con_ang):\n",
    "        continue\n",
    "    subj = np.array(data.get_traj(i))[:, [0,2]]\n",
    "    obst = np.array(data.info['p_obst'][i])\n",
    "    if i % 2 == 0:\n",
    "        subj = rotate(subj, np.arctan(11 / 9) - pi / 2)\n",
    "        obst = rotate(obst, np.arctan(11 / 9) - pi / 2)\n",
    "    else:\n",
    "        subj = rotate(subj, np.arctan(11 / 9) + pi / 2)\n",
    "        obst = rotate(obst, np.arctan(11 / 9) + pi / 2)\n",
    "    if obst_angle < 0:\n",
    "        subj[:, 0] *= -1\n",
    "        obst[:, 0] *= -1\n",
    "    plt.plot(subj[:, 0], subj[:, 1])\n",
    "    plt.plot(obst[:, 0], obst[:, 1])\n",
    "ax = plt.gca()\n",
    "ax.set_aspect('equal')\n",
    "ax.set_title('angle: ' + str(con_ang[0]) + ' speed: ' + str(con_spd[0]))"
   ]
  },
  {
   "cell_type": "code",
   "execution_count": 2,
   "metadata": {},
   "outputs": [
    {
     "name": "stdout",
     "output_type": "stream",
     "text": [
      "Simulation finished in 0:00:00\n"
     ]
    }
   ],
   "source": [
    "'''ode simulation'''\n",
    "%matplotlib qt\n",
    "Hz = 100\n",
    "xg0, yg0, xo0, yo0, x0, y0 = 0, 10, 1, 10, 0, 0\n",
    "vxo0, vyo0, vx0, vy0 = 0, -1, 0, 1\n",
    "s0, phi0 = v2sp([vx0, vy0])\n",
    "dphi0 = 0\n",
    "var0 = [xg0, yg0, xo0, yo0, vxo0, vyo0, x0, y0, vx0, vy0, phi0, s0, dphi0]\n",
    "Fajen_approach = {'name': 'Fajen_approach', 'ps': 1, 'b1': 3.25, 'k1': 7.5, 'c1': 0.4, 'c2': 0.4, 'k2': 1.4}\n",
    "Cohen_avoid2 = {'name': 'Cohen_avoid2', 'ps': 1, 'b1': 2.62, 'k1': 375, 'c5': 11, 'c6': 0.87, 'b2': -0.68, 'k2': -476, 'c7': 57.84, 'c8': 18.18}\n",
    "# TODO test only approach model (compare with old simulator) and two models combined, then add visual var to avoid model\n",
    "models = [Fajen_approach, Cohen_avoid2]\n",
    "args = {'w_goal': 0.1, 'w_obst': 0.1}\n",
    "sim = ODESimulator(90, var0, models, args, [0, 1])\n",
    "sim.simulate(10)\n",
    "sim.play()"
   ]
  }
 ],
 "metadata": {
  "kernelspec": {
   "display_name": "avoidance",
   "language": "python",
   "name": "avoidance"
  },
  "language_info": {
   "codemirror_mode": {
    "name": "ipython",
    "version": 3
   },
   "file_extension": ".py",
   "mimetype": "text/x-python",
   "name": "python",
   "nbconvert_exporter": "python",
   "pygments_lexer": "ipython3",
   "version": "3.6.10"
  }
 },
 "nbformat": 4,
 "nbformat_minor": 2
}
