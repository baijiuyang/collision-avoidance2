{
 "cells": [
  {
   "cell_type": "code",
   "execution_count": 15,
   "metadata": {},
   "outputs": [],
   "source": [
    "import os\n",
    "import sys\n",
    "from scipy.integrate import solve_ivp\n",
    "import numpy as np\n",
    "from numpy.linalg import norm\n",
    "from numpy import sqrt\n",
    "from math import pi\n",
    "import pickle\n",
    "import matplotlib.pyplot as plt\n",
    "from packages import data_container\n",
    "from packages.data_container import Data\n",
    "from packages.helper import play_trajs, rotate, sp2a, v2sp, dist, psi, beta, d_theta, d_psi\n",
    "# For pickle to load the Data object, which is defined in packages.data_container\n",
    "sys.modules['data_container'] = data_container\n"
   ]
  },
  {
   "cell_type": "code",
   "execution_count": 11,
   "metadata": {},
   "outputs": [],
   "source": [
    "file = os.path.abspath(os.path.join(os.getcwd(), os.pardir, 'Raw Data', 'Bai_movObst1_data.pickle'))\n",
    "with open(file, 'rb') as f:\n",
    "    data = pickle.load(f)"
   ]
  },
  {
   "cell_type": "code",
   "execution_count": 69,
   "metadata": {},
   "outputs": [
    {
     "data": {
      "text/plain": [
       "{-180.0, -157.5, -135.0, -112.5, -90.0, 0.0, 90.0, 112.5, 135.0, 157.5, 180.0}"
      ]
     },
     "execution_count": 69,
     "metadata": {},
     "output_type": "execute_result"
    }
   ],
   "source": [
    "set(data.info['obst_angle'])\n",
    "# set(data.info['obst_speed'])"
   ]
  },
  {
   "cell_type": "code",
   "execution_count": 39,
   "metadata": {},
   "outputs": [
    {
     "data": {
      "text/plain": [
       "<matplotlib.animation.FuncAnimation at 0x1fa31903470>"
      ]
     },
     "execution_count": 39,
     "metadata": {},
     "output_type": "execute_result"
    }
   ],
   "source": [
    "'''Animate data'''\n",
    "%matplotlib qt\n",
    "i = 1\n",
    "# p_obst = np.array(data.info['p_obst'][i])\n",
    "t0 = data.info['stimuli_onset'][i]\n",
    "p_goal = np.array(data.info['p_goal'][i])\n",
    "p_subj = np.array(data.get_traj(i))[:,[0,2]]\n",
    "p_obst = np.array(data.info['p_obst'][i])\n",
    "trajs = [p_goal, p_obst, p_subj]\n",
    "ws = [data.info['w_goal'], data.info['w_obst'], 0.4]\n",
    "play_trajs(trajs, ws, data.Hz)"
   ]
  },
  {
   "cell_type": "code",
   "execution_count": 120,
   "metadata": {},
   "outputs": [
    {
     "data": {
      "text/plain": [
       "Text(0.5, 1.0, 'angle: 180 speed: 1.3')"
      ]
     },
     "execution_count": 120,
     "metadata": {},
     "output_type": "execute_result"
    }
   ],
   "source": [
    "'''Plot data by condition'''\n",
    "%matplotlib qt\n",
    "plt.figure()\n",
    "con_ang = [180]\n",
    "con_spd = [1.3]\n",
    "for i in range(len(data.trajs)):\n",
    "    obst_speed = data.info['obst_speed'][i]\n",
    "    obst_angle = data.info['obst_angle'][i]\n",
    "    if not (obst_speed in con_spd and abs(obst_angle) in con_ang):\n",
    "        continue\n",
    "    subj = np.array(data.get_traj(i))[:, [0,2]]\n",
    "    obst = np.array(data.info['p_obst'][i])\n",
    "    if i % 2 == 0:\n",
    "        subj = rotate(subj, np.arctan(11 / 9) - pi / 2)\n",
    "        obst = rotate(obst, np.arctan(11 / 9) - pi / 2)\n",
    "    else:\n",
    "        subj = rotate(subj, np.arctan(11 / 9) + pi / 2)\n",
    "        obst = rotate(obst, np.arctan(11 / 9) + pi / 2)\n",
    "    if obst_angle < 0:\n",
    "        subj[:, 0] *= -1\n",
    "        obst[:, 0] *= -1\n",
    "    plt.plot(subj[:, 0], subj[:, 1])\n",
    "    plt.plot(obst[:, 0], obst[:, 1])\n",
    "ax = plt.gca()\n",
    "ax.set_aspect('equal')\n",
    "ax.set_title('angle: ' + str(con_ang[0]) + ' speed: ' + str(con_spd[0]))"
   ]
  },
  {
   "cell_type": "code",
   "execution_count": 22,
   "metadata": {},
   "outputs": [
    {
     "data": {
      "text/plain": [
       "array([[0. , 0.5, 2. , 4.5],\n",
       "       [0. , 1. , 2. , 3. ]])"
      ]
     },
     "execution_count": 22,
     "metadata": {},
     "output_type": "execute_result"
    }
   ],
   "source": [
    "'''ode45 simuation toy example'''\n",
    "def funcs(t, w, models):\n",
    "    def linear(w, a):\n",
    "        x, v = w\n",
    "        dwdt = [v, a]\n",
    "        return dwdt\n",
    "    \n",
    "    def linear2(w, a):\n",
    "        x, v = w\n",
    "        dwdt = [v, a]\n",
    "        return dwdt\n",
    "    \n",
    "    dwdt = np.zeros_like(w)\n",
    "    # Set first order derivative\n",
    "    dwdt[0] = w[1]\n",
    "    \n",
    "    # Set second order derivative\n",
    "    for model in models:\n",
    "        if model['name'] == 'linear':\n",
    "            a = model['a']\n",
    "            dwdt[1] += linear(w, a)[1]\n",
    "        elif model['name'] == 'linear2':\n",
    "            a = model['a']\n",
    "            dwdt[1] += linear2(w, a)[1]\n",
    "\n",
    "    return dwdt\n",
    "w0 = [0, 0]\n",
    "model1 = {'name': 'linear', 'a': 2}\n",
    "model2 = {'name': 'linear2', 'a': -1}\n",
    "models = [model1, model2]\n",
    "sol = solve_ivp(funcs, [0, 10], [0, 0], t_eval=[0, 1, 2, 3], args=[models])\n",
    "sol.y"
   ]
  },
  {
   "cell_type": "code",
   "execution_count": 54,
   "metadata": {},
   "outputs": [],
   "source": [
    "'''ode45 simulation sp version'''\n",
    "def ode_func(t, var, models, args):\n",
    "    xg, yg, xo, yo, vxo, vyo, x, y, vx, vy, phi, s, dphi = var\n",
    "    ref, w_goal, w_obst = args['ref'], args['w_goal'], args['w_obst']\n",
    "    r_g = dist([x, y], [xg, yg])\n",
    "    psi_g = psi([x, y], [xg, yg], ref=ref)\n",
    "    beta_o = beta([x, y], [xo, yo], [vx, vy])\n",
    "    d_theta_o = d_theta([x, y], [xo, yo], [vx, vy], [vxo, vyo], w_obst)\n",
    "    d_psi_o = d_psi([x, y], [xo, yo], [vx, vy], [vxo, vyo])\n",
    "    sigmoid = 1 / (1 + np.exp(20 * (np.absolute(beta_o) - 1.3)))\n",
    "\n",
    "    def Fajen_approach(args):    \n",
    "        ps, b1, k1, c1, c2, k2 = args['ps'], args['b1'], args['k1'], args['c1'], args['c2'], args['k2']\n",
    "        ddphi = -b1 * dphi - k1 * (phi - psi_g) * (np.exp(-c1 * r_g) + c2)\n",
    "        ds = k2 * (ps - s)\n",
    "        ax, ay = sp2a(s, ds, phi, dphi, ref=ref)\n",
    "        output = [ax, ay, ds, ddphi]\n",
    "        return output\n",
    "    \n",
    "    # Known issue: When d_psi_o is zero, it becomes a null model.\n",
    "    def Cohen_avoid2(args):\n",
    "        ps, b1, k1, c5, c6, b2, k2, c7, c8 = args['ps'], args['b1'], args['k1'], args['c5'], args['c6'], args['b2'], args['k2'], args['c7'], args['c8']\n",
    "        ddphi = -b1 * dphi - d_psi_o * k1 * np.exp(-c5 * np.absolute(d_psi_o)) * (1 - np.exp(-c6 * np.maximum(0, d_theta_o))) * sigmoid\n",
    "        ds = b2 * (ps - s) + d_psi_o * k2 * np.exp(-c7 * np.absolute(d_psi_o)) * (1 - np.exp(-c8 * np.maximum(0, d_theta_o))) * sigmoid\n",
    "        ax, ay = sp2a(s, ds, phi, dphi, ref=ref)\n",
    "        output = [ax, ay, ds, ddphi]\n",
    "        return output\n",
    "    \n",
    "    output = np.array([0.0] * 4)\n",
    "    for model in models:\n",
    "        if model['name'] == 'Cohen_avoid2':\n",
    "            output += np.array(Cohen_avoid2(model))\n",
    "        elif model['name'] == 'Fajen_approach':\n",
    "            output += np.array(Fajen_approach(model))\n",
    "    # xg, yg, xo, yo, vxo, vyo, x, y, vx, vy, phi, s, dphi = var\n",
    "    dvardt = [0, 0, vxo, vyo, 0, 0, vx, vy, output[0], output[1], dphi, output[2], output[3]]\n",
    "    return dvardt\n",
    "\n",
    "xg0, yg0, xo0, yo0, x0, y0 = 0, 10, 1, 10, 0, 0\n",
    "vxo0, vyo0, vx0, vy0 = 0, -1, 0, 1\n",
    "s0, phi0 = v2sp([vx0, vy0])\n",
    "dphi0 = 0\n",
    "var0 = [xg0, yg0, xo0, yo0, vxo0, vyo0, x0, y0, vx0, vy0, phi0, s0, dphi0]\n",
    "Fajen_approach = {'name': 'Fajen_approach', 'ps': 1, 'b1': 3.25, 'k1': 7.5, 'c1': 0.4, 'c2': 0.4, 'k2': 1.4}\n",
    "Cohen_avoid2 = {'name': 'Cohen_avoid2', 'ps': 1, 'b1': 2.62, 'k1': 375, 'c5': 11, 'c6': 0.87, 'b2': -0.68, 'k2': -476, 'c7': 57.84, 'c8': 18.18}\n",
    "# TODO test only approach model (compare with old simulator) and two models combined, then add visual var to avoid model\n",
    "models = [Fajen_approach, Cohen_avoid2]\n",
    "Hz = 100\n",
    "t_total = 10\n",
    "t_eval = np.linspace(0, t_total, t_total * Hz)\n",
    "args = {'ref': [0,  1], 'w_goal': 0.1, 'w_obst': 0.1}\n",
    "sol = solve_ivp(ode_func, [0, 10], var0, t_eval=t_eval, args=[models, args])\n",
    "xg, yg, xo, yo, vxo, vyo, x, y, vx, vy, phi, s, dphi = sol.y"
   ]
  },
  {
   "cell_type": "code",
   "execution_count": null,
   "metadata": {},
   "outputs": [],
   "source": []
  },
  {
   "cell_type": "code",
   "execution_count": 55,
   "metadata": {},
   "outputs": [
    {
     "data": {
      "text/plain": [
       "<matplotlib.animation.FuncAnimation at 0x15cc5c30a58>"
      ]
     },
     "execution_count": 55,
     "metadata": {},
     "output_type": "execute_result"
    }
   ],
   "source": [
    "%matplotlib qt\n",
    "p_goal = np.stack((xg, yg), axis=-1)\n",
    "p_obst = np.stack((xo, yo), axis=-1)\n",
    "p_model = np.stack((x, y), axis=-1)\n",
    "ws = [.1, 0.1, 0.4]\n",
    "Hz = 90\n",
    "play_trajs([p_goal, p_obst, p_model], ws, Hz)"
   ]
  }
 ],
 "metadata": {
  "kernelspec": {
   "display_name": "avoidance",
   "language": "python",
   "name": "avoidance"
  },
  "language_info": {
   "codemirror_mode": {
    "name": "ipython",
    "version": 3
   },
   "file_extension": ".py",
   "mimetype": "text/x-python",
   "name": "python",
   "nbconvert_exporter": "python",
   "pygments_lexer": "ipython3",
   "version": "3.6.10"
  }
 },
 "nbformat": 4,
 "nbformat_minor": 2
}
