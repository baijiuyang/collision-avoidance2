{
 "cells": [
  {
   "cell_type": "code",
   "execution_count": 2,
   "metadata": {},
   "outputs": [],
   "source": [
    "import os\n",
    "import sys\n",
    "from scipy.integrate import solve_ivp\n",
    "import numpy as np\n",
    "from numpy.linalg import norm\n",
    "from numpy import sqrt\n",
    "from sklearn.metrics import accuracy_score\n",
    "from math import pi\n",
    "import pickle\n",
    "import matplotlib.pyplot as plt\n",
    "from packages import data_container\n",
    "from packages.data_container import Data\n",
    "from packages.helper import play_trajs, rotate, sp2a, v2sp, dist, psi, beta, d_theta, d_psi, sp2v, dist, min_dist\n",
    "from packages.ode_simulator import ODESimulator\n",
    "# For pickle to load the Data object, which is defined in packages.data_container\n",
    "sys.modules['data_container'] = data_container\n",
    "\n",
    "file = os.path.abspath(os.path.join(os.getcwd(), os.pardir, 'Raw_Data', 'Bai_movObst1_data.pickle'))\n",
    "with open(file, 'rb') as f:\n",
    "    data = pickle.load(f)\n",
    "file = os.path.abspath(os.path.join(os.getcwd(), os.pardir, 'Raw_Data', 'Bai_movObst1b_data.pickle'))\n",
    "with open(file, 'rb') as f:\n",
    "    data2 = pickle.load(f)"
   ]
  },
  {
   "cell_type": "code",
   "execution_count": 56,
   "metadata": {},
   "outputs": [
    {
     "data": {
      "text/plain": [
       "236"
      ]
     },
     "execution_count": 56,
     "metadata": {},
     "output_type": "execute_result"
    }
   ],
   "source": [
    "set(data.info['subj_id'])\n",
    "# set(data.info['obst_speed'])\n",
    "data.info['stimuli_onset'][7]\n"
   ]
  },
  {
   "cell_type": "code",
   "execution_count": 3,
   "metadata": {},
   "outputs": [
    {
     "data": {
      "text/plain": [
       "<matplotlib.animation.FuncAnimation at 0x17b153e8780>"
      ]
     },
     "execution_count": 3,
     "metadata": {},
     "output_type": "execute_result"
    }
   ],
   "source": [
    "'''Animate data'''\n",
    "############\n",
    "subject = 0\n",
    "trial = 31\n",
    "\n",
    "############\n",
    "%matplotlib qt\n",
    "i = subject * 160 + trial - 1\n",
    "# p_obst = np.array(data.info['p_obst'][i])\n",
    "t0 = data.info['stimuli_onset'][i]\n",
    "p_goal = data.info['p_goal'][i]\n",
    "p_subj = data.info['p_subj'][i]\n",
    "p_obst = data.info['p_obst'][i]\n",
    "trajs = [p_goal, p_obst, p_subj]\n",
    "ws = [data.info['w_goal'], data.info['w_obst'], 0.4]\n",
    "title = 'subj ' + str(data.info['subj_id'][i]) + ' trial ' + str(data.info['trial_id'][i]) + ' obst_angle: ' + str(data.info['obst_angle'][i]) + ' obst_speed: ' + str(data.info['obst_speed'][i])\n",
    "play_trajs(trajs, ws, data.Hz, title=title)\n"
   ]
  },
  {
   "cell_type": "code",
   "execution_count": 4,
   "metadata": {},
   "outputs": [
    {
     "data": {
      "text/plain": [
       "Text(0.5, 1.0, 'subj 2 angle: 90 speed: 1.2')"
      ]
     },
     "execution_count": 4,
     "metadata": {},
     "output_type": "execute_result"
    }
   ],
   "source": [
    "'''Plot data by condition'''\n",
    "#####################\n",
    "subject = 2\n",
    "con_ang = [90]\n",
    "con_spd = [1.2]\n",
    "# con_ang = set(data.info['obst_angle'])\n",
    "# con_spd = set(data.info['obst_speed'])\n",
    "#####################\n",
    "%matplotlib qt\n",
    "plt.figure()\n",
    "for i in range(len(data.trajs)):\n",
    "    obst_speed = data.info['obst_speed'][i]\n",
    "    obst_angle = data.info['obst_angle'][i]\n",
    "    subj_id = data.info['subj_id'][i]\n",
    "    if subj_id != subject:\n",
    "        continue\n",
    "    if not (obst_speed in con_spd and abs(obst_angle) in con_ang):\n",
    "        continue\n",
    "    subj = np.array(data.get_traj(i))\n",
    "    obst = np.array(data.info['p_obst'][i])\n",
    "    if i % 2 == 0:\n",
    "        subj = rotate(subj, np.arctan(11 / 9) - pi / 2)\n",
    "        obst = rotate(obst, np.arctan(11 / 9) - pi / 2)\n",
    "    else:\n",
    "        subj = rotate(subj, np.arctan(11 / 9) + pi / 2)\n",
    "        obst = rotate(obst, np.arctan(11 / 9) + pi / 2)\n",
    "    if obst_angle < 0:\n",
    "        subj[:, 0] *= -1\n",
    "        obst[:, 0] *= -1\n",
    "    plt.plot(subj[:, 0], subj[:, 1])\n",
    "    plt.plot(obst[:, 0], obst[:, 1])\n",
    "ax = plt.gca()\n",
    "ax.set_aspect('equal')\n",
    "ax.set_title('subj ' + str(subject) + ' angle: ' + str(con_ang[0]) + ' speed: ' + str(con_spd[0]))"
   ]
  },
  {
   "cell_type": "code",
   "execution_count": 3,
   "metadata": {},
   "outputs": [],
   "source": [
    "'''Plot data by subject'''\n",
    "#####################\n",
    "subject = 3\n",
    "#####################\n",
    "%matplotlib qt\n",
    "fig = plt.figure()\n",
    "fig.suptitle('Subject ' + str(subject))\n",
    "axes = {}\n",
    "obst_angle = [90, 112.5, 135, 157.5, 180]\n",
    "obst_speed = [0.9, 1.0, 1.1, 1.2, 1.3]\n",
    "i_plot = 1\n",
    "for angle in obst_angle:\n",
    "    for speed in obst_speed:\n",
    "        axes[(angle, speed)] = fig.add_subplot(5, 5, i_plot)\n",
    "        axes[(angle, speed)].set_xlim(-3, 3)\n",
    "        axes[(angle, speed)].set_ylim(-7, 5)\n",
    "        axes[(angle, speed)].set_title(str(angle) + '° ' + str(speed) + 'm/s')\n",
    "        axes[(angle, speed)].set_aspect('equal')\n",
    "        i_plot += 1\n",
    "for i in range(len(data.trajs)):\n",
    "    speed = data.info['obst_speed'][i]\n",
    "    angle = data.info['obst_angle'][i]\n",
    "    subj_id = data.info['subj_id'][i]\n",
    "    if subj_id != subject or speed == 0:\n",
    "        continue\n",
    "    subj = np.array(data.get_traj(i))\n",
    "    obst = np.array(data.info['p_obst'][i])\n",
    "    if i % 2 == 0:\n",
    "        subj = rotate(subj, np.arctan(11 / 9) - pi / 2)\n",
    "        obst = rotate(obst, np.arctan(11 / 9) - pi / 2)\n",
    "    else:\n",
    "        subj = rotate(subj, np.arctan(11 / 9) + pi / 2)\n",
    "        obst = rotate(obst, np.arctan(11 / 9) + pi / 2)\n",
    "    if angle < 0:\n",
    "        subj[:, 0] *= -1\n",
    "        obst[:, 0] *= -1\n",
    "    axes[(abs(angle), speed)].plot(subj[:, 0], subj[:, 1])\n",
    "    axes[(abs(angle), speed)].plot(obst[:, 0], obst[:, 1])"
   ]
  },
  {
   "cell_type": "code",
   "execution_count": 9,
   "metadata": {},
   "outputs": [
    {
     "name": "stdout",
     "output_type": "stream",
     "text": [
      "Loading finished\n",
      "passing order matching rate  0.7138888888888889\n",
      "0.6703662597114317  matching rate for trials with initial dpsi smaller than  0.02\n"
     ]
    },
    {
     "data": {
      "image/png": "[encoded data removed]",
      "text/plain": [
       "<Figure size 432x288 with 1 Axes>"
      ]
     },
     "metadata": {
      "needs_background": "light"
     },
     "output_type": "display_data"
    }
   ],
   "source": [
    "'''Check initial dpsi and subject passing choice, plot dpsi of matching and non-matching trials'''\n",
    "sim = ODESimulator(data=data, ref=[0,1])\n",
    "side_pred = []\n",
    "side_true = []\n",
    "subjects = range(9)\n",
    "dpsi_match = []\n",
    "dpsi_not = []\n",
    "for i in range(len(sim.data.trajs)):\n",
    "    if (sim.data.info['subj_id'][i] in subjects and\n",
    "        sim.data.info['obst_speed'][i] != 0 and\n",
    "        abs(sim.data.info['obst_angle'][i]) != 180):\n",
    "        xg, yg, xo, yo, vxo, vyo, x, y, vx, vy, phi, s, dphi, ds = sim.compute_var0(i, sim.data.info['stimuli_onset'][i])\n",
    "        # When beta and dpsi has the same sign it means pass in front, otherwise it means pass from behind\n",
    "        dpsi = d_psi([x, y], [xo, yo], [vx, vy], [vxo, vyo])\n",
    "        b = beta([x, y], [xo, yo], [vx, vy])\n",
    "        side_pred.append(b * dpsi > 0)\n",
    "        subj = sim.data.get_traj(i)\n",
    "        obst = sim.data.info['p_obst'][i]\n",
    "        _, mind = min_dist(subj, obst)\n",
    "        side_true.append(mind > 0)\n",
    "        if side_pred[-1] == side_true[-1]:\n",
    "            dpsi_match.append(dpsi)\n",
    "        else:\n",
    "            dpsi_not.append(dpsi)\n",
    "print('passing order matching rate ', accuracy_score(side_true, side_pred))\n",
    "plt.scatter(np.random.uniform(size=len(dpsi_match)), dpsi_match, label='matching trials')\n",
    "plt.scatter(np.random.uniform(size=len(dpsi_not)), dpsi_not, label='non-matching trials')\n",
    "plt.ylabel('dpsi')\n",
    "plt.xlabel('arbitrary')\n",
    "plt.legend()\n",
    "thres = 0.02\n",
    "a, b = sum([abs(x) < thres for x in dpsi_match]), sum([abs(x) < thres for x in dpsi_not])\n",
    "print(a/(a+b), ' matching rate for trials with initial dpsi smaller than ', thres)"
   ]
  },
  {
   "cell_type": "code",
   "execution_count": 2,
   "metadata": {},
   "outputs": [
    {
     "ename": "ValueError",
     "evalue": "could not convert string to float: '0.975\\\\r\\\\n\"'",
     "output_type": "error",
     "traceback": [
      "\u001b[1;31m---------------------------------------------------------------------------\u001b[0m",
      "\u001b[1;31mValueError\u001b[0m                                Traceback (most recent call last)",
      "\u001b[1;32m<ipython-input-2-1ed5c44c572d>\u001b[0m in \u001b[0;36m<module>\u001b[1;34m\u001b[0m\n\u001b[0;32m     12\u001b[0m             \u001b[0merr\u001b[0m \u001b[1;33m=\u001b[0m \u001b[0mstr\u001b[0m\u001b[1;33m(\u001b[0m\u001b[0mline\u001b[0m\u001b[1;33m)\u001b[0m\u001b[1;33m.\u001b[0m\u001b[0msplit\u001b[0m\u001b[1;33m(\u001b[0m\u001b[1;34m\"\\\\t\"\u001b[0m\u001b[1;33m)\u001b[0m\u001b[1;33m[\u001b[0m\u001b[1;33m-\u001b[0m\u001b[1;36m1\u001b[0m\u001b[1;33m]\u001b[0m\u001b[1;33m[\u001b[0m\u001b[1;33m:\u001b[0m\u001b[1;36m10\u001b[0m\u001b[1;33m]\u001b[0m\u001b[1;33m\u001b[0m\u001b[1;33m\u001b[0m\u001b[0m\n\u001b[0;32m     13\u001b[0m             \u001b[1;32mif\u001b[0m \u001b[0merr\u001b[0m\u001b[1;33m[\u001b[0m\u001b[1;36m0\u001b[0m\u001b[1;33m]\u001b[0m \u001b[1;33m==\u001b[0m \u001b[1;34m'0'\u001b[0m\u001b[1;33m:\u001b[0m\u001b[1;33m\u001b[0m\u001b[1;33m\u001b[0m\u001b[0m\n\u001b[1;32m---> 14\u001b[1;33m                 \u001b[0merr\u001b[0m \u001b[1;33m=\u001b[0m \u001b[0mfloat\u001b[0m\u001b[1;33m(\u001b[0m\u001b[0merr\u001b[0m\u001b[1;33m)\u001b[0m\u001b[1;33m\u001b[0m\u001b[1;33m\u001b[0m\u001b[0m\n\u001b[0m\u001b[0;32m     15\u001b[0m                 \u001b[1;32mif\u001b[0m \u001b[0merr\u001b[0m \u001b[1;33m<\u001b[0m \u001b[0me_min\u001b[0m\u001b[1;33m:\u001b[0m\u001b[1;33m\u001b[0m\u001b[1;33m\u001b[0m\u001b[0m\n\u001b[0;32m     16\u001b[0m                     \u001b[0me_min\u001b[0m \u001b[1;33m=\u001b[0m \u001b[0merr\u001b[0m\u001b[1;33m\u001b[0m\u001b[1;33m\u001b[0m\u001b[0m\n",
      "\u001b[1;31mValueError\u001b[0m: could not convert string to float: '0.975\\\\r\\\\n\"'"
     ]
    }
   ],
   "source": [
    "''' Check optimal parameters from training results '''\n",
    "bests = {} \n",
    "path = os.path.abspath(os.path.join(os.getcwd(), os.pardir, 'Results', 'cohen_avoid1_dynamic_match_order_dual_annealing'))\n",
    "filenames = [os.path.join(path, name) for name in os.listdir(path)]\n",
    "for filename in filenames:\n",
    "    with open(filename, 'rb') as f:\n",
    "        best = 0\n",
    "        e_min = float('inf')\n",
    "        for i, line in enumerate(f):\n",
    "            if i == 2:\n",
    "                subj_id = int(line[-4:-2])\n",
    "            err = str(line).split(\"\\\\t\")[-1][:10]\n",
    "            if err[0] == '0':\n",
    "                err = float(err)\n",
    "                if err < e_min:\n",
    "                    e_min = err\n",
    "                    best = str(line).replace(\"\\\\\", \"\")\n",
    "    bests[subj_id] = best"
   ]
  },
  {
   "cell_type": "code",
   "execution_count": 3,
   "metadata": {},
   "outputs": [
    {
     "name": "stdout",
     "output_type": "stream",
     "text": [
      "\n",
      "\n",
      "0 b\"3097t[{'name': 'fajen_approach', 'b1': 1.322399694018276, 'k1': 14.876666639462048, 'c1': 5.4374557807911295, 'c2': 0.10260590846412238, 'k2': 0.7564633997176441, 'ps': 1.282479471344188}]t0.07514032635121004rn\"\n",
      "\n",
      "\n",
      "1 b\"3685t[{'name': 'fajen_approach', 'b1': 0.8179416797170797, 'k1': 16.40077656118177, 'c1': 6.417008356831993, 'c2': 0.07993938648972572, 'k2': 0.8075364662966444, 'ps': 1.329331601172892}]t0.08859594997718775rn\"\n",
      "\n",
      "\n",
      "2 b\"2374t[{'name': 'fajen_approach', 'b1': 0.8909408398978989, 'k1': 4.641459981824929, 'c1': 5.516867857632004, 'c2': 0.31100646722160424, 'k2': 0.9262495070122934, 'ps': 1.2233195327965638}]t0.0905988159781522rn\"\n",
      "\n",
      "\n",
      "3 b\"3133t[{'name': 'fajen_approach', 'b1': 1.2318155085696687, 'k1': 0.44596523668254273, 'c1': 8.660447058122513, 'c2': 1.5467823698282144, 'k2': 0.2064201810751935, 'ps': 0.9872111178298977}]t0.14959330685010436rn\"\n",
      "\n",
      "\n",
      "4 b\"2728t[{'name': 'fajen_approach', 'b1': 0.9187400116180737, 'k1': 12.354994295866103, 'c1': 5.138764981999261, 'c2': 0.1150464883117947, 'k2': 0.8664462743167836, 'ps': 1.4286737076029379}]t0.08905604827467103rn\"\n",
      "\n",
      "\n",
      "5 b\"3169t[{'name': 'fajen_approach', 'b1': 1.2035286038289252, 'k1': 11.777197150843216, 'c1': 3.208109885882151, 'c2': 0.10077453224090854, 'k2': 0.17721496598944428, 'ps': 1.0751463986115937}]t0.12139193869236177rn\"\n",
      "\n",
      "\n",
      "6 b\"3241t[{'name': 'fajen_approach', 'b1': 1.067814211145924, 'k1': 3.442460688134991, 'c1': 8.719678312497393, 'c2': 0.4467038517464913, 'k2': 0.5873392854183639, 'ps': 1.31109726329129}]t0.10549063388431022rn\"\n",
      "\n",
      "\n",
      "7 b\"4197t[{'name': 'fajen_approach', 'b1': 1.684749413674761, 'k1': 3.66442070723263, 'c1': 5.8852457414157255, 'c2': 0.2952550401219027, 'k2': 0.5739458333379727, 'ps': 1.156007882055671}]t0.1691849894890684rn\"\n",
      "\n",
      "\n",
      "9 b\"3697t[{'name': 'fajen_approach', 'b1': 1.1936413326262518, 'k1': 1.5253260080485234, 'c1': 4.71969731760836, 'c2': 0.7389384145132375, 'k2': 0.37612127377107535, 'ps': 1.1967108147865295}]t0.1044408696777747rn\"\n",
      "\n",
      "\n",
      "10 b\"2263t[{'name': 'fajen_approach', 'b1': 1.2398029027292385, 'k1': 14.369326267732422, 'c1': 0.7651801554578793, 'c2': 0.13957426997817068, 'k2': 0.4360750101027109, 'ps': 1.056705515676128}]t0.11360625625824933rn\"\n",
      "\n",
      "\n",
      "8 b\"2866t[{'name': 'fajen_approach', 'b1': 1.2054388522573258, 'k1': 3.4363263877000607, 'c1': 1.9210228798200861, 'c2': 0.4370998404967321, 'k2': 0.4014795257504464, 'ps': 1.1563239895464452}]t0.12021142844642077rn\"\n"
     ]
    }
   ],
   "source": [
    "for i, best in bests.items():\n",
    "    print('\\n')\n",
    "    print(i, best)"
   ]
  },
  {
   "cell_type": "code",
   "execution_count": null,
   "metadata": {},
   "outputs": [],
   "source": [
    "'''Approach data'''\n",
    "'''Plot data by condition'''\n",
    "#####################\n",
    "subject = 0\n",
    "s0 = [1.4]\n",
    "d0 = [8]\n",
    "angle = [15]\n",
    "s0 = set(data2.info['goal_s0'])\n",
    "d0 = set(data2.info['goal_d0'])\n",
    "angle = set(data2.info['goal_angle'])\n",
    "#####################\n",
    "%matplotlib qt\n",
    "plt.figure()\n",
    "for i in range(len(data2.trajs)):\n",
    "    goal_s0 = data2.info['goal_s0'][i]\n",
    "    goal_d0 = data2.info['goal_d0'][i]\n",
    "    goal_angle = data2.info['goal_angle'][i]\n",
    "    subj_id = data2.info['subj_id'][i]\n",
    "    if subj_id != subject:\n",
    "        continue\n",
    "    if not (goal_s0 in s0 and goal_d0 in d0 and abs(goal_angle) in angle):\n",
    "        continue\n",
    "    subj = np.array(data2.info['p_subj'][i])\n",
    "    goal = np.array(data2.info['p_goal'][i])\n",
    "    if i % 2 == 0:\n",
    "        subj = rotate(subj, np.arctan(11 / 9) - pi / 2)\n",
    "        goal = rotate(goal, np.arctan(11 / 9) - pi / 2)\n",
    "    else:\n",
    "        subj = rotate(subj, np.arctan(11 / 9) + pi / 2)\n",
    "        goal = rotate(goal, np.arctan(11 / 9) + pi / 2)\n",
    "#     if goal_angle < 0:\n",
    "#         subj[:, 0] *= -1\n",
    "#         goal[:, 0] *= -1\n",
    "    plt.plot(subj[:, 0], subj[:, 1])\n",
    "    print(subj)\n",
    "    plt.plot(goal[:, 0], goal[:, 1])\n",
    "ax = plt.gca()\n",
    "ax.set_aspect('equal')\n",
    "ax.set_title(f'subj {str(subject)} angle: {str(angle)} s0: {str(s0)} d0: {str(d0)}')"
   ]
  }
 ],
 "metadata": {
  "kernelspec": {
   "display_name": "avoidance",
   "language": "python",
   "name": "avoidance"
  },
  "language_info": {
   "codemirror_mode": {
    "name": "ipython",
    "version": 3
   },
   "file_extension": ".py",
   "mimetype": "text/x-python",
   "name": "python",
   "nbconvert_exporter": "python",
   "pygments_lexer": "ipython3",
   "version": "3.6.10"
  }
 },
 "nbformat": 4,
 "nbformat_minor": 2
}
