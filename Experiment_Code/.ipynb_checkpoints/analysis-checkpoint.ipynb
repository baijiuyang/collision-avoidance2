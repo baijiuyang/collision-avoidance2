{
 "cells": [
  {
   "cell_type": "code",
   "execution_count": 1,
   "metadata": {},
   "outputs": [],
   "source": [
    "import os\n",
    "import sys\n",
    "from scipy.integrate import solve_ivp\n",
    "import numpy as np\n",
    "from numpy.linalg import norm\n",
    "from numpy import sqrt\n",
    "from math import pi\n",
    "import pickle\n",
    "import matplotlib.pyplot as plt\n",
    "from packages import data_container\n",
    "from packages.data_container import Data\n",
    "from packages.helper import play_trajs, rotate, sp2a, v2sp, dist, psi, beta, d_theta, d_psi, sp2v, dist\n",
    "from packages.ode_simulator import ODESimulator\n",
    "# For pickle to load the Data object, which is defined in packages.data_container\n",
    "sys.modules['data_container'] = data_container\n",
    "\n",
    "file = os.path.abspath(os.path.join(os.getcwd(), os.pardir, 'Raw_Data', 'Bai_movObst1_data.pickle'))\n",
    "with open(file, 'rb') as f:\n",
    "    data = pickle.load(f)\n",
    "data.filter_all()"
   ]
  },
  {
   "cell_type": "code",
   "execution_count": 69,
   "metadata": {},
   "outputs": [
    {
     "data": {
      "text/plain": [
       "{-180.0, -157.5, -135.0, -112.5, -90.0, 0.0, 90.0, 112.5, 135.0, 157.5, 180.0}"
      ]
     },
     "execution_count": 69,
     "metadata": {},
     "output_type": "execute_result"
    }
   ],
   "source": [
    "set(data.info['obst_angle'])\n",
    "# set(data.info['obst_speed'])"
   ]
  },
  {
   "cell_type": "code",
   "execution_count": 16,
   "metadata": {},
   "outputs": [
    {
     "data": {
      "text/plain": [
       "<matplotlib.animation.FuncAnimation at 0x1c21549ec50>"
      ]
     },
     "execution_count": 16,
     "metadata": {},
     "output_type": "execute_result"
    }
   ],
   "source": [
    "'''Animate data'''\n",
    "############\n",
    "subject = 0\n",
    "trial = 14\n",
    "\n",
    "############\n",
    "%matplotlib qt\n",
    "i = subject * 160 + trial - 1\n",
    "# p_obst = np.array(data.info['p_obst'][i])\n",
    "t0 = data.info['stimuli_onset'][i]\n",
    "p_goal = data.info['p_goal'][i]\n",
    "p_subj = data.p_subj[i]\n",
    "p_obst = data.info['p_obst'][i]\n",
    "trajs = [p_goal, p_obst, p_subj]\n",
    "ws = [data.info['w_goal'], data.info['w_obst'], 0.4]\n",
    "title = 'subj ' + str(data.info['subj_id'][i]) + ' trial ' + str(data.info['trial_id'][i]) + ' obst_angle: ' + str(data.info['obst_angle'][i]) + ' obst_speed: ' + str(data.info['obst_speed'][i])\n",
    "play_trajs(trajs, ws, data.Hz, title=title)\n"
   ]
  },
  {
   "cell_type": "code",
   "execution_count": 4,
   "metadata": {},
   "outputs": [
    {
     "data": {
      "text/plain": [
       "Text(0.5, 1.0, 'subj 2 angle: 90 speed: 1.2')"
      ]
     },
     "execution_count": 4,
     "metadata": {},
     "output_type": "execute_result"
    }
   ],
   "source": [
    "'''Plot data by condition'''\n",
    "#####################\n",
    "subject = 2\n",
    "con_ang = [90]\n",
    "con_spd = [1.2]\n",
    "# con_ang = set(data.info['obst_angle'])\n",
    "# con_spd = set(data.info['obst_speed'])\n",
    "#####################\n",
    "%matplotlib qt\n",
    "plt.figure()\n",
    "for i in range(len(data.trajs)):\n",
    "    obst_speed = data.info['obst_speed'][i]\n",
    "    obst_angle = data.info['obst_angle'][i]\n",
    "    subj_id = data.info['subj_id'][i]\n",
    "    if subj_id != subject:\n",
    "        continue\n",
    "    if not (obst_speed in con_spd and abs(obst_angle) in con_ang):\n",
    "        continue\n",
    "    subj = np.array(data.get_traj(i))\n",
    "    obst = np.array(data.info['p_obst'][i])\n",
    "    if i % 2 == 0:\n",
    "        subj = rotate(subj, np.arctan(11 / 9) - pi / 2)\n",
    "        obst = rotate(obst, np.arctan(11 / 9) - pi / 2)\n",
    "    else:\n",
    "        subj = rotate(subj, np.arctan(11 / 9) + pi / 2)\n",
    "        obst = rotate(obst, np.arctan(11 / 9) + pi / 2)\n",
    "    if obst_angle < 0:\n",
    "        subj[:, 0] *= -1\n",
    "        obst[:, 0] *= -1\n",
    "    plt.plot(subj[:, 0], subj[:, 1])\n",
    "    plt.plot(obst[:, 0], obst[:, 1])\n",
    "ax = plt.gca()\n",
    "ax.set_aspect('equal')\n",
    "ax.set_title('subj ' + str(subject) + ' angle: ' + str(con_ang[0]) + ' speed: ' + str(con_spd[0]))"
   ]
  },
  {
   "cell_type": "code",
   "execution_count": 14,
   "metadata": {},
   "outputs": [],
   "source": [
    "'''Plot data by subject'''\n",
    "#####################\n",
    "subject = 3\n",
    "#####################\n",
    "%matplotlib qt\n",
    "fig = plt.figure()\n",
    "fig.suptitle('Subject ' + str(subject))\n",
    "axes = {}\n",
    "obst_angle = [90, 112.5, 135, 157.5, 180]\n",
    "obst_speed = [0.9, 1.0, 1.1, 1.2, 1.3]\n",
    "i_plot = 1\n",
    "for angle in obst_angle:\n",
    "    for speed in obst_speed:\n",
    "        axes[(angle, speed)] = fig.add_subplot(5, 5, i_plot)\n",
    "        axes[(angle, speed)].set_xlim(-3, 3)\n",
    "        axes[(angle, speed)].set_ylim(-7, 5)\n",
    "        axes[(angle, speed)].set_title(str(angle) + '° ' + str(speed) + 'm/s')\n",
    "        axes[(angle, speed)].set_aspect('equal')\n",
    "        i_plot += 1\n",
    "for i in range(len(data.trajs)):\n",
    "    speed = data.info['obst_speed'][i]\n",
    "    angle = data.info['obst_angle'][i]\n",
    "    subj_id = data.info['subj_id'][i]\n",
    "    if subj_id != subject or speed == 0:\n",
    "        continue\n",
    "    subj = np.array(data.get_traj(i))\n",
    "    obst = np.array(data.info['p_obst'][i])\n",
    "    if i % 2 == 0:\n",
    "        subj = rotate(subj, np.arctan(11 / 9) - pi / 2)\n",
    "        obst = rotate(obst, np.arctan(11 / 9) - pi / 2)\n",
    "    else:\n",
    "        subj = rotate(subj, np.arctan(11 / 9) + pi / 2)\n",
    "        obst = rotate(obst, np.arctan(11 / 9) + pi / 2)\n",
    "    if angle < 0:\n",
    "        subj[:, 0] *= -1\n",
    "        obst[:, 0] *= -1\n",
    "    axes[(abs(angle), speed)].plot(subj[:, 0], subj[:, 1])\n",
    "    axes[(abs(angle), speed)].plot(obst[:, 0], obst[:, 1])"
   ]
  }
 ],
 "metadata": {
  "kernelspec": {
   "display_name": "avoidance",
   "language": "python",
   "name": "avoidance"
  },
  "language_info": {
   "codemirror_mode": {
    "name": "ipython",
    "version": 3
   },
   "file_extension": ".py",
   "mimetype": "text/x-python",
   "name": "python",
   "nbconvert_exporter": "python",
   "pygments_lexer": "ipython3",
   "version": "3.6.10"
  }
 },
 "nbformat": 4,
 "nbformat_minor": 2
}
