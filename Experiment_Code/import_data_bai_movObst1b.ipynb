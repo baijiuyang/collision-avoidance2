{
 "cells": [
  {
   "cell_type": "code",
   "execution_count": 9,
   "metadata": {},
   "outputs": [],
   "source": [
    "import os\n",
    "import sys\n",
    "import pickle\n",
    "import numpy as np\n",
    "from numpy import gradient\n",
    "from math import pi\n",
    "import matplotlib.pyplot as plt\n",
    "from packages import data_container\n",
    "from packages.data_container import Data\n",
    "from packages.helper import traj_speed, beta, min_dist, d_psi, min_sep\n",
    "# For pickle to load the Data object, which is defined in packages.data_container\n",
    "sys.modules['data_container'] = data_container"
   ]
  },
  {
   "cell_type": "code",
   "execution_count": 6,
   "metadata": {},
   "outputs": [],
   "source": [
    "'''Import data from csv to Data object'''\n",
    "header=('subj_x', 'subj_y', 'subj_z', 'subj_yaw', 'subj_pitch', 'subj_row')\n",
    "info={'p_goal':[], 'subj_id':[], 'trial_id':[], 'stimuli_onset':[],  'goal_s0':[], 'goal_d0':[], 'goal_angle':[],\n",
    "      'stimuli_out':[], 'w_goal': 0.4, 'ps_trial':[], 'ps_subj':[], 'time_stamp':[],\n",
    "      'p_subj':[], 'v_subj':[], 'a_subj':[]}\n",
    "data = Data(Hz=90, header=header, info=info)\n",
    "n_subj = 1\n",
    "for subj_id in range(n_subj):\n",
    "    # Import output\n",
    "    file_path = os.path.abspath(os.path.join(os.getcwd(), os.pardir, 'Raw_Data', 'Bai_moveObst1b_approach',\n",
    "                                             'Subj' + str(subj_id).zfill(2) + '.csv'))\n",
    "    with open(file_path, 'r') as f:\n",
    "        trials = [line.split(',') for line in f.read().split('\\n')]\n",
    "    head = 0\n",
    "    while head + 1 < len(trials):\n",
    "        for i in range(head+1, len(trials)):\n",
    "            if trials[i][0] == '':\n",
    "                tail = i - 1\n",
    "                break\n",
    "        trial_id = int(trials[head+1][1])\n",
    "        time_stamp = [float(line[0]) for line in trials[head+3:tail+1]]\n",
    "        s0 = float(trials[head+1][3])\n",
    "        d0 = float(trials[head+1][5])\n",
    "        angle = float(trials[head+1][7])\n",
    "        subj = np.array([[float(val) for val in line[1:7]] for line in trials[head+3:tail+1]])\n",
    "        p0 = Data.filter(subj[:,[0,2]], time_stamp, 90, 4, 0.6)\n",
    "        v0 = gradient(p0, axis=0) * data.Hz\n",
    "        a0 = gradient(v0, axis=0) * data.Hz\n",
    "        goal = np.array([[float(line[-3]), float(line[-2])] for line in trials[head+3:tail+1]])\n",
    "        if s0:\n",
    "            for i in range(head+3, tail+1):\n",
    "                if trials[i][-1] == 'TRUE':\n",
    "                    stimuli_onset = i - head - 3\n",
    "                    break\n",
    "            stimuli_out = len(time_stamp) - 1\n",
    "        else:\n",
    "            stimuli_onset = stimuli_out = None\n",
    "        data.add_traj(subj)\n",
    "        ps_trial = np.mean(traj_speed(subj[-2*data.Hz:-data.Hz,[0,2]], data.Hz))\n",
    "        data.add_info({'p_goal':goal, 'subj_id':subj_id, 'trial_id':trial_id,\n",
    "                       'stimuli_onset':stimuli_onset, 'stimuli_out':stimuli_out, 'time_stamp':time_stamp, \n",
    "                       'ps_trial':ps_trial, 'ps_subj':0, 'goal_s0':s0, 'goal_d0':d0, 'goal_angle':angle,\n",
    "                       'p_subj':p0, 'v_subj':v0, 'a_subj':a0})\n",
    "        head = tail + 1\n",
    "ps_subj = [0] * n_subj\n",
    "for i in range(len(data.trajs)):\n",
    "    if data.info['goal_s0'][i] == 0:\n",
    "        subj_id = data.info['subj_id'][i]\n",
    "        ps_subj[subj_id] += data.info['ps_trial'][i] / 10  # Because there were 10 freewalk trials\n",
    "for i in range(len(data.trajs)):\n",
    "    subj_id = data.info['subj_id'][i]\n",
    "    data.info['ps_subj'][i] = ps_subj[subj_id]\n",
    "outfile = os.path.abspath(os.path.join(os.getcwd(), os.pardir, 'Raw_Data', 'Bai_movObst1b_data.pickle'))       \n",
    "with open(outfile, 'wb') as f:   \n",
    "    pickle.dump(data, f, pickle.HIGHEST_PROTOCOL)  "
   ]
  },
  {
   "cell_type": "code",
   "execution_count": null,
   "metadata": {},
   "outputs": [],
   "source": [
    "i = 1\n",
    "print(data.info['stimuli_onset'][i])\n",
    "print(data.info['time_stamp'][i][297])\n",
    "print(data.info['stimuli_out'][i], len(data.info['time_stamp'][i]))\n",
    "print(data.info['goal_s0'][i], data.info['goal_d0'][i], data.info['goal_angle'][i])\n",
    "print(data.info['ps_trial'][i], data.info['ps_subj'][i])\n",
    "print(data.info['p_subj'][i])\n",
    "print(data.info['v_subj'][i][-180:-90])\n",
    "print(data.info['a_subj'][i])"
   ]
  },
  {
   "cell_type": "code",
   "execution_count": 11,
   "metadata": {},
   "outputs": [],
   "source": [
    "# Check imported data\n",
    "vals = []\n",
    "%matplotlib qt\n",
    "for i in range(len(data.trajs)):\n",
    "    val = data.info['ps_trial'][i]\n",
    "    vals.append(val)\n",
    "    p_goal = np.array(data.info['p_goal'][i])\n",
    "    p_subj = np.array(data.get_traj(i))\n",
    "    onset = data.info['stimuli_onset'][i]\n",
    "    i_subj = data.info['subj_id'][i]\n",
    "    angle = data.info['goal_angle'][i]\n",
    "#     plt.plot(vals)\n",
    "    if i_subj == 0:\n",
    "        plt.plot(traj_speed(data.info['p_subj'][i], data.Hz))\n",
    "#     if angle == -20:\n",
    "#         plt.plot(data.info['p_subj'][i][:,0], data.info['p_subj'][i][:,1])"
   ]
  }
 ],
 "metadata": {
  "kernelspec": {
   "display_name": "avoidance",
   "language": "python",
   "name": "avoidance"
  },
  "language_info": {
   "codemirror_mode": {
    "name": "ipython",
    "version": 3
   },
   "file_extension": ".py",
   "mimetype": "text/x-python",
   "name": "python",
   "nbconvert_exporter": "python",
   "pygments_lexer": "ipython3",
   "version": "3.6.10"
  }
 },
 "nbformat": 4,
 "nbformat_minor": 4
}
