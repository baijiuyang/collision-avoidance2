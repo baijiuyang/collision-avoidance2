{
 "cells": [
  {
   "cell_type": "code",
   "execution_count": 2,
   "metadata": {},
   "outputs": [],
   "source": [
    "import os\n",
    "from collections import defaultdict\n",
    "import sys\n",
    "import pickle\n",
    "import numpy as np\n",
    "from numpy import gradient\n",
    "from scipy.interpolate import interp1d\n",
    "from math import pi, ceil\n",
    "from packages import data_container\n",
    "from packages.data_container import Data\n",
    "from packages.helper import traj_speed, beta, min_dist, d_psi, min_sep, d_theta\n",
    "import matplotlib.pyplot as plt\n",
    "# For pickle to load the Data object, which is defined in packages.data_container\n",
    "sys.modules['data_container'] = data_container"
   ]
  },
  {
   "cell_type": "code",
   "execution_count": 4,
   "metadata": {},
   "outputs": [],
   "source": [
    "'''Import data from csv to Data object'''\n",
    "header=('subj_x', 'subj_y', 'subj_z', 'subj_yaw', 'subj_pitch', 'subj_row')\n",
    "info={'p_goal':[], 'p_obst':[], 'obst_angle':[], 'obst_speed':[], 'subj_id':[], 'trial_id':[], 'obst_onset':[], \n",
    "      'decision_onset':[], 'threshold_onset':[], 'obst_out':[], 'w_goal': 0.4, 'w_obst': 0.2, 'ps_trial':[], \n",
    "      'ps_subj':[], 'time_stamp':[], 'pass_order':[], 'p_subj':[], 'v_subj':[], 'v_obst':[], 'a_subj':[], \n",
    "      'rel_dpsi': [], 'dtheta': []}\n",
    "info['dpsi_threshold'] = 0.04\n",
    "# The raw data is 90 Hz\n",
    "data = Data(Hz=90, header=header, info=info)\n",
    "\n",
    "folder = os.path.join(os.getcwd(), os.pardir, 'Raw_Data', 'Bai_movObst1')\n",
    "os.listdir(folder)\n",
    "\n",
    "for file in os.listdir(folder):\n",
    "    # Import output\n",
    "    file_path = os.path.abspath(os.path.join(folder, file))\n",
    "    subj_id = int(file[-6:-4])\n",
    "    with open(file_path, 'r') as f:\n",
    "        trials = [line.split(',') for line in f.read().split('\\n')]\n",
    "    head = 0\n",
    "    while head + 1 < len(trials):\n",
    "        for i in range(head+1, len(trials)):\n",
    "            if trials[i][0] == '':\n",
    "                tail = i - 1\n",
    "                break\n",
    "        trial_id = int(trials[head+1][1])\n",
    "        time_stamp = [float(line[0]) for line in trials[head+3:tail+1]]\n",
    "        angle = float(trials[head+1][3])\n",
    "        speed = float(trials[head+1][5])\n",
    "        subj = np.array([[float(val) for val in line[1:7]] for line in trials[head+3:tail+1]])\n",
    "        p0 = Data.filter(subj[:,[0,2]], time_stamp, 90, 4, 0.6)\n",
    "        v0 = gradient(p0, axis=0) * data.Hz\n",
    "        a0 = gradient(v0, axis=0) * data.Hz\n",
    "        goal = np.array([[float(line[-2]), float(line[-1])] for line in trials[head+3:tail+1]])\n",
    "        obst = np.array([[float(line[-4]), float(line[-3])] for line in trials[head+3:tail+1]])\n",
    "        onset = obst_out = decision_onset = threshold_onset = None\n",
    "        rel_dpsi = []\n",
    "        dtheta = []\n",
    "        if speed:\n",
    "            for i in range(len(obst) - 1):\n",
    "                if obst[i][0] != obst[i + 1][0] or obst[i][1] != obst[i + 1][1]:\n",
    "                    onset = i\n",
    "                    break\n",
    "            obst[onset:] = np.linspace(obst[onset], obst[-1], len(obst[onset:]))\n",
    "            for i in range(onset, len(subj) - 1):\n",
    "                _beta = beta(p0[i], obst[i], v0[i])\n",
    "                if abs(_beta) > pi / 2:\n",
    "                    obst_out = i\n",
    "                    # 1: pass in front of obst, -1: pass behind obst, 0: freewalk trial\n",
    "                    pass_order = np.sign(_beta * -angle)\n",
    "                    break\n",
    "            v1 = (obst[-1] - obst[onset]) / (len(obst) - 1 - onset) * data.Hz\n",
    "            v1 = np.tile(v1, (len(obst),1))\n",
    "            # Compute -psi*sign(obst_angle)\n",
    "            rel_dpsi = np.zeros(len(p0))\n",
    "            dthetas = np.zeros(len(p0))\n",
    "            t0, t1 = onset, obst_out\n",
    "            rel_dpsi[t0:t1] = -d_psi(p0[t0:t1], obst[t0:t1], v0[t0:t1], v1[t0:t1]) * np.sign(angle)\n",
    "            dthetas[t0:t1] = d_theta(p0[t0:t1], obst[t0:t1], v0[t0:t1], v1[t0:t1], w=data.info['w_obst'])\n",
    "            decision_onset = threshold_onset = None\n",
    "            if abs(angle) != 180:\n",
    "                mi = np.argmin(np.absolute(rel_dpsi[t0:t1]))\n",
    "                for t in range(t1 - 1, mi - 1, -1):\n",
    "                    if abs(rel_dpsi[t]) >= info['dpsi_threshold']:\n",
    "                        threshold_onset = t\n",
    "                for t in range(t1 - 1, t0 - 1, -1):\n",
    "                    if np.sign(rel_dpsi[t]) != pass_order:\n",
    "                        decision_onset = t + 1\n",
    "                        break\n",
    "                else:\n",
    "                    decision_onset = onset\n",
    "        else:\n",
    "            pass_order = 0  # 1: pass in front of obst, -1: pass behind obst, 0: freewalk trial\n",
    "        data.add_traj(subj)\n",
    "        ps_trial = np.mean(traj_speed(subj[-2*data.Hz:-data.Hz,[0,2]], data.Hz))\n",
    "        data.add_info({'p_goal':goal, 'p_obst':obst, 'obst_angle':angle, 'obst_speed':speed, 'subj_id':subj_id, \n",
    "                       'trial_id':trial_id, 'obst_onset':onset, 'obst_out':obst_out, 'time_stamp':time_stamp, \n",
    "                       'ps_trial':ps_trial, 'ps_subj':0, 'pass_order':pass_order, 'decision_onset':decision_onset,\n",
    "                       'threshold_onset':threshold_onset, 'p_subj':p0, 'v_subj':v0, 'a_subj':a0, 'v_obst':v1,\n",
    "                       'rel_dpsi': rel_dpsi, 'dtheta': dthetas})\n",
    "        head = tail + 1\n",
    "\n",
    "'''Dump bottom 1% trials that have the smallest minimal speed'''\n",
    "vs = []\n",
    "for i in range(len(data.trajs)):\n",
    "    if i in data.dump or data.info['obst_speed'][i] == 0:\n",
    "        continue\n",
    "    t0 = data.info['obst_onset'][i]\n",
    "    t1 = data.info['obst_out'][i]\n",
    "    s = min(traj_speed(data.info['p_subj'][i][t0:t1], Hz=data.Hz))\n",
    "    vs.append((s, i))\n",
    "vs.sort()\n",
    "n = int(len(vs) / 100) # 1% of trials\n",
    "for i in [x[1] for x in vs[:n]]:\n",
    "    data.dump[i] = 'min speed below bottom 1%'\n",
    "    \n",
    "ps_subj = defaultdict(int)\n",
    "for i in range(len(data.trajs)):\n",
    "    if data.info['obst_speed'][i] == 0:\n",
    "        subj_id = data.info['subj_id'][i]\n",
    "        ps_subj[subj_id] += data.info['ps_trial'][i] / 10\n",
    "for i in range(len(data.trajs)):\n",
    "    subj_id = data.info['subj_id'][i]\n",
    "    data.info['ps_subj'][i] = ps_subj[subj_id]\n",
    "\n",
    "outfile = os.path.abspath(os.path.join(os.getcwd(), os.pardir, 'Raw_Data', 'Bai_movObst1_data.pickle'))       \n",
    "with open(outfile, 'wb') as f:   \n",
    "    pickle.dump(data, f, pickle.HIGHEST_PROTOCOL)"
   ]
  },
  {
   "cell_type": "code",
   "execution_count": 5,
   "metadata": {},
   "outputs": [],
   "source": [
    "'''Save a 30 Hz version for fitting'''\n",
    "# Convert to 30 Hz for fitting\n",
    "data.Hz = 30\n",
    "for i in range(len(data.trajs)):\n",
    "    data.trajs[i] = data.trajs[i][::3]\n",
    "    data.info['p_goal'][i] = data.info['p_goal'][i][::3]\n",
    "    data.info['p_obst'][i] = data.info['p_obst'][i][::3]\n",
    "    data.info['time_stamp'][i] = data.info['time_stamp'][i][::3]\n",
    "    data.info['p_subj'][i] = data.info['p_subj'][i][::3]\n",
    "    data.info['v_subj'][i] = data.info['v_subj'][i][::3]\n",
    "    data.info['a_subj'][i] = data.info['a_subj'][i][::3]\n",
    "    data.info['v_obst'][i] = data.info['v_obst'][i][::3]\n",
    "    if data.info['obst_onset'][i]:\n",
    "        data.info['obst_onset'][i] = ceil(data.info['obst_onset'][i] / 3)\n",
    "        data.info['obst_out'][i] = data.info['obst_out'][i] // 3\n",
    "    if data.info['decision_onset'][i]:\n",
    "        data.info['decision_onset'][i] = ceil(data.info['decision_onset'][i] / 3)\n",
    "    if data.info['threshold_onset'][i]:\n",
    "        data.info['threshold_onset'][i] = ceil(data.info['threshold_onset'][i] / 3)\n",
    "    if len(data.info['rel_dpsi'][i]) > 0:\n",
    "        data.info['rel_dpsi'][i] = data.info['rel_dpsi'][i][::3]\n",
    "    if len(data.info['dtheta'][i]) > 0:\n",
    "        data.info['dtheta'][i] = data.info['dtheta'][i][::3]\n",
    "outfile = os.path.abspath(os.path.join(os.getcwd(), os.pardir, 'Raw_Data', 'Bai_movObst1_data_30Hz.pickle'))       \n",
    "with open(outfile, 'wb') as f:   \n",
    "    pickle.dump(data, f, pickle.HIGHEST_PROTOCOL)"
   ]
  },
  {
   "cell_type": "code",
   "execution_count": 44,
   "metadata": {},
   "outputs": [
    {
     "data": {
      "text/plain": [
       "160.0"
      ]
     },
     "execution_count": 44,
     "metadata": {},
     "output_type": "execute_result"
    }
   ],
   "source": [
    "length = []\n",
    "for i in range(len(data.trajs)):    \n",
    "    if data.info['obst_out'][i]:\n",
    "        length.append((data.info['obst_out'][i] - data.info['obst_onset'][i], i, data.info['subj_id'][i], data.info['trial_id'][i]))\n",
    "length.sort()\n",
    "length[-50:]\n",
    "len(length)\n",
    "len(data.trajs) / 12"
   ]
  },
  {
   "cell_type": "code",
   "execution_count": 45,
   "metadata": {},
   "outputs": [],
   "source": [
    "'''check redundant trials'''\n",
    "trials = defaultdict(int)\n",
    "for i in range(len(data.trajs)):\n",
    "    subj_id = data.info['subj_id'][i]\n",
    "    trial_id = data.info['trial_id'][i]\n",
    "    trials[(subj_id, trial_id)] += 1\n",
    "for k, v in trials.items():\n",
    "    if v > 1:\n",
    "        print(k, v)"
   ]
  },
  {
   "cell_type": "code",
   "execution_count": 25,
   "metadata": {},
   "outputs": [
    {
     "data": {
      "text/plain": [
       "{0, 1, 2, 3, 4, 6, 7, 9, 10, 11, 12, 13}"
      ]
     },
     "execution_count": 25,
     "metadata": {},
     "output_type": "execute_result"
    }
   ],
   "source": [
    "set(data.info['subj_id'])"
   ]
  },
  {
   "cell_type": "code",
   "execution_count": null,
   "metadata": {},
   "outputs": [],
   "source": [
    "'''Check different start time'''\n",
    "for i in range(100):\n",
    "    t0 = data.info['obst_onset'][i]\n",
    "    t0_match = data.info['stimuli_match'][i]\n",
    "    t1 = data.info['obst_out'][i]\n",
    "    if t0 != t0_match:\n",
    "        print(t0, t0_match, t1)"
   ]
  },
  {
   "cell_type": "code",
   "execution_count": null,
   "metadata": {},
   "outputs": [],
   "source": [
    "'''Check matching rate'''\n",
    "for i in range(1400):\n",
    "    if not data.info['obst_speed'][i]:\n",
    "        continue\n",
    "    pass_order = data.info['pass_order'][i]\n",
    "    t0 = data.info['obst_onset'][i]\n",
    "    t0_match = data.info['stimuli_match'][i]    \n",
    "    p0 = data.info['p_subj'][i][t0_match]\n",
    "    v0 = data.info['v_subj'][i][t0_match]\n",
    "    p1 = data.info['p_obst'][i][t0_match]\n",
    "    v1 = data.info['v_obst'][i]\n",
    "    order_pred = np.sign(beta(p0, p1, v0) * d_psi(p0, p1, v0, v1))\n",
    "    if pass_order * order_pred < 0:\n",
    "        print('subj ', data.info['subj_id'][i], 'trial ', data.info['trial_id'][i], \n",
    "              'angle ', data.info['obst_angle'][i],\n",
    "              pass_order, order_pred, beta(p0, p1, v0) * d_psi(p0, p1, v0, v1))"
   ]
  }
 ],
 "metadata": {
  "kernelspec": {
   "display_name": "avoidance",
   "language": "python",
   "name": "avoidance"
  },
  "language_info": {
   "codemirror_mode": {
    "name": "ipython",
    "version": 3
   },
   "file_extension": ".py",
   "mimetype": "text/x-python",
   "name": "python",
   "nbconvert_exporter": "python",
   "pygments_lexer": "ipython3",
   "version": "3.6.10"
  }
 },
 "nbformat": 4,
 "nbformat_minor": 2
}
