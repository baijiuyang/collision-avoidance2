{
 "cells": [
  {
   "cell_type": "code",
   "execution_count": 1,
   "metadata": {},
   "outputs": [],
   "source": [
    "import os\n",
    "import sys\n",
    "import json\n",
    "from collections import Counter\n",
    "from scipy.integrate import solve_ivp\n",
    "from scipy.stats import ttest_rel\n",
    "import numpy as np\n",
    "from numpy.linalg import norm\n",
    "from numpy import sqrt\n",
    "from math import pi\n",
    "import pickle\n",
    "import matplotlib.pyplot as plt\n",
    "from packages import data_container\n",
    "from packages.data_container import Data\n",
    "from packages.helper import play_trajs, rotate, sp2a, v2sp, dist, psi, beta, d_theta, d_psi, sp2v, dist, \\\n",
    "    traj_speed, min_sep\n",
    "from packages.ode_simulator import ODESimulator\n",
    "from packages.models import cohen_avoid_heading\n",
    "from sklearn.metrics import mean_squared_error\n",
    "from fitting import Bai_movObst1, Cohen_movObst1, Cohen_movObst2\n",
    "from parameters import approaches, avoidances\n",
    "\n",
    "# For pickle to load the Data object, which is defined in packages.data_container\n",
    "sys.modules['data_container'] = data_container\n",
    "\n",
    "file = os.path.abspath(os.path.join(os.getcwd(), os.pardir, 'Raw_Data', 'Cohen_movObst1_data.pickle'))\n",
    "with open(file, 'rb') as f:\n",
    "    data = pickle.load(f)\n"
   ]
  },
  {
   "cell_type": "code",
   "execution_count": null,
   "metadata": {},
   "outputs": [],
   "source": [
    "'''Simulation with var0'''\n",
    "%matplotlib qt\n",
    "Hz = 100\n",
    "xg0, yg0, xo0, yo0, x0, y0 = 0, 10, 5, 5, 0, 0\n",
    "vxo0, vyo0, vx0, vy0 = -1, 0, 0, 0.9\n",
    "s0, phi0 = v2sp([vx0, vy0])\n",
    "a0 = dphi0 = ds0 = 0\n",
    "w = 0.1\n",
    "# xg, yg, xo, yo, vxo, vyo, x, y, vx, vy, a, phi, s, dphi, ds = var0\n",
    "var0 = [xg0, yg0, xo0, yo0, vxo0, vyo0, x0, y0, vx0, vy0, a0, phi0, s0, dphi0, ds0, w]\n",
    "fajen_approach['ps'] = 1\n",
    "fajen_approach2['ps'] = 1\n",
    "cohen_avoid2['ps'] = 1\n",
    "models = [fajen_approach2, cohen_avoid3]\n",
    "dw = [0.1] * 1 * Hz + [0] * 9 * Hz\n",
    "args = {'w_goal': 0.1, 'w_obst': 0.1, 'dw': 0}\n",
    "sim = ODESimulator(Hz=Hz, models=models, args=args, ref=[0, 1])\n",
    "sim.simulate(var0, total_time=10)\n",
    "sim.play()"
   ]
  },
  {
   "cell_type": "code",
   "execution_count": null,
   "metadata": {
    "scrolled": true
   },
   "outputs": [],
   "source": [
    "'''Simulate one trial approach'''\n",
    "############\n",
    "i_trial = 0\n",
    "approach = approaches['Bai_movObst1b']['fajen_approach']['differential_evolution'][0]\n",
    "avoid = None\n",
    "############\n",
    "%matplotlib qt\n",
    "models = [approach]\n",
    "sim = ODESimulator(data=data, ref=[0, 1])\n",
    "sim.models = models\n",
    "sim.simulate_all(trials=[i_trial], t_start='stimuli_onset', t_end='stimuli_out', ps='trial')\n",
    "print(sim.test('p_dist'))\n",
    "sim.play(obst=False)"
   ]
  },
  {
   "cell_type": "markdown",
   "metadata": {},
   "source": [
    "### Cohen_movObst1"
   ]
  },
  {
   "cell_type": "code",
   "execution_count": 3,
   "metadata": {
    "scrolled": true
   },
   "outputs": [
    {
     "name": "stdout",
     "output_type": "stream",
     "text": [
      "Loading finished\n",
      "Simulated 1 trials in 0:00:00\n",
      "0.10210607222848386\n"
     ]
    },
    {
     "data": {
      "text/plain": [
       "<matplotlib.animation.FuncAnimation at 0x1798562af98>"
      ]
     },
     "execution_count": 3,
     "metadata": {},
     "output_type": "execute_result"
    }
   ],
   "source": [
    "'''Simulate one trial avoidance'''\n",
    "############\n",
    "i_trial = 0\n",
    "approach = approaches['Fajen_steer1a']['fajen_approach']['differential_evolution'][-1]\n",
    "# avoid = avoidances['Cohen_movObst1']['cohen_avoid']['differential_evolution'][-1]\n",
    "avoid = avoidances['Cohen_movObst1']['cohen_avoid_heading']['differential_evolution'][-1]\n",
    "# avoid = {'name': 'cohen_avoid_heading', 'b1': 2.1260796879288923, 'k1': 673.0529452234115, 'c5': 14.968106833780706, 'c6': 1.0453773247966653}\n",
    "\n",
    "############\n",
    "%matplotlib qt\n",
    "models = [approach, avoid]\n",
    "sim = ODESimulator(data=data, ref=[0, 1])\n",
    "sim.models = models\n",
    "sim.simulate_all(trials=[i_trial], t_start='obst_onset', t_end='obst_out', ps='trial')\n",
    "title = 'subj ' + str(sim.data.info['subj_id'][i_trial]) + \\\n",
    "        ' trial ' + str(sim.data.info['trial_id'][i_trial]) + \\\n",
    "        ' obst_angle: ' + str(sim.data.info['obst_angle'][i_trial]) + \\\n",
    "        ' obst_speed: ' + str(sim.data.info['obst_speed'][i_trial])\n",
    "print(sim.test('p_dist'))\n",
    "sim.play(title=title)"
   ]
  },
  {
   "cell_type": "code",
   "execution_count": 2,
   "metadata": {},
   "outputs": [
    {
     "name": "stdout",
     "output_type": "stream",
     "text": [
      "Loading finished\n",
      "Simulated 995 trials in 0:00:32\n",
      "0.19169562985664634\n",
      "0.8391959798994975\n",
      "0.1833723649559832\n",
      "0.11994164583576297\n"
     ]
    }
   ],
   "source": [
    "'''Simuate all trials model 1'''\n",
    "############\n",
    "# subject = 1\n",
    "approach = approaches['Fajen_steer1a']['fajen_approach']['differential_evolution'][-1]\n",
    "avoid = avoidances['Cohen_movObst1']['cohen_avoid']['differential_evolution'][-1]\n",
    "############\n",
    "%matplotlib qt\n",
    "models = [approach, avoid]\n",
    "subjects = range(20)\n",
    "sim1, trials1 = Cohen_movObst1(subjects)\n",
    "sim1.reset()\n",
    "sim1.models = models\n",
    "\n",
    "# for i in range(len(data.trajs)):\n",
    "#     if i in data.dump or data.info['subj_id'][i] != subject or data.info['obst_speed'][i] == 0:\n",
    "#         continue\n",
    "#     trials.append(i)\n",
    "sim1.simulate_all(trials1, t_start='obst_onset', t_end='obst_out', ps='trial')\n",
    "print(sim1.test('p_dist'))\n",
    "print(sim1.test('order_accuracy'))\n",
    "print(sim1.test('phi_RMSE'))\n",
    "print(sim1.test('s_RMSE'))"
   ]
  },
  {
   "cell_type": "code",
   "execution_count": 3,
   "metadata": {
    "scrolled": true
   },
   "outputs": [
    {
     "name": "stdout",
     "output_type": "stream",
     "text": [
      "Loading finished\n",
      "Simulated 995 trials in 0:00:28\n",
      "0.19450744826397065\n",
      "0.84321608040201\n",
      "0.1875837785131185\n",
      "0.11982798351664611\n"
     ]
    }
   ],
   "source": [
    "'''Simuate all trials model 2'''\n",
    "############\n",
    "# subject = 1\n",
    "approach = approaches['Fajen_steer1a']['fajen_approach']['differential_evolution'][-1]\n",
    "avoid = avoidances['Cohen_movObst1']['cohen_avoid_heading']['differential_evolution'][-1]\n",
    "\n",
    "############\n",
    "%matplotlib qt\n",
    "models = [approach, avoid]\n",
    "subjects = range(20)\n",
    "sim2, trials2 = Cohen_movObst1(subjects)\n",
    "sim2.reset()\n",
    "sim2.models = models\n",
    "\n",
    "# for i in range(len(data.trajs)):\n",
    "#     if i in data.dump or data.info['subj_id'][i] != subject or data.info['obst_speed'][i] == 0:\n",
    "#         continue\n",
    "#     trials.append(i)\n",
    "sim2.simulate_all(trials2, t_start='obst_onset', t_end='obst_out', ps='trial')\n",
    "print(sim2.test('p_dist'))\n",
    "print(sim2.test('order_accuracy'))\n",
    "print(sim2.test('phi_RMSE'))\n",
    "print(sim2.test('s_RMSE'))"
   ]
  },
  {
   "cell_type": "code",
   "execution_count": 4,
   "metadata": {},
   "outputs": [
    {
     "data": {
      "text/plain": [
       "Text(0, 0.5, 'distance error (m)')"
      ]
     },
     "execution_count": 4,
     "metadata": {},
     "output_type": "execute_result"
    }
   ],
   "source": [
    "'''Compare two simulations'''\n",
    "%matplotlib qt\n",
    "e1 = sim1.test('p_dist', all_errors=True)\n",
    "e2 = sim2.test('p_dist', all_errors=True)\n",
    "plt.plot(e1, label=sim1.models[1]['name'])\n",
    "plt.plot(e2, label=sim2.models[1]['name'])\n",
    "plt.legend()\n",
    "plt.xlabel('trial#')\n",
    "plt.ylabel('distance error (m)')"
   ]
  },
  {
   "cell_type": "code",
   "execution_count": 6,
   "metadata": {},
   "outputs": [
    {
     "data": {
      "text/plain": [
       "0.32983936132249364"
      ]
     },
     "execution_count": 6,
     "metadata": {},
     "output_type": "execute_result"
    }
   ],
   "source": [
    "'''Animate certain trials'''\n",
    "sim = sim2\n",
    "i_trial = 367\n",
    "sim.play(i_trial=i_trial)\n",
    "sim.test('p_dist', i_trials=[i_trial])"
   ]
  },
  {
   "cell_type": "code",
   "execution_count": 25,
   "metadata": {},
   "outputs": [
    {
     "name": "stdout",
     "output_type": "stream",
     "text": [
      "328 338 0.6876310272536688 0.7085953878406709\n"
     ]
    }
   ],
   "source": [
    "'''Check pass order accuracy of model1 and model2 when model1 is worse'''\n",
    "acc1 = 0\n",
    "acc2 = 0\n",
    "total = 0\n",
    "for i in np.where(np.array(e1) > np.array(e2))[0]:\n",
    "    j = sim1.i_trials[i]\n",
    "    pred_order1 = sim1.pass_order_pred[i]\n",
    "    pred_order2 = sim2.pass_order_pred[i]\n",
    "    true_order = data.info['pass_order'][j]\n",
    "    acc1 += 1 if pred_order1 == true_order else 0\n",
    "    acc2 += 1 if pred_order2 == true_order else 0\n",
    "    total += 1\n",
    "print(acc1, acc2, acc1/total, acc2/total)"
   ]
  },
  {
   "cell_type": "code",
   "execution_count": 26,
   "metadata": {},
   "outputs": [
    {
     "name": "stdout",
     "output_type": "stream",
     "text": [
      "0.2455773518229158 0.1420786773897607\n"
     ]
    }
   ],
   "source": [
    "'''Check the error when model1 is worse'''\n",
    "ee1 = []\n",
    "ee2 = []\n",
    "for e1i, e2i in zip(e1, e2):\n",
    "    if e1i > e2i:\n",
    "        ee1.append(e1i)\n",
    "    elif e1i < e2i:\n",
    "        ee2.append(e1i)\n",
    "print(np.mean(ee1), np.mean(ee2))"
   ]
  },
  {
   "cell_type": "code",
   "execution_count": 21,
   "metadata": {},
   "outputs": [
    {
     "name": "stdout",
     "output_type": "stream",
     "text": [
      "Counter({(70, 0.6): 18, (-70, 0.4): 15, (-90, 0.4): 14, (-110, 0.4): 14, (-70, 0.6): 13, (70, 0.8): 11, (90, 0.4): 11, (110, 0.6): 11, (110, 0.4): 10, (70, 0.4): 10, (90, 0.6): 10, (-90, 0.6): 9, (-110, 0.6): 7, (90, 0.8): 7, (-70, 0.8): 5, (110, 0.8): 5, (-90, 0.8): 3, (-110, 0.8): 1})\n"
     ]
    }
   ],
   "source": [
    "'''Check the conditions of large errors'''\n",
    "cons = []\n",
    "for i in np.where(np.array(e1) > 0.3)[0]:\n",
    "    j = sim1.i_trials[i]\n",
    "    speed = data.info['obst_speed'][j]\n",
    "    angle = data.info['obst_angle'][j]\n",
    "    cons.append((angle, speed))\n",
    "c = Counter(cons)\n",
    "print(c)"
   ]
  },
  {
   "cell_type": "code",
   "execution_count": null,
   "metadata": {},
   "outputs": [],
   "source": [
    "'''BIC'''\n",
    "sim = sim1\n",
    "k = 8\n",
    "n = len(sim.p_pred)\n",
    "MSE = sim.test('p_MSE')*2\n",
    "BIC = n * np.log(MSE) + k * np.log(n)\n",
    "print(f'The BIC of model {sim.models[1][\"name\"]} is {BIC}, MSE is {MSE}, k is {k}, n is {n}')"
   ]
  },
  {
   "cell_type": "code",
   "execution_count": null,
   "metadata": {},
   "outputs": [],
   "source": [
    "'''Find trials in certain range of error'''\n",
    "sim = sim1\n",
    "errors = sim.test('p_dist', all_errors=True)\n",
    "print(f'smallest error {np.argmin(errors)}')\n",
    "for i, err in enumerate(errors):\n",
    "    if 0.189 < err < 0.19:\n",
    "        print(i)"
   ]
  },
  {
   "cell_type": "code",
   "execution_count": null,
   "metadata": {},
   "outputs": [],
   "source": [
    "'''Play simulations'''\n",
    "sim = sim1\n",
    "i_trial = 897\n",
    "print(sim.test('p_dist', i_trials=[i_trial]))\n",
    "sim.play(i_trial=i_trial, save=True)\n"
   ]
  },
  {
   "cell_type": "code",
   "execution_count": null,
   "metadata": {},
   "outputs": [],
   "source": [
    "'''Check simulation length'''\n",
    "ls = []\n",
    "for i in range(len(sim.p_pred)):\n",
    "    ls.append(len(sim.p_pred[i]))\n",
    "np.mean(ls)/30"
   ]
  },
  {
   "cell_type": "code",
   "execution_count": null,
   "metadata": {},
   "outputs": [],
   "source": [
    "'''Speed and heading errors correct vs incorrect trials'''\n",
    "from sklearn.metrics import mean_squared_error\n",
    "sim = sim1\n",
    "phi_MSEs = []\n",
    "speed_MSEs = []\n",
    "trials = []\n",
    "for i in range(len(sim.v_pred)):\n",
    "    j = sim.i_trials[i]\n",
    "#     if sim.pass_order_pred[i] == sim.data.info['pass_order'][j]:\n",
    "    v_subj = np.gradient(sim.p_subj[i], axis=0) * sim.data.Hz\n",
    "    v_pred = sim.v_pred[i]\n",
    "    s0, phi0 = v2sp(v_subj)\n",
    "    s1, phi1 = v2sp(v_pred)\n",
    "    speed_MSEs.append(mean_squared_error(s0, s1))\n",
    "    phi_MSEs.append(mean_squared_error(phi0, phi1))\n",
    "    trials.append(i)\n",
    "print(sim.models)\n",
    "print(f'{len(phi_MSEs)} trials in total')\n",
    "print(f'RMSE on heading is {np.sqrt(np.mean(phi_MSEs))}')\n",
    "print(f'RMSE on speed is {np.sqrt(np.mean(speed_MSEs))}')\n",
    "print(f\"Distance is {sim.test('p_dist', i_trials=trials)}\")"
   ]
  },
  {
   "cell_type": "code",
   "execution_count": null,
   "metadata": {},
   "outputs": [],
   "source": [
    "sim2.test('p_dist')"
   ]
  },
  {
   "cell_type": "code",
   "execution_count": null,
   "metadata": {},
   "outputs": [],
   "source": [
    "'''Minimum Passing Distance'''\n",
    "%matplotlib qt\n",
    "sim = sim2\n",
    "fig = plt.figure()\n",
    "ax = fig.add_subplot()\n",
    "ax.set_title('Signed predicted minimum passing distance (SMPD)')\n",
    "ax.set_ylabel('SMPD (m)')\n",
    "ax.set_xlabel('normalized time (%)')\n",
    "ax.set_ylim((-2, 2))\n",
    "for j, i in enumerate(sim.i_trials):\n",
    "    t0 = data.info['obst_onset'][i]\n",
    "    t1 = data.info['obst_out'][i]\n",
    "    p0 = sim.p_pred[j]\n",
    "    p1 = data.info['p_obst'][i][t0:t1]\n",
    "    v0 = sim.v_pred[j]\n",
    "    v1 = data.info['v_obst'][i][t0:t1]\n",
    "    t = np.linspace(0, 100, len(p0))\n",
    "    smpd = []\n",
    "    for _p0, _p1, _v0, _v1 in zip(p0, p1, v0, v1):        \n",
    "        smpd.append(min_sep(_p0, _p1, _v0, _v1)[0])\n",
    "    ax.plot(t, smpd, 'k', linewidth=0.1, alpha=0.5)"
   ]
  },
  {
   "cell_type": "code",
   "execution_count": null,
   "metadata": {},
   "outputs": [],
   "source": [
    "print(len(p0), len(p1), len(sim.i_trials))"
   ]
  },
  {
   "cell_type": "code",
   "execution_count": null,
   "metadata": {},
   "outputs": [],
   "source": [
    "'''Compute pred_order'''\n",
    "s = sim\n",
    "orders = []\n",
    "for i in range(len(s.p_pred)):\n",
    "    j = s.i_trials[i]\n",
    "    true_order = s.data.info['pass_order'][j]\n",
    "    p0 = s.p_pred[i][-1]\n",
    "    v0 = s.v_pred[i][-1]\n",
    "    p1 = s.p_obst[i][-1]\n",
    "    _beta = beta(p0, p1, v0)\n",
    "    angle = s.data.info['obst_angle'][j]\n",
    "    pred_order = np.sign(_beta * -angle)\n",
    "    orders.append(true_order == pred_order)\n",
    "print(np.mean(orders))"
   ]
  },
  {
   "cell_type": "code",
   "execution_count": null,
   "metadata": {},
   "outputs": [],
   "source": [
    "sim.test('order_accuracy')"
   ]
  },
  {
   "cell_type": "code",
   "execution_count": null,
   "metadata": {},
   "outputs": [],
   "source": [
    "'''t-test between two models'''\n",
    "err1 = sim.test('p_dist', all_errors=True)\n",
    "err2 = sim2.test('p_dist', all_errors=True)\n",
    "print(ttest_rel(err1, err2))\n",
    "print(f'sd1 = {np.std(err1)}, sd2 = {np.std(err2)}')\n",
    "print(f'df = {len(err1) - 1}')"
   ]
  },
  {
   "cell_type": "code",
   "execution_count": null,
   "metadata": {},
   "outputs": [],
   "source": [
    "'''Show one trial from batch simulations'''\n",
    "######## index in simulated trials only\n",
    "i = 83\n",
    "########\n",
    "i_trial = sim.i_trials[i]\n",
    "title = 'subj ' + str(sim.data.info['subj_id'][i_trial]) + \\\n",
    "        ' trial ' + str(sim.data.info['trial_id'][i_trial]) + \\\n",
    "        ' obst_angle: ' + str(sim.data.info['obst_angle'][i_trial]) + \\\n",
    "        ' obst_speed: ' + str(sim.data.info['obst_speed'][i_trial])\n",
    "sim.play(i, title=title, save=False)\n",
    "\n",
    "# When beta and dpsi has the same sign it means pass in front, otherwise it means pass from behind\n",
    "pass_order = sim.data.info['pass_order'][i]\n",
    "pred = sim.pass_order_pred[i]\n",
    "print('pass order ', pass_order, 'prediction ', pred)\n",
    "print(f\"err is {sim.test('p_dist', i_trial=i)}\")"
   ]
  },
  {
   "cell_type": "code",
   "execution_count": null,
   "metadata": {},
   "outputs": [],
   "source": [
    "'''plot true vs predicted speed by condition'''\n",
    "#####################\n",
    "subject = 1\n",
    "#####################\n",
    "%matplotlib qt\n",
    "Hz = sim.Hz\n",
    "fig = plt.figure()\n",
    "fig.suptitle('Subject ' + str(subject))\n",
    "axes = {}\n",
    "obst_angle = sorted(set([abs(x) for x in data.info['obst_angle'] if x != 0]))\n",
    "obst_speed = sorted(set([abs(x) for x in data.info['obst_speed'] if x != 0]))\n",
    "i_plot = 1\n",
    "for angle in obst_angle:\n",
    "    for speed in obst_speed:\n",
    "        axes[(angle, speed)] = fig.add_subplot(5, 5, i_plot)\n",
    "        axes[(angle, speed)].set_xlim(0, 5)\n",
    "        axes[(angle, speed)].set_ylim(0.5, 2)\n",
    "        axes[(angle, speed)].set_title(str(angle) + '° ' + str(speed) + 'm/s')\n",
    "#         axes[(angle, speed)].set_aspect('equal')\n",
    "        i_plot += 1\n",
    "for i, i_trial in enumerate(sim.i_trials):\n",
    "    speed = sim.data.info['obst_speed'][i_trial]\n",
    "    angle = sim.data.info['obst_angle'][i_trial]\n",
    "    subj_id = sim.data.info['subj_id'][i_trial]\n",
    "    if subj_id != subject or speed == 0:\n",
    "        continue\n",
    "    \n",
    "    subj, pred = sim.p_subj[i], sim.p_pred[i]\n",
    "    s_subj, s_pred = traj_speed(subj, Hz), traj_speed(pred, Hz)\n",
    "    t = np.linspace(0, len(pred)-1, len(pred)) / Hz\n",
    "    # Speed\n",
    "    axes[(abs(angle), speed)].plot(t, s_subj, 'r')\n",
    "    axes[(abs(angle), speed)].plot(t, s_pred, 'b')\n"
   ]
  },
  {
   "cell_type": "code",
   "execution_count": null,
   "metadata": {},
   "outputs": [],
   "source": [
    "'''plot true vs predicted heading by condition'''\n",
    "#####################\n",
    "subject = 1\n",
    "#####################\n",
    "%matplotlib qt\n",
    "Hz = sim.Hz\n",
    "fig = plt.figure()\n",
    "fig.suptitle('Subject ' + str(subject))\n",
    "axes = {}\n",
    "obst_angle = sorted(set([abs(x) for x in data.info['obst_angle'] if x != 0]))\n",
    "obst_speed = sorted(set([abs(x) for x in data.info['obst_speed'] if x != 0]))\n",
    "i_plot = 1\n",
    "for angle in obst_angle:\n",
    "    for speed in obst_speed:\n",
    "        axes[(angle, speed)] = fig.add_subplot(5, 5, i_plot)\n",
    "        axes[(angle, speed)].set_xlim(0, 5)\n",
    "        axes[(angle, speed)].set_ylim(0, 1.5)\n",
    "        axes[(angle, speed)].set_title(str(angle) + '° ' + str(speed) + 'm/s')\n",
    "#         axes[(angle, speed)].set_aspect('equal')\n",
    "        i_plot += 1\n",
    "for i, i_trial in enumerate(sim.i_trials):\n",
    "    speed = sim.data.info['obst_speed'][i_trial]\n",
    "    angle = sim.data.info['obst_angle'][i_trial]\n",
    "    subj_id = sim.data.info['subj_id'][i_trial]\n",
    "    if subj_id != subject or speed == 0:\n",
    "        continue\n",
    "    \n",
    "    subj, pred = sim.p_subj[i], sim.p_pred[i]\n",
    "    h_subj, h_pred = v2sp(np.gradient(subj, axis=0) * Hz)[1], v2sp(np.gradient(pred, axis=0) * Hz)[1]\n",
    "    if h_subj[0] < 0:\n",
    "        h_subj += pi\n",
    "        h_pred += pi\n",
    "    t = np.linspace(0, len(pred)-1, len(pred)) / Hz\n",
    "    # Heading\n",
    "    axes[(abs(angle), speed)].plot(t, h_subj, 'r')\n",
    "    axes[(abs(angle), speed)].plot(t, h_pred, 'b')\n",
    "    if abs(angle) == 112.5 and speed == 1.2:\n",
    "        print(i, i_trial)\n"
   ]
  },
  {
   "cell_type": "code",
   "execution_count": 8,
   "metadata": {},
   "outputs": [
    {
     "name": "stdout",
     "output_type": "stream",
     "text": [
      "Loading finished\n",
      "Loading finished\n",
      "[0, 1, 2, 3, 4, 5, 6, 8, 9, 10, 12, 13, 14, 16, 18, 19, 24, 25, 26, 27, 28, 29, 32, 33, 36, 37, 38, 39, 42, 48, 49, 50, 51, 52, 53, 54, 55, 56, 57, 58, 60, 61, 62, 63, 64, 65, 66, 68, 69, 71, 73, 74, 75, 76, 77, 78, 79, 80, 81, 84, 85, 86, 89, 90, 91, 93, 94, 96, 97, 98, 99, 100, 101, 102, 103, 104, 105, 106, 107, 110, 111, 112, 114, 116, 117, 119, 120, 121, 122, 123, 124, 125, 126, 128, 129, 130, 131, 132, 134, 135, 136, 137, 138, 139, 141, 142, 144, 145, 146, 147, 148, 149, 150, 151, 152, 153, 154, 155, 156, 158]\n",
      "Simulated 120 trials in 0:00:02\n",
      "0 finished\n",
      "Loading finished\n",
      "Loading finished\n",
      "[160, 162, 163, 164, 165, 166, 167, 168, 169, 171, 172, 173, 175, 177, 178, 179, 181, 183, 184, 186, 187, 189, 190, 192, 193, 195, 196, 197, 200, 201, 203, 204, 205, 206, 207, 209, 210, 212, 213, 214, 215, 216, 218, 219, 220, 222, 223, 224, 225, 226, 227, 229, 230, 231, 232, 233, 234, 236, 238, 239, 240, 241, 244, 245, 247, 248, 249, 250, 252, 253, 254, 255, 256, 258, 259, 260, 261, 263, 264, 268, 269, 270, 271, 273, 275, 276, 278, 279, 282, 283, 284, 286, 287, 288, 291, 292, 293, 294, 295, 296, 297, 298, 299, 301, 302, 303, 305, 306, 307, 308, 310, 311, 312, 313, 314, 315, 316, 317, 318, 319]\n",
      "Simulated 120 trials in 0:00:02\n",
      "1 finished\n",
      "Loading finished\n",
      "Loading finished\n",
      "[320, 321, 322, 323, 324, 325, 326, 328, 329, 331, 332, 334, 335, 337, 338, 339, 340, 342, 343, 344, 345, 347, 348, 349, 351, 352, 353, 354, 356, 358, 360, 361, 362, 363, 364, 365, 366, 367, 370, 372, 373, 374, 375, 376, 377, 379, 380, 381, 382, 383, 384, 385, 386, 387, 388, 390, 391, 392, 393, 394, 396, 397, 398, 399, 400, 403, 404, 405, 406, 407, 408, 409, 410, 411, 412, 413, 415, 416, 417, 420, 421, 424, 425, 426, 428, 429, 430, 431, 433, 434, 435, 436, 437, 439, 440, 441, 443, 446, 447, 448, 449, 450, 451, 453, 454, 455, 456, 457, 459, 462, 463, 464, 466, 468, 469, 470, 471, 473, 475, 477]\n",
      "Simulated 120 trials in 0:00:02\n",
      "2 finished\n",
      "Loading finished\n",
      "Loading finished\n",
      "[480, 483, 484, 485, 487, 489, 490, 491, 494, 496, 497, 498, 499, 501, 502, 503, 506, 507, 508, 510, 511, 512, 513, 514, 517, 518, 519, 520, 522, 523, 524, 525, 526, 527, 528, 529, 531, 532, 534, 538, 539, 540, 541, 542, 544, 546, 547, 551, 552, 553, 554, 555, 556, 558, 559, 560, 561, 562, 563, 564, 567, 568, 571, 572, 573, 574, 575, 576, 578, 579, 580, 581, 582, 583, 585, 586, 587, 588, 589, 590, 591, 592, 593, 594, 595, 596, 597, 598, 599, 600, 602, 603, 604, 605, 606, 608, 610, 612, 613, 614, 615, 617, 618, 619, 620, 621, 623, 624, 625, 628, 629, 630, 631, 632, 633, 635, 637]\n",
      "Simulated 117 trials in 0:00:04\n",
      "3 finished\n",
      "Loading finished\n",
      "Loading finished\n",
      "[640, 643, 644, 647, 649, 650, 651, 652, 653, 654, 656, 657, 659, 660, 661, 662, 663, 664, 665, 667, 668, 670, 671, 672, 673, 675, 676, 677, 680, 681, 684, 687, 688, 689, 690, 691, 692, 694, 695, 696, 697, 699, 700, 701, 702, 703, 704, 705, 707, 709, 711, 712, 713, 714, 715, 716, 718, 719, 720, 721, 722, 724, 725, 727, 728, 729, 730, 732, 734, 735, 736, 737, 738, 739, 740, 742, 743, 744, 745, 746, 747, 748, 749, 752, 753, 754, 755, 756, 757, 758, 759, 761, 762, 765, 766, 767, 768, 769, 770, 772, 773, 775, 776, 777, 779, 780, 781, 782, 784, 785, 786, 787, 788, 790, 791, 792, 794, 796, 797, 799]\n",
      "Simulated 120 trials in 0:00:02\n",
      "4 finished\n",
      "Loading finished\n",
      "Loading finished\n",
      "[800, 802, 803, 804, 805, 806, 807, 808, 809, 810, 811, 813, 814, 817, 819, 820, 821, 822, 823, 824, 825, 826, 827, 828, 829, 831, 832, 833, 834, 835, 837, 839, 840, 842, 843, 844, 845, 846, 847, 849, 850, 851, 852, 854, 855, 856, 859, 861, 862, 863, 864, 865, 867, 868, 869, 870, 871, 872, 873, 875, 877, 878, 879, 881, 882, 883, 884, 885, 886, 889, 890, 891, 892, 893, 894, 896, 897, 898, 899, 900, 901, 903, 908, 910, 911, 912, 913, 915, 916, 917, 918, 919, 922, 923, 924, 925, 927, 928, 929, 930, 931, 932, 933, 934, 935, 936, 937, 938, 939, 940, 942, 943, 944, 946, 948, 951, 955, 956, 958, 959]\n",
      "simulation ended early on i_trial=822, switch to Euler method\n",
      "Simulated 120 trials in 0:00:02\n",
      "6 finished\n"
     ]
    }
   ],
   "source": [
    "'''Cross validation error'''\n",
    "path = os.path.abspath(os.path.join(os.getcwd(), os.pardir, 'Results', 'Bai_movObst1_cross_validation_cohen_avoid3_with_approach_trained_on_Bai_movObst1b_all_threshold_onset'))\n",
    "filenames = [os.path.join(path, name) for name in os.listdir(path) if name[-3:] == 'txt']\n",
    "errors = {}\n",
    "for filename in filenames:\n",
    "    with open(filename, 'rb') as f:\n",
    "        best = 0\n",
    "        e_min = float('inf')\n",
    "        if filename[-6] == '_' or filename[-6] == '-':\n",
    "            subj_id = int(filename[-5])\n",
    "        else:\n",
    "            subj_id = int(filename[-6:-4])\n",
    "        for i, line in enumerate(f):\n",
    "            if i > 10:\n",
    "                try:\n",
    "                    err = str(line).split(\"\\\\t\")[2][:10]\n",
    "                    if err[0] == '0':\n",
    "                        err = float(err)\n",
    "                        if err < e_min:\n",
    "                            e_min = err\n",
    "                            best = str(line).replace(\"\\\\\", \"\")\n",
    "                except:\n",
    "                    pass\n",
    "    try:\n",
    "#         models = json.loads(''.join(best.split('t')[1] + best.split('t')[2]).replace(\"\\'\", \"\\\"\")) # If contains acceleration model\n",
    "        models = json.loads(best.split('t')[1].replace(\"\\'\", \"\\\"\")) # If not contains acceleration model\n",
    "        subjects = [int(subj_id)]\n",
    "        sim, trials = Bai_movObst1(subjects)\n",
    "        sim.reset()\n",
    "        sim.models = models\n",
    "        sim.simulate_all(trials, t_start='threshold_onset', t_end='obst_out', ps='trial')\n",
    "        errors[subj_id] = sim.test('p_dist', all_errors=True)\n",
    "        print(f'{subj_id} finished')\n",
    "    except Exception as e:\n",
    "        print(e)"
   ]
  },
  {
   "cell_type": "code",
   "execution_count": 7,
   "metadata": {},
   "outputs": [
    {
     "name": "stdout",
     "output_type": "stream",
     "text": [
      "0 0.10483963647879295\n",
      "1 0.18401557617471434\n",
      "2 0.11641919207907689\n",
      "3 0.3341352938646125\n",
      "4 0.10990959525759987\n",
      "6 0.1961719852427389\n",
      "10 0.20660318952985887\n",
      "11 0.1098854600424573\n",
      "12 0.19842535294705602\n",
      "13 0.13726893974916923\n",
      "7 0.1119371644741481\n",
      "9 0.140703936231536\n"
     ]
    }
   ],
   "source": [
    "for key, val in errors.items():\n",
    "    print(key, np.mean(val))"
   ]
  },
  {
   "cell_type": "code",
   "execution_count": 70,
   "metadata": {},
   "outputs": [
    {
     "data": {
      "text/plain": [
       "-1929.8520964687173"
      ]
     },
     "execution_count": 70,
     "metadata": {},
     "output_type": "execute_result"
    }
   ],
   "source": [
    "'''BIC = n*ln(MSE) + k*ln(n))'''\n",
    "k = len(models[1]) - 2\n",
    "mses = [x for a in errors.values() for x in a]\n",
    "mses = [x**2 for x in mses]\n",
    "n = len(mses)\n",
    "BIC = n * np.log(np.mean(mses)) + k * np.log(n)\n",
    "BIC"
   ]
  }
 ],
 "metadata": {
  "kernelspec": {
   "display_name": "Python 3",
   "language": "python",
   "name": "python3"
  },
  "language_info": {
   "codemirror_mode": {
    "name": "ipython",
    "version": 3
   },
   "file_extension": ".py",
   "mimetype": "text/x-python",
   "name": "python",
   "nbconvert_exporter": "python",
   "pygments_lexer": "ipython3",
   "version": "3.9.1"
  }
 },
 "nbformat": 4,
 "nbformat_minor": 2
}
