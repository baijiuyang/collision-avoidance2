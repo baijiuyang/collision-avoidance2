{
 "cells": [
  {
   "cell_type": "code",
   "execution_count": null,
   "metadata": {
    "scrolled": true
   },
   "outputs": [],
   "source": [
    "import os\n",
    "import sys\n",
    "import json\n",
    "from collections import Counter\n",
    "from scipy.integrate import solve_ivp\n",
    "from scipy.stats import ttest_rel\n",
    "import numpy as np\n",
    "from numpy.linalg import norm\n",
    "from numpy import sqrt\n",
    "from math import pi\n",
    "import pickle\n",
    "import matplotlib.pyplot as plt\n",
    "from packages import data_container\n",
    "from packages.data_container import Data\n",
    "from packages.helper import play_trajs, rotate, sp2a, v2sp, dist, psi, beta, d_theta, d_psi, sp2v, dist, \\\n",
    "    traj_speed, min_sep\n",
    "from packages.ode_simulator import ODESimulator\n",
    "from packages.models import cohen_avoid_heading\n",
    "from sklearn.metrics import mean_squared_error\n",
    "from fitting import Bai_movObst1, Cohen_movObst1, Cohen_movObst2\n",
    "from parameters import approaches, avoidances\n",
    "\n",
    "# For pickle to load the Data object, which is defined in packages.data_container\n",
    "sys.modules['data_container'] = data_container\n",
    "\n",
    "data = None\n",
    "def load_data(filename):\n",
    "    global data\n",
    "    filename = filename + '.pickle'\n",
    "    file = os.path.abspath(os.path.join(os.getcwd(), os.pardir, 'Raw_Data', filename))\n",
    "    with open(file, 'rb') as f:\n",
    "        data = pickle.load(f)\n",
    "\n",
    "# file = os.path.abspath(os.path.join(os.getcwd(), os.pardir, 'Raw_Data', 'Cohen_movObst1_data_30Hz.pickle'))\n",
    "# with open(file, 'rb') as f:\n",
    "#     data = pickle.load(f)\n"
   ]
  },
  {
   "cell_type": "code",
   "execution_count": null,
   "metadata": {
    "scrolled": true
   },
   "outputs": [],
   "source": [
    "'''Simulation with var0'''\n",
    "%matplotlib qt\n",
    "Hz = 100\n",
    "xg0, yg0, xo0, yo0, x0, y0 = 0, 10, 5, 5, 0, 0\n",
    "vxo0, vyo0, vx0, vy0 = -1, 0, 0, 0.9\n",
    "s0, phi0 = v2sp([vx0, vy0])\n",
    "a0 = dphi0 = ds0 = 0\n",
    "w = 0.1\n",
    "# xg, yg, xo, yo, vxo, vyo, x, y, vx, vy, a, phi, s, dphi, ds = var0\n",
    "var0 = [xg0, yg0, xo0, yo0, vxo0, vyo0, x0, y0, vx0, vy0, a0, phi0, s0, dphi0, ds0, w]\n",
    "fajen_approach['ps'] = 1\n",
    "fajen_approach2['ps'] = 1\n",
    "cohen_avoid2['ps'] = 1\n",
    "models = [fajen_approach2, cohen_avoid3]\n",
    "dw = [0.1] * 1 * Hz + [0] * 9 * Hz\n",
    "args = {'w_goal': 0.1, 'w_obst': 0.1, 'dw': 0}\n",
    "sim = ODESimulator(Hz=Hz, models=models, args=args, ref=[0, 1])\n",
    "sim.simulate(var0, total_time=10)\n",
    "sim.play()"
   ]
  },
  {
   "cell_type": "code",
   "execution_count": null,
   "metadata": {
    "scrolled": false
   },
   "outputs": [],
   "source": [
    "'''Simulate one trial approach'''\n",
    "############\n",
    "i_trial = 0\n",
    "approach = approaches['Bai_movObst1b']['fajen_approach']['differential_evolution'][0]\n",
    "avoid = None\n",
    "############\n",
    "%matplotlib qt\n",
    "models = [approach]\n",
    "sim = ODESimulator(data=data, ref=[0, 1])\n",
    "sim.models = models\n",
    "sim.simulate_all(trials=[i_trial], t_start='stimuli_onset', t_end='stimuli_out', ps='trial')\n",
    "print(sim.test('p_dist'))\n",
    "sim.play(obst=False)"
   ]
  },
  {
   "cell_type": "markdown",
   "metadata": {},
   "source": [
    "### Cohen_movObst1"
   ]
  },
  {
   "cell_type": "code",
   "execution_count": null,
   "metadata": {
    "scrolled": false
   },
   "outputs": [],
   "source": [
    "'''Simulate one trial avoidance'''\n",
    "load_data('Cohen_movObst1_data')\n",
    "############\n",
    "i_trial = 0\n",
    "approach = approaches['Fajen_steer1a']['fajen_approach']['differential_evolution'][-1]\n",
    "# avoid = avoidances['Cohen_movObst1']['cohen_avoid']['differential_evolution'][-1]\n",
    "avoid = avoidances['Cohen_movObst1']['cohen_avoid_heading']['differential_evolution'][-1]\n",
    "# avoid = {'name': 'cohen_avoid_heading', 'b1': 2.1260796879288923, 'k1': 673.0529452234115, 'c5': 14.968106833780706, 'c6': 1.0453773247966653}\n",
    "\n",
    "############\n",
    "%matplotlib qt\n",
    "models = [approach, avoid]\n",
    "sim = ODESimulator(data=data, ref=[0, 1])\n",
    "sim.models = models\n",
    "sim.simulate_all(trials=[i_trial], t_start='obst_onset', t_end='obst_out', ps='trial')\n",
    "title = 'subj ' + str(sim.data.info['subj_id'][i_trial]) + \\\n",
    "        ' trial ' + str(sim.data.info['trial_id'][i_trial]) + \\\n",
    "        ' obst_angle: ' + str(sim.data.info['obst_angle'][i_trial]) + \\\n",
    "        ' obst_speed: ' + str(sim.data.info['obst_speed'][i_trial])\n",
    "print(sim.test('p_dist'))\n",
    "sim.play(title=title)"
   ]
  },
  {
   "cell_type": "code",
   "execution_count": 18,
   "metadata": {
    "scrolled": false
   },
   "outputs": [
    {
     "name": "stdout",
     "output_type": "stream",
     "text": [
      "Loading finished\n",
      "Simulated 995 trials in 0:00:32\n",
      "distance error is 0.19077652321401395 sd is 0.16680774873852128\n",
      "order accuracy is 0.84321608040201\n",
      "heading RMSE is 0.1836496881408854\n",
      "speed RMSE is 0.12293783996439665\n",
      "The BIC of model cohen_avoid is -2676.4835925817297, MSE is 0.06422050684884084, k is 8, n is 995\n"
     ]
    }
   ],
   "source": [
    "'''Simuate all trials model 1'''\n",
    "load_data('Cohen_movObst1_data')\n",
    "############\n",
    "# subject = 1\n",
    "approach = approaches['Fajen_steer1a']['fajen_approach']['differential_evolution'][-1]\n",
    "avoid = avoidances['Cohen_movObst1']['cohen_avoid']['differential_evolution']['-1obst_onset']\n",
    "\n",
    "############\n",
    "%matplotlib qt\n",
    "models = [approach, avoid]\n",
    "subjects = range(20)\n",
    "sim1, trials1 = Cohen_movObst1(subjects)\n",
    "sim1.reset()\n",
    "sim1.models = models\n",
    "\n",
    "# for i in range(len(data.trajs)):\n",
    "#     if i in data.dump or data.info['subj_id'][i] != subject or data.info['obst_speed'][i] == 0:\n",
    "#         continue\n",
    "#     trials.append(i)\n",
    "sim1.simulate_all(trials1, t_start='obst_onset', t_end='obst_out', ps='trial')\n",
    "errors = sim1.test('p_dist', all_errors=True)\n",
    "print(f\"distance error is {np.mean(errors)} sd is {np.std(errors)}\")\n",
    "print(f\"order accuracy is {sim1.test('order_accuracy')}\")\n",
    "print(f\"heading RMSE is {sim1.test('phi_RMSE')}\")\n",
    "print(f\"speed RMSE is {sim1.test('s_RMSE')}\")\n",
    "errors = sim1.test('p_dist', all_errors=True)\n",
    "# Compute BIC\n",
    "'''BIC = n*ln(MSE) + k*ln(n))'''\n",
    "k = len(models[1]) - 2\n",
    "mses = [x**2 for x in errors]\n",
    "n = len(mses)\n",
    "BIC = n * np.log(np.mean(mses)) + k * np.log(n)\n",
    "print(f'The BIC of model {sim1.models[1][\"name\"]} is {BIC}, MSE is {np.mean(mses)}, k is {k}, n is {n}')"
   ]
  },
  {
   "cell_type": "code",
   "execution_count": null,
   "metadata": {},
   "outputs": [],
   "source": [
    "'''Cross validation error'''\n",
    "load_data('Cohen_movObst1_data')\n",
    "def cross_validate(folder):\n",
    "    path = os.path.abspath(os.path.join(os.getcwd(), os.pardir, 'Results', folder))\n",
    "    filenames = [os.path.join(path, name) for name in os.listdir(path) if name[-3:] == 'txt']\n",
    "    errors = {}\n",
    "    for filename in filenames:\n",
    "        with open(filename, 'rb') as f:\n",
    "            best = 0\n",
    "            e_min = float('inf')\n",
    "            if filename[-6] == '_' or filename[-6] == '-':\n",
    "                subj_id = int(filename[-5])\n",
    "            elif filename[-6] == 'l':\n",
    "                subj_id = -1\n",
    "            else:\n",
    "                subj_id = int(filename[-6:-4])\n",
    "            for i, line in enumerate(f):\n",
    "                if i > 10:\n",
    "                    try:\n",
    "                        err = str(line).split(\"\\\\t\")[2][:10]\n",
    "                        if err[0] == '0':\n",
    "                            err = float(err)\n",
    "                            if err < e_min:\n",
    "                                e_min = err\n",
    "                                best = str(line).replace(\"\\\\\", \"\")\n",
    "                    except:\n",
    "                        pass\n",
    "        try:\n",
    "            if 'acceleration' in path:\n",
    "                models = json.loads(''.join(best.split('t')[1] + best.split('t')[2]).replace(\"\\'\", \"\\\"\")) # If contains acceleration model\n",
    "                models[0]['name'] = \"acceleration_approach\" # If contains acceleration model\n",
    "            else:\n",
    "                models = json.loads(best.split('t')[1].replace(\"\\'\", \"\\\"\")) # If not contains acceleration model\n",
    "            subjects = [int(subj_id)]\n",
    "            sim, trials = Cohen_movObst1(subjects)\n",
    "            sim.reset()\n",
    "            sim.models = models\n",
    "            sim.simulate_all(trials, t_start='obst_onset', t_end='obst_out', ps='trial')\n",
    "            errors[subj_id] = sim.test('p_dist', all_errors=True)\n",
    "            print(f'{subj_id} finished')\n",
    "            print(f'filename {filename}')\n",
    "            print(f'models {sim.models}')\n",
    "            print(f'error {np.mean(errors[subj_id])}')\n",
    "        except Exception as e:\n",
    "            print(e)\n",
    "    return errors\n",
    "\n",
    "    \n",
    "errors = cross_validate('Cohen_movObst1_all_all_models_obst_onset')\n",
    "# Compute BIC\n",
    "for key, val in errors.items():\n",
    "    print(key, np.mean(val))\n",
    "'''BIC = n*ln(MSE) + k*ln(n))'''\n",
    "mses = [x for a in errors.values() for x in a]\n",
    "mses = [x**2 for x in mses]\n",
    "n = len(mses)\n",
    "BIC = n * np.log(np.mean(mses)) + k * np.log(n)\n",
    "print(f'The BIC of model {sim.models[1][\"name\"]} is {BIC}, MSE is {np.mean(mses)}, k is {k}, n is {n}')"
   ]
  },
  {
   "cell_type": "code",
   "execution_count": null,
   "metadata": {
    "scrolled": true
   },
   "outputs": [],
   "source": [
    "'''Output errors for analysis in R'''\n",
    "with open('Cohen_movObst1_CV_errors_obst_onset.csv', 'a') as f:\n",
    "    f.write('model,subject,error\\n')\n",
    "for i in ['', '2', '3', '4']:\n",
    "    model = 'cohen_avoid' + i\n",
    "    errors = cross_validate('Cohen_movObst1_cross_validation_cohen_avoid' + i)\n",
    "    with open('Cohen_movObst1_CV_errors_obst_onset.csv', 'a') as f:\n",
    "        for subj, error in errors.items():\n",
    "            for err in error:\n",
    "                log = [model, subj, err]\n",
    "                log = [str(x) for x in log]\n",
    "                f.write(','.join(log) + '\\n')\n",
    "            "
   ]
  },
  {
   "cell_type": "markdown",
   "metadata": {},
   "source": [
    "### Cohen_movObst2"
   ]
  },
  {
   "cell_type": "code",
   "execution_count": 20,
   "metadata": {
    "scrolled": false
   },
   "outputs": [
    {
     "name": "stdout",
     "output_type": "stream",
     "text": [
      "Loading finished\n",
      "Simulated 875 trials in 0:01:01\n",
      "distance error is 0.24335346579933698 sd is 0.186658554357187\n",
      "order accuracy is 0.7908571428571428\n",
      "heading RMSE is 0.2373975380803746\n",
      "speed RMSE is 0.08918360556924733\n",
      "The BIC of model cohen_avoid3 is -2027.677628473123, MSE is 0.09406232523126401, k is 6, n is 875\n"
     ]
    }
   ],
   "source": [
    "'''Simuate all trials model 1'''\n",
    "load_data('Cohen_movObst2_data')\n",
    "############\n",
    "# subject = 1\n",
    "approach = approaches['Fajen_steer1a']['fajen_approach2']['differential_evolution'][-1]\n",
    "avoid = avoidances['Cohen_movObst2']['cohen_avoid3']['differential_evolution']['-1obst_onset']\n",
    "\n",
    "############\n",
    "%matplotlib qt\n",
    "models = [approach, avoid]\n",
    "subjects = range(20)\n",
    "sim1, trials1 = Cohen_movObst2(subjects)\n",
    "sim1.reset()\n",
    "sim1.models = models\n",
    "\n",
    "# for i in range(len(data.trajs)):\n",
    "#     if i in data.dump or data.info['subj_id'][i] != subject or data.info['obst_speed'][i] == 0:\n",
    "#         continue\n",
    "#     trials.append(i)\n",
    "sim1.simulate_all(trials1, t_start='obst_onset', t_end='obst_out', ps='trial')\n",
    "errors = sim1.test('p_dist', all_errors=True)\n",
    "print(f\"distance error is {np.mean(errors)} sd is {np.std(errors)}\")\n",
    "print(f\"order accuracy is {sim1.test('order_accuracy')}\")\n",
    "print(f\"heading RMSE is {sim1.test('phi_RMSE')}\")\n",
    "print(f\"speed RMSE is {sim1.test('s_RMSE')}\")\n",
    "errors = sim1.test('p_dist', all_errors=True)\n",
    "# Compute BIC\n",
    "'''BIC = n*ln(MSE) + k*ln(n))'''\n",
    "k = len(models[1]) - 2\n",
    "mses = [x**2 for x in errors]\n",
    "n = len(mses)\n",
    "BIC = n * np.log(np.mean(mses)) + k * np.log(n)\n",
    "print(f'The BIC of model {sim1.models[1][\"name\"]} is {BIC}, MSE is {np.mean(mses)}, k is {k}, n is {n}')"
   ]
  },
  {
   "cell_type": "markdown",
   "metadata": {},
   "source": [
    "### Bai_movObst1"
   ]
  },
  {
   "cell_type": "code",
   "execution_count": null,
   "metadata": {
    "scrolled": true
   },
   "outputs": [],
   "source": [
    "'''Simulate one trial avoidance'''\n",
    "############\n",
    "i_trial = 962\n",
    "approach = approaches['Bai_movObst1b']['acceleration_approach']['differential_evolution'][-1]\n",
    "# avoid = avoidances['Cohen_movObst1']['cohen_avoid']['differential_evolution'][-1]\n",
    "avoid = avoidances['Bai_movObst1']['perpendicular_avoid']['differential_evolution'][-1]\n",
    "# avoid = {'name': 'cohen_avoid_heading', 'b1': 2.1260796879288923, 'k1': 673.0529452234115, 'c5': 14.968106833780706, 'c6': 1.0453773247966653}\n",
    "\n",
    "############\n",
    "%matplotlib qt\n",
    "models = [approach, avoid]\n",
    "sim = ODESimulator(data=data, ref=[0, 1])\n",
    "sim.models = models\n",
    "sim.simulate_all(trials=[i_trial], t_start='threshold_onset', t_end='obst_out', ps='trial')\n",
    "title = 'subj ' + str(sim.data.info['subj_id'][i_trial]) + \\\n",
    "        ' trial ' + str(sim.data.info['trial_id'][i_trial]) + \\\n",
    "        ' obst_angle: ' + str(sim.data.info['obst_angle'][i_trial]) + \\\n",
    "        ' obst_speed: ' + str(sim.data.info['obst_speed'][i_trial])\n",
    "print(sim.test('p_dist'))\n",
    "sim.play(title=title)"
   ]
  },
  {
   "cell_type": "code",
   "execution_count": null,
   "metadata": {
    "scrolled": true
   },
   "outputs": [],
   "source": [
    "'''Simuate all trials model 1'''\n",
    "############\n",
    "# subject = 1\n",
    "approach = approaches['Bai_movObst1b']['fajen_approach2']['differential_evolution'][-1]\n",
    "avoid = avoidances['Bai_movObst1']['cohen_avoid4']['differential_evolution'][-1]\n",
    "############\n",
    "%matplotlib qt\n",
    "models = [approach, avoid]\n",
    "subjects = range(20)\n",
    "sim1, trials1 = Bai_movObst1(subjects)\n",
    "sim1.reset()\n",
    "sim1.models = models\n",
    "sim1.simulate_all(trials1, t_start='threshold_onset', t_end='obst_out', ps='trial')\n",
    "print(f'mean distance error is {sim1.test(\"p_dist\")}, sd is {np.std(sim1.test(\"p_dist\", all_errors=True))}')\n",
    "print(f'order accuracy is {sim1.test(\"order_accuracy\")}')\n",
    "print(f'phi RMSE is {sim1.test(\"phi_RMSE\")}')\n",
    "print(f'speed RMSE is {sim1.test(\"s_RMSE\")}')\n",
    "# BIC\n",
    "sim = sim1\n",
    "k = len(models[1]) - 2\n",
    "n = len(sim.p_pred)\n",
    "MSE = np.mean(sim.test('p_dist', all_errors=True)**2)\n",
    "BIC = n * np.log(MSE) + k * np.log(n)\n",
    "print(f'The BIC of model {sim.models[1][\"name\"]} is {BIC}, MSE is {MSE}, k is {k}, n is {n}')\n"
   ]
  },
  {
   "cell_type": "code",
   "execution_count": null,
   "metadata": {
    "scrolled": true
   },
   "outputs": [],
   "source": [
    "models"
   ]
  },
  {
   "cell_type": "code",
   "execution_count": null,
   "metadata": {
    "scrolled": true
   },
   "outputs": [],
   "source": [
    "'''Cross validation error'''\n",
    "path = os.path.abspath(os.path.join(os.getcwd(), os.pardir, 'Results', 'Bai_movObst1_cross_validation_cohen_avoid3_with_approach_trained_on_Bai_movObst1b_all_product_onset'))\n",
    "filenames = [os.path.join(path, name) for name in os.listdir(path) if name[-3:] == 'txt']\n",
    "errors = {}\n",
    "for filename in filenames:\n",
    "    with open(filename, 'rb') as f:\n",
    "        best = 0\n",
    "        e_min = float('inf')\n",
    "        if filename[-6] == '_' or filename[-6] == '-':\n",
    "            subj_id = int(filename[-5])\n",
    "        else:\n",
    "            subj_id = int(filename[-6:-4])\n",
    "        for i, line in enumerate(f):\n",
    "            if i > 10:\n",
    "                try:\n",
    "                    err = str(line).split(\"\\\\t\")[2][:10]\n",
    "                    if err[0] == '0':\n",
    "                        err = float(err)\n",
    "                        if err < e_min:\n",
    "                            e_min = err\n",
    "                            best = str(line).replace(\"\\\\\", \"\")\n",
    "                except:\n",
    "                    pass\n",
    "    try:\n",
    "        if 'acceleration' in path:\n",
    "            models = json.loads(''.join(best.split('t')[1] + best.split('t')[2]).replace(\"\\'\", \"\\\"\")) # If contains acceleration model\n",
    "            models[0]['name'] = \"acceleration_approach\" # If contains acceleration model\n",
    "        else:\n",
    "            models = json.loads(best.split('t')[1].replace(\"\\'\", \"\\\"\")) # If not contains acceleration model\n",
    "        subjects = [int(subj_id)]\n",
    "        sim, trials = Bai_movObst1(subjects)\n",
    "        sim.reset()\n",
    "        sim.models = models\n",
    "        sim.simulate_all(trials, t_start='dtheta*dpsi_onset', t_end='obst_out', ps='trial')\n",
    "        errors[subj_id] = sim.test('p_dist', all_errors=True)\n",
    "        print(f'{subj_id} finished')\n",
    "        print(f'filename {filename}')\n",
    "        print(f'models {sim.models}')\n",
    "        print(f'error {np.mean(errors[subj_id])}')\n",
    "    except Exception as e:\n",
    "        print(e)"
   ]
  },
  {
   "cell_type": "code",
   "execution_count": null,
   "metadata": {
    "scrolled": true
   },
   "outputs": [],
   "source": [
    "for key, val in errors.items():\n",
    "    print(key, np.mean(val))\n",
    "'''BIC = n*ln(MSE) + k*ln(n))'''\n",
    "k = len(models[1]) - 2\n",
    "mses = [x for a in errors.values() for x in a]\n",
    "mses = [x**2 for x in mses]\n",
    "n = len(mses)\n",
    "BIC = n * np.log(np.mean(mses)) + k * np.log(n)\n",
    "print(f'The BIC of model {sim.models[1][\"name\"]} is {BIC}, MSE is {np.mean(mses)}, k is {k}, n is {n}')"
   ]
  },
  {
   "cell_type": "code",
   "execution_count": null,
   "metadata": {
    "scrolled": true
   },
   "outputs": [],
   "source": [
    "'''Compare two simulations'''\n",
    "%matplotlib qt\n",
    "e1 = sim1.test('p_dist', all_errors=True)\n",
    "e2 = sim2.test('p_dist', all_errors=True)\n",
    "plt.plot(e1, label=sim1.models[1]['name'])\n",
    "plt.plot(e2, label=sim2.models[1]['name'])\n",
    "plt.legend()\n",
    "plt.xlabel('trial#')\n",
    "plt.ylabel('distance error (m)')"
   ]
  },
  {
   "cell_type": "code",
   "execution_count": null,
   "metadata": {
    "scrolled": true
   },
   "outputs": [],
   "source": [
    "'''Animate certain trials'''\n",
    "sim = sim\n",
    "i_trial = 0\n",
    "sim.play(i_trial=i_trial)\n",
    "sim.test('p_dist', i_trials=[i_trial])"
   ]
  },
  {
   "cell_type": "code",
   "execution_count": null,
   "metadata": {
    "scrolled": true
   },
   "outputs": [],
   "source": [
    "sim.models"
   ]
  },
  {
   "cell_type": "code",
   "execution_count": null,
   "metadata": {
    "scrolled": true
   },
   "outputs": [],
   "source": [
    "'''Check pass order accuracy of model1 and model2 when model1 is worse'''\n",
    "acc1 = 0\n",
    "acc2 = 0\n",
    "total = 0\n",
    "for i in np.where(np.array(e1) > np.array(e2))[0]:\n",
    "    j = sim1.i_trials[i]\n",
    "    pred_order1 = sim1.pass_order_pred[i]\n",
    "    pred_order2 = sim2.pass_order_pred[i]\n",
    "    true_order = data.info['pass_order'][j]\n",
    "    acc1 += 1 if pred_order1 == true_order else 0\n",
    "    acc2 += 1 if pred_order2 == true_order else 0\n",
    "    total += 1\n",
    "print(acc1, acc2, acc1/total, acc2/total)"
   ]
  },
  {
   "cell_type": "code",
   "execution_count": null,
   "metadata": {
    "scrolled": true
   },
   "outputs": [],
   "source": [
    "'''Check the error when model1 is worse'''\n",
    "ee1 = []\n",
    "ee2 = []\n",
    "for e1i, e2i in zip(e1, e2):\n",
    "    if e1i > e2i:\n",
    "        ee1.append(e1i)\n",
    "    elif e1i < e2i:\n",
    "        ee2.append(e1i)\n",
    "print(np.mean(ee1), np.mean(ee2))"
   ]
  },
  {
   "cell_type": "code",
   "execution_count": null,
   "metadata": {
    "scrolled": true
   },
   "outputs": [],
   "source": [
    "'''Check the conditions of large errors'''\n",
    "cons = []\n",
    "for i in np.where(np.array(e1) > 0.3)[0]:\n",
    "    j = sim1.i_trials[i]\n",
    "    speed = data.info['obst_speed'][j]\n",
    "    angle = data.info['obst_angle'][j]\n",
    "    cons.append((angle, speed))\n",
    "c = Counter(cons)\n",
    "print(c)"
   ]
  },
  {
   "cell_type": "code",
   "execution_count": null,
   "metadata": {
    "scrolled": true
   },
   "outputs": [],
   "source": [
    "'''BIC'''\n",
    "sim = sim1\n",
    "k = 8\n",
    "n = len(sim.p_pred)\n",
    "MSE = np.mean(sim.test('p_dist', all_errors=True)**2)\n",
    "BIC = n * np.log(MSE) + k * np.log(n)\n",
    "print(f'The BIC of model {sim.models[1][\"name\"]} is {BIC}, MSE is {MSE}, k is {k}, n is {n}')"
   ]
  },
  {
   "cell_type": "code",
   "execution_count": null,
   "metadata": {
    "scrolled": true
   },
   "outputs": [],
   "source": [
    "'''Find trials in certain range of error'''\n",
    "sim = sim1\n",
    "errors = sim.test('p_dist', all_errors=True)\n",
    "print(f'smallest error {np.argmin(errors)}')\n",
    "for i, err in enumerate(errors):\n",
    "    if 0.189 < err < 0.19:\n",
    "        print(i)"
   ]
  },
  {
   "cell_type": "code",
   "execution_count": null,
   "metadata": {
    "scrolled": true
   },
   "outputs": [],
   "source": [
    "'''Play simulations'''\n",
    "sim = sim1\n",
    "i_trial = 897\n",
    "print(sim.test('p_dist', i_trials=[i_trial]))\n",
    "sim.play(i_trial=i_trial, save=True)\n"
   ]
  },
  {
   "cell_type": "code",
   "execution_count": null,
   "metadata": {
    "scrolled": true
   },
   "outputs": [],
   "source": [
    "'''Check simulation length'''\n",
    "ls = []\n",
    "for i in range(len(sim.p_pred)):\n",
    "    ls.append(len(sim.p_pred[i]))\n",
    "np.mean(ls)/30"
   ]
  },
  {
   "cell_type": "code",
   "execution_count": null,
   "metadata": {
    "scrolled": true
   },
   "outputs": [],
   "source": [
    "'''Speed and heading errors correct vs incorrect trials'''\n",
    "from sklearn.metrics import mean_squared_error\n",
    "sim = sim1\n",
    "phi_MSEs = []\n",
    "speed_MSEs = []\n",
    "trials = []\n",
    "for i in range(len(sim.v_pred)):\n",
    "    j = sim.i_trials[i]\n",
    "#     if sim.pass_order_pred[i] == sim.data.info['pass_order'][j]:\n",
    "    v_subj = np.gradient(sim.p_subj[i], axis=0) * sim.data.Hz\n",
    "    v_pred = sim.v_pred[i]\n",
    "    s0, phi0 = v2sp(v_subj)\n",
    "    s1, phi1 = v2sp(v_pred)\n",
    "    speed_MSEs.append(mean_squared_error(s0, s1))\n",
    "    phi_MSEs.append(mean_squared_error(phi0, phi1))\n",
    "    trials.append(i)\n",
    "print(sim.models)\n",
    "print(f'{len(phi_MSEs)} trials in total')\n",
    "print(f'RMSE on heading is {np.sqrt(np.mean(phi_MSEs))}')\n",
    "print(f'RMSE on speed is {np.sqrt(np.mean(speed_MSEs))}')\n",
    "print(f\"Distance is {sim.test('p_dist', i_trials=trials)}\")"
   ]
  },
  {
   "cell_type": "code",
   "execution_count": null,
   "metadata": {
    "scrolled": true
   },
   "outputs": [],
   "source": [
    "sim2.test('p_dist')"
   ]
  },
  {
   "cell_type": "code",
   "execution_count": null,
   "metadata": {
    "scrolled": true
   },
   "outputs": [],
   "source": [
    "'''Minimum Passing Distance'''\n",
    "%matplotlib qt\n",
    "sim = sim2\n",
    "fig = plt.figure()\n",
    "ax = fig.add_subplot()\n",
    "ax.set_title('Signed predicted minimum passing distance (SMPD)')\n",
    "ax.set_ylabel('SMPD (m)')\n",
    "ax.set_xlabel('normalized time (%)')\n",
    "ax.set_ylim((-2, 2))\n",
    "for j, i in enumerate(sim.i_trials):\n",
    "    t0 = data.info['obst_onset'][i]\n",
    "    t1 = data.info['obst_out'][i]\n",
    "    p0 = sim.p_pred[j]\n",
    "    p1 = data.info['p_obst'][i][t0:t1]\n",
    "    v0 = sim.v_pred[j]\n",
    "    v1 = data.info['v_obst'][i][t0:t1]\n",
    "    t = np.linspace(0, 100, len(p0))\n",
    "    smpd = []\n",
    "    for _p0, _p1, _v0, _v1 in zip(p0, p1, v0, v1):        \n",
    "        smpd.append(min_sep(_p0, _p1, _v0, _v1)[0])\n",
    "    ax.plot(t, smpd, 'k', linewidth=0.1, alpha=0.5)"
   ]
  },
  {
   "cell_type": "code",
   "execution_count": null,
   "metadata": {
    "scrolled": true
   },
   "outputs": [],
   "source": [
    "print(len(p0), len(p1), len(sim.i_trials))"
   ]
  },
  {
   "cell_type": "code",
   "execution_count": null,
   "metadata": {
    "scrolled": true
   },
   "outputs": [],
   "source": [
    "'''Compute pred_order'''\n",
    "s = sim\n",
    "orders = []\n",
    "for i in range(len(s.p_pred)):\n",
    "    j = s.i_trials[i]\n",
    "    true_order = s.data.info['pass_order'][j]\n",
    "    p0 = s.p_pred[i][-1]\n",
    "    v0 = s.v_pred[i][-1]\n",
    "    p1 = s.p_obst[i][-1]\n",
    "    _beta = beta(p0, p1, v0)\n",
    "    angle = s.data.info['obst_angle'][j]\n",
    "    pred_order = np.sign(_beta * -angle)\n",
    "    orders.append(true_order == pred_order)\n",
    "print(np.mean(orders))"
   ]
  },
  {
   "cell_type": "code",
   "execution_count": null,
   "metadata": {
    "scrolled": true
   },
   "outputs": [],
   "source": [
    "sim.test('order_accuracy')"
   ]
  },
  {
   "cell_type": "code",
   "execution_count": null,
   "metadata": {
    "scrolled": true
   },
   "outputs": [],
   "source": [
    "'''t-test between two models'''\n",
    "err1 = sim.test('p_dist', all_errors=True)\n",
    "err2 = sim2.test('p_dist', all_errors=True)\n",
    "print(ttest_rel(err1, err2))\n",
    "print(f'sd1 = {np.std(err1)}, sd2 = {np.std(err2)}')\n",
    "print(f'df = {len(err1) - 1}')"
   ]
  },
  {
   "cell_type": "code",
   "execution_count": null,
   "metadata": {
    "scrolled": true
   },
   "outputs": [],
   "source": [
    "'''Show one trial from batch simulations'''\n",
    "######## index in simulated trials only\n",
    "i = 83\n",
    "########\n",
    "i_trial = sim.i_trials[i]\n",
    "title = 'subj ' + str(sim.data.info['subj_id'][i_trial]) + \\\n",
    "        ' trial ' + str(sim.data.info['trial_id'][i_trial]) + \\\n",
    "        ' obst_angle: ' + str(sim.data.info['obst_angle'][i_trial]) + \\\n",
    "        ' obst_speed: ' + str(sim.data.info['obst_speed'][i_trial])\n",
    "sim.play(i, title=title, save=False)\n",
    "\n",
    "# When beta and dpsi has the same sign it means pass in front, otherwise it means pass from behind\n",
    "pass_order = sim.data.info['pass_order'][i]\n",
    "pred = sim.pass_order_pred[i]\n",
    "print('pass order ', pass_order, 'prediction ', pred)\n",
    "print(f\"err is {sim.test('p_dist', i_trial=i)}\")"
   ]
  },
  {
   "cell_type": "code",
   "execution_count": null,
   "metadata": {
    "scrolled": true
   },
   "outputs": [],
   "source": [
    "'''plot true vs predicted speed by condition'''\n",
    "#####################\n",
    "subject = 1\n",
    "#####################\n",
    "%matplotlib qt\n",
    "Hz = sim.Hz\n",
    "fig = plt.figure()\n",
    "fig.suptitle('Subject ' + str(subject))\n",
    "axes = {}\n",
    "obst_angle = sorted(set([abs(x) for x in data.info['obst_angle'] if x != 0]))\n",
    "obst_speed = sorted(set([abs(x) for x in data.info['obst_speed'] if x != 0]))\n",
    "i_plot = 1\n",
    "for angle in obst_angle:\n",
    "    for speed in obst_speed:\n",
    "        axes[(angle, speed)] = fig.add_subplot(5, 5, i_plot)\n",
    "        axes[(angle, speed)].set_xlim(0, 5)\n",
    "        axes[(angle, speed)].set_ylim(0.5, 2)\n",
    "        axes[(angle, speed)].set_title(str(angle) + '° ' + str(speed) + 'm/s')\n",
    "#         axes[(angle, speed)].set_aspect('equal')\n",
    "        i_plot += 1\n",
    "for i, i_trial in enumerate(sim.i_trials):\n",
    "    speed = sim.data.info['obst_speed'][i_trial]\n",
    "    angle = sim.data.info['obst_angle'][i_trial]\n",
    "    subj_id = sim.data.info['subj_id'][i_trial]\n",
    "    if subj_id != subject or speed == 0:\n",
    "        continue\n",
    "    \n",
    "    subj, pred = sim.p_subj[i], sim.p_pred[i]\n",
    "    s_subj, s_pred = traj_speed(subj, Hz), traj_speed(pred, Hz)\n",
    "    t = np.linspace(0, len(pred)-1, len(pred)) / Hz\n",
    "    # Speed\n",
    "    axes[(abs(angle), speed)].plot(t, s_subj, 'r')\n",
    "    axes[(abs(angle), speed)].plot(t, s_pred, 'b')\n"
   ]
  },
  {
   "cell_type": "code",
   "execution_count": null,
   "metadata": {
    "scrolled": true
   },
   "outputs": [],
   "source": [
    "'''plot true vs predicted heading by condition'''\n",
    "#####################\n",
    "subject = 1\n",
    "#####################\n",
    "%matplotlib qt\n",
    "Hz = sim.Hz\n",
    "fig = plt.figure()\n",
    "fig.suptitle('Subject ' + str(subject))\n",
    "axes = {}\n",
    "obst_angle = sorted(set([abs(x) for x in data.info['obst_angle'] if x != 0]))\n",
    "obst_speed = sorted(set([abs(x) for x in data.info['obst_speed'] if x != 0]))\n",
    "i_plot = 1\n",
    "for angle in obst_angle:\n",
    "    for speed in obst_speed:\n",
    "        axes[(angle, speed)] = fig.add_subplot(5, 5, i_plot)\n",
    "        axes[(angle, speed)].set_xlim(0, 5)\n",
    "        axes[(angle, speed)].set_ylim(0, 1.5)\n",
    "        axes[(angle, speed)].set_title(str(angle) + '° ' + str(speed) + 'm/s')\n",
    "#         axes[(angle, speed)].set_aspect('equal')\n",
    "        i_plot += 1\n",
    "for i, i_trial in enumerate(sim.i_trials):\n",
    "    speed = sim.data.info['obst_speed'][i_trial]\n",
    "    angle = sim.data.info['obst_angle'][i_trial]\n",
    "    subj_id = sim.data.info['subj_id'][i_trial]\n",
    "    if subj_id != subject or speed == 0:\n",
    "        continue\n",
    "    \n",
    "    subj, pred = sim.p_subj[i], sim.p_pred[i]\n",
    "    h_subj, h_pred = v2sp(np.gradient(subj, axis=0) * Hz)[1], v2sp(np.gradient(pred, axis=0) * Hz)[1]\n",
    "    if h_subj[0] < 0:\n",
    "        h_subj += pi\n",
    "        h_pred += pi\n",
    "    t = np.linspace(0, len(pred)-1, len(pred)) / Hz\n",
    "    # Heading\n",
    "    axes[(abs(angle), speed)].plot(t, h_subj, 'r')\n",
    "    axes[(abs(angle), speed)].plot(t, h_pred, 'b')\n",
    "    if abs(angle) == 112.5 and speed == 1.2:\n",
    "        print(i, i_trial)\n"
   ]
  }
 ],
 "metadata": {
  "kernelspec": {
   "display_name": "Python 3",
   "language": "python",
   "name": "python3"
  },
  "language_info": {
   "codemirror_mode": {
    "name": "ipython",
    "version": 3
   },
   "file_extension": ".py",
   "mimetype": "text/x-python",
   "name": "python",
   "nbconvert_exporter": "python",
   "pygments_lexer": "ipython3",
   "version": "3.6.10"
  }
 },
 "nbformat": 4,
 "nbformat_minor": 2
}
