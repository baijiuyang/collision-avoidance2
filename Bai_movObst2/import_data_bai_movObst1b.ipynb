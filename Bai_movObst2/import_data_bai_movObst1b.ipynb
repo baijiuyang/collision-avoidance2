{
 "cells": [
  {
   "cell_type": "code",
   "execution_count": 1,
   "metadata": {},
   "outputs": [],
   "source": [
    "import os\n",
    "import sys\n",
    "import pickle\n",
    "import numpy as np\n",
    "from numpy import gradient\n",
    "from math import pi, ceil\n",
    "import matplotlib.pyplot as plt\n",
    "from packages import data_container\n",
    "from packages.data_container import Data\n",
    "from packages.helper import traj_speed, beta, min_dist, d_psi, min_sep\n",
    "from collections import defaultdict\n",
    "# For pickle to load the Data object, which is defined in packages.data_container\n",
    "sys.modules['data_container'] = data_container"
   ]
  },
  {
   "cell_type": "code",
   "execution_count": 2,
   "metadata": {},
   "outputs": [
    {
     "name": "stdout",
     "output_type": "stream",
     "text": [
      "(0.4307497923198857, 307)\n"
     ]
    }
   ],
   "source": [
    "'''Import data from csv to Data object'''\n",
    "header=('subj_x', 'subj_y', 'subj_z', 'subj_yaw', 'subj_pitch', 'subj_row')\n",
    "info={'p_goal':[], 'subj_id':[], 'trial_id':[], 'stimuli_onset':[],  'leader_s0':[], 'goal_d0':[], 'goal_angle':[],\n",
    "      'stimuli_out':[], 'w_goal': 0.4, 'ps_trial':[], 'ps_subj':[], 'time_stamp':[],\n",
    "      'p_subj':[], 'v_subj':[], 'a_subj':[]}\n",
    "data = Data(Hz=90, header=header, info=info)\n",
    "info['experiment_name'] = 'Bai_movObst1b'\n",
    "folder = os.path.join(os.getcwd(), os.pardir, 'Raw_Data', 'Bai_movObst1b')\n",
    "os.listdir(folder)\n",
    "\n",
    "for file in os.listdir(folder):\n",
    "    # Import output\n",
    "    file_path = os.path.abspath(os.path.join(folder, file))\n",
    "    subj_id = int(file[-6:-4])\n",
    "    with open(file_path, 'r') as f:\n",
    "        trials = [line.split(',') for line in f.read().split('\\n')]\n",
    "    head = 0\n",
    "    while head + 1 < len(trials):\n",
    "        for i in range(head+1, len(trials)):\n",
    "            if trials[i][0] == '':\n",
    "                tail = i - 1\n",
    "                break\n",
    "        trial_id = int(trials[head+1][1])\n",
    "        time_stamp = [float(line[0]) for line in trials[head+3:tail+1]]\n",
    "        s0 = float(trials[head+1][3])\n",
    "        d0 = float(trials[head+1][5])\n",
    "        angle = float(trials[head+1][7])\n",
    "        subj = np.array([[float(val) for val in line[1:7]] for line in trials[head+3:tail+1]])\n",
    "        p0 = Data.filter(subj[:,[0,2]], time_stamp, 90, 4, 0.6)\n",
    "        v0 = gradient(p0, axis=0) * data.Hz\n",
    "        a0 = gradient(v0, axis=0) * data.Hz\n",
    "        goal = np.array([[float(line[-3]), float(line[-2])] for line in trials[head+3:tail+1]])\n",
    "        stimuli_onset = stimuli_out = None\n",
    "        if s0:\n",
    "            for i in range(head+3, tail+1):\n",
    "                if trials[i][-1] == 'True' or trials[i][-1] == 'TRUE':\n",
    "                    stimuli_onset = i - head - 3\n",
    "                    break\n",
    "            stimuli_out = len(time_stamp) - 1\n",
    "        data.add_traj(subj)\n",
    "        ps_trial = np.mean(traj_speed(subj[-2*data.Hz:-data.Hz,[0,2]], data.Hz))            \n",
    "        data.add_info({'p_goal':goal, 'subj_id':subj_id, 'trial_id':trial_id,\n",
    "                       'stimuli_onset':stimuli_onset, 'stimuli_out':stimuli_out, 'time_stamp':time_stamp, \n",
    "                       'ps_trial':ps_trial, 'ps_subj':0, 'leader_s0':s0, 'goal_d0':d0, 'goal_angle':angle,\n",
    "                       'p_subj':p0, 'v_subj':v0, 'a_subj':a0})\n",
    "        head = tail + 1\n",
    "\n",
    "'''Dump bottom 1% trials that have the smallest minimal speed'''\n",
    "vs = []\n",
    "for i in range(len(data.trajs)):\n",
    "    if i in data.dump or data.info['leader_s0'][i] == 0:\n",
    "        continue\n",
    "    t0 = data.info['stimuli_onset'][i]\n",
    "    t1 = data.info['stimuli_out'][i]\n",
    "    if t1 - t0 > 1000:\n",
    "        data.dump[i] = 'Trial took more than 1000 frames'\n",
    "    s = min(traj_speed(data.info['p_subj'][i][t0:t1], Hz=data.Hz))\n",
    "    vs.append((s, i))\n",
    "vs.sort()\n",
    "n = int(len(vs) / 100) # 1% of trials\n",
    "print(f'The cutoff speed is {vs[n]}')\n",
    "for i in [x[1] for x in vs[:n]]:\n",
    "    data.dump[i] = 'min speed below bottom 1%'\n",
    "        \n",
    "ps_subj = defaultdict(int)\n",
    "for i in range(len(data.trajs)):\n",
    "    if data.info['leader_s0'][i] == 0:\n",
    "        subj_id = data.info['subj_id'][i]\n",
    "        ps_subj[subj_id] += data.info['ps_trial'][i] / 10  # Because there were 10 freewalk trials\n",
    "for i in range(len(data.trajs)):\n",
    "    subj_id = data.info['subj_id'][i]\n",
    "    data.info['ps_subj'][i] = ps_subj[subj_id]\n",
    "outfile = os.path.abspath(os.path.join(os.getcwd(), os.pardir, 'Raw_Data', 'Bai_movObst1b_data.pickle'))       \n",
    "# with open(outfile, 'wb') as f:   \n",
    "#     pickle.dump(data, f, pickle.HIGHEST_PROTOCOL)  "
   ]
  },
  {
   "cell_type": "code",
   "execution_count": 3,
   "metadata": {},
   "outputs": [],
   "source": [
    "'''Save a 30 Hz version for fitting'''\n",
    "# Convert to 30 Hz for fitting\n",
    "data.Hz = 30\n",
    "for i in range(len(data.trajs)):\n",
    "    data.trajs[i] = data.trajs[i][::3]\n",
    "    data.info['p_goal'][i] = data.info['p_goal'][i][::3]\n",
    "    data.info['time_stamp'][i] = data.info['time_stamp'][i][::3]\n",
    "    data.info['p_subj'][i] = data.info['p_subj'][i][::3]\n",
    "    data.info['v_subj'][i] = data.info['v_subj'][i][::3]\n",
    "    data.info['a_subj'][i] = data.info['a_subj'][i][::3]\n",
    "    if data.info['stimuli_onset'][i]:\n",
    "        data.info['stimuli_onset'][i] = ceil(data.info['stimuli_onset'][i] / 3)\n",
    "        data.info['stimuli_out'][i] = data.info['stimuli_out'][i] // 3\n",
    "outfile = os.path.abspath(os.path.join(os.getcwd(), os.pardir, 'Raw_Data', 'Bai_movObst1b_data_30Hz.pickle'))       \n",
    "with open(outfile, 'wb') as f:   \n",
    "    pickle.dump(data, f, pickle.HIGHEST_PROTOCOL)"
   ]
  },
  {
   "cell_type": "code",
   "execution_count": 16,
   "metadata": {},
   "outputs": [
    {
     "data": {
      "text/plain": [
       "{0, 1, 2, 3, 4, 6, 7, 9, 10, 11, 12, 13}"
      ]
     },
     "execution_count": 16,
     "metadata": {},
     "output_type": "execute_result"
    }
   ],
   "source": [
    "set(data.info['subj_id'])"
   ]
  },
  {
   "cell_type": "code",
   "execution_count": 38,
   "metadata": {},
   "outputs": [
    {
     "data": {
      "text/plain": [
       "{0.0, 0.5, 1.4}"
      ]
     },
     "execution_count": 38,
     "metadata": {},
     "output_type": "execute_result"
    }
   ],
   "source": [
    "set(data.info['leader_s0'])"
   ]
  },
  {
   "cell_type": "code",
   "execution_count": 69,
   "metadata": {},
   "outputs": [
    {
     "data": {
      "text/plain": [
       "[(654, 1356, 12, 57),\n",
       " (657, 1111, 10, 72),\n",
       " (657, 1407, 12, 108),\n",
       " (658, 952, 9, 43),\n",
       " (659, 1093, 10, 54),\n",
       " (660, 1466, 13, 37),\n",
       " (661, 1079, 10, 40),\n",
       " (661, 1128, 10, 89),\n",
       " (661, 1405, 12, 106),\n",
       " (663, 1290, 11, 121),\n",
       " (664, 1470, 13, 41),\n",
       " (667, 1138, 10, 99),\n",
       " (669, 953, 9, 44),\n",
       " (670, 1391, 12, 92),\n",
       " (673, 949, 9, 40),\n",
       " (674, 1119, 10, 80),\n",
       " (674, 1347, 12, 48),\n",
       " (675, 1493, 13, 64),\n",
       " (678, 1485, 13, 56),\n",
       " (679, 1045, 10, 6),\n",
       " (679, 1109, 10, 70),\n",
       " (679, 1517, 13, 88),\n",
       " (682, 1211, 11, 42),\n",
       " (683, 1047, 10, 8),\n",
       " (683, 1127, 10, 88),\n",
       " (686, 944, 9, 35),\n",
       " (688, 1146, 10, 107),\n",
       " (688, 1164, 10, 125),\n",
       " (689, 1140, 10, 101),\n",
       " (690, 396, 3, 7),\n",
       " (690, 921, 9, 12),\n",
       " (692, 1481, 13, 52),\n",
       " (694, 1132, 10, 93),\n",
       " (695, 1137, 10, 98),\n",
       " (697, 1121, 10, 82),\n",
       " (697, 1153, 10, 114),\n",
       " (699, 1160, 10, 121),\n",
       " (700, 1044, 10, 5),\n",
       " (703, 1437, 13, 8),\n",
       " (707, 1439, 13, 10),\n",
       " (719, 1048, 10, 9),\n",
       " (719, 1154, 10, 115),\n",
       " (720, 1062, 10, 23),\n",
       " (725, 1066, 10, 27),\n",
       " (729, 1049, 10, 10),\n",
       " (736, 1124, 10, 85),\n",
       " (740, 1060, 10, 21),\n",
       " (742, 1073, 10, 34),\n",
       " (752, 1085, 10, 46),\n",
       " (836, 1059, 10, 20)]"
      ]
     },
     "execution_count": 69,
     "metadata": {},
     "output_type": "execute_result"
    }
   ],
   "source": [
    "length = []\n",
    "for i in range(len(data.trajs)):    \n",
    "    if data.info['stimuli_out'][i] and i not in data.dump:\n",
    "#         print(i,  data.info['stimuli_onset'][i], data.info['stimuli_out'][i])\n",
    "        length.append((data.info['stimuli_out'][i] - data.info['stimuli_onset'][i], i, data.info['subj_id'][i], data.info['trial_id'][i]))\n",
    "length.sort()\n",
    "length[-50:]\n",
    "# print(len(length), len(data.trajs))"
   ]
  },
  {
   "cell_type": "code",
   "execution_count": 67,
   "metadata": {},
   "outputs": [],
   "source": [
    "'''check redundant trials'''\n",
    "trials = defaultdict(int)\n",
    "for i in range(len(data.trajs)):\n",
    "    subj_id = data.info['subj_id'][i]\n",
    "    trial_id = data.info['trial_id'][i]\n",
    "    trials[(subj_id, trial_id)] += 1\n",
    "for k, v in trials.items():\n",
    "    if v > 1:\n",
    "        print(k, v)"
   ]
  },
  {
   "cell_type": "code",
   "execution_count": null,
   "metadata": {},
   "outputs": [],
   "source": [
    "i = 1\n",
    "print(data.info['stimuli_onset'][i])\n",
    "print(data.info['time_stamp'][i][297])\n",
    "print(data.info['stimuli_out'][i], len(data.info['time_stamp'][i]))\n",
    "print(data.info['leader_s0'][i], data.info['goal_d0'][i], data.info['goal_angle'][i])\n",
    "print(data.info['ps_trial'][i], data.info['ps_subj'][i])\n",
    "print(data.info['p_subj'][i])\n",
    "print(data.info['v_subj'][i][-180:-90])\n",
    "print(data.info['a_subj'][i])"
   ]
  },
  {
   "cell_type": "code",
   "execution_count": 75,
   "metadata": {},
   "outputs": [],
   "source": [
    "# Check imported data\n",
    "vals = []\n",
    "%matplotlib qt\n",
    "for i in range(len(data.trajs)):\n",
    "    if i in data.dump:\n",
    "        continue\n",
    "    val = data.info['ps_trial'][i]\n",
    "    vals.append(val)\n",
    "    p_goal = np.array(data.info['p_goal'][i])\n",
    "    p_subj = data.info['p_subj'][i]\n",
    "    onset = data.info['stimuli_onset'][i]\n",
    "    i_subj = data.info['subj_id'][i]\n",
    "    angle = data.info['goal_angle'][i]\n",
    "#     plt.plot(vals)\n",
    "    plt.plot(data.info['p_subj'][i][:,0], data.info['p_subj'][i][:,1], data.Hz)\n",
    "#     if i_subj == 0:\n",
    "#         plt.plot(traj_speed(data.info['p_subj'][i], data.Hz))\n",
    "#     if angle == -20:\n",
    "#         plt.plot(data.info['p_subj'][i][:,0], data.info['p_subj'][i][:,1])"
   ]
  }
 ],
 "metadata": {
  "kernelspec": {
   "display_name": "avoidance",
   "language": "python",
   "name": "avoidance"
  },
  "language_info": {
   "codemirror_mode": {
    "name": "ipython",
    "version": 3
   },
   "file_extension": ".py",
   "mimetype": "text/x-python",
   "name": "python",
   "nbconvert_exporter": "python",
   "pygments_lexer": "ipython3",
   "version": "3.6.10"
  }
 },
 "nbformat": 4,
 "nbformat_minor": 4
}
