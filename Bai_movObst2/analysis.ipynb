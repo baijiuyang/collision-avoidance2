{
 "cells": [
  {
   "cell_type": "code",
   "execution_count": 1,
   "metadata": {},
   "outputs": [],
   "source": [
    "import os\n",
    "import sys\n",
    "import json\n",
    "import random\n",
    "from itertools import product\n",
    "from collections import Counter\n",
    "from scipy.integrate import solve_ivp\n",
    "from scipy.interpolate import interp1d\n",
    "from scipy.stats import ttest_ind\n",
    "import numpy as np\n",
    "from numpy.linalg import norm\n",
    "from numpy import sqrt\n",
    "from sklearn.metrics import accuracy_score\n",
    "from sklearn.manifold import MDS\n",
    "from sklearn.decomposition import PCA\n",
    "from math import pi\n",
    "import pickle\n",
    "import matplotlib.pyplot as plt\n",
    "from packages import data_container\n",
    "from packages.data_container import Data\n",
    "from packages.helper import play_trajs, rotate, sp2a, v2sp, psi, beta, d_theta, d_psi, sp2v, dist, min_dist, \\\n",
    "    vector_angle, signed_angle, side, inner, theta, min_sep, traj_speed\n",
    "from packages.ode_simulator import ODESimulator\n",
    "from parameters import approaches, avoidances\n",
    "# For pickle to load the Data object, which is defined in packages.data_container\n",
    "sys.modules['data_container'] = data_container\n",
    "\n",
    "# file = os.path.abspath(os.path.join(os.getcwd(), os.pardir, 'Raw_Data', 'Fajen_steer1a_data.pickle'))\n",
    "# with open(file, 'rb') as f:\n",
    "#     data = pickle.load(f)\n",
    "\n",
    "# file = os.path.abspath(os.path.join(os.getcwd(), os.pardir, 'Raw_Data', 'Bai_movObst2_data.pickle'))\n",
    "# with open(file, 'rb') as f:\n",
    "#     data = pickle.load(f)\n",
    "\n",
    "# file = os.path.abspath(os.path.join(os.getcwd(), os.pardir, 'Raw_Data', 'Bai_movObst1_data_30Hz.pickle'))\n",
    "# with open(file, 'rb') as f:\n",
    "#     data = pickle.load(f)\n",
    "\n",
    "file = os.path.abspath(os.path.join(os.getcwd(), os.pardir, 'Raw_Data', 'Cohen_movObst1_data.pickle'))\n",
    "with open(file, 'rb') as f:\n",
    "    data = pickle.load(f)\n",
    "\n",
    "    \n",
    "%matplotlib qt"
   ]
  },
  {
   "cell_type": "code",
   "execution_count": 64,
   "metadata": {},
   "outputs": [
    {
     "data": {
      "text/plain": [
       "<matplotlib.legend.Legend at 0x1f672c38dd8>"
      ]
     },
     "execution_count": 64,
     "metadata": {},
     "output_type": "execute_result"
    }
   ],
   "source": [
    "'''Multidimensional Scaling'''\n",
    "model = 'cohen_avoid'\n",
    "subjects = [0, 1, 2, 3, 4, 6, 7, 9, 10, 11, 12, 13]\n",
    "X = []\n",
    "for s in subjects:\n",
    "    X.append(list(avoidances['Bai_movObst1'][model]['differential_evolution'][s].values())[1:])\n",
    "embedding = MDS(n_components=2)\n",
    "X_transformed = embedding.fit_transform(X)\n",
    "plt.scatter(X_transformed[:,0], X_transformed[:,1], label=model)\n",
    "for i, txt in enumerate(subjects):\n",
    "    plt.annotate(str(txt), X_transformed[i])\n",
    "plt.title(\"Parameters of 4 models fitted to individuals\")\n",
    "plt.xlabel('embedding dimension 1')\n",
    "plt.ylabel('embedding dimension 2')\n",
    "plt.gca().set_aspect('equal')\n",
    "plt.legend()"
   ]
  },
  {
   "cell_type": "code",
   "execution_count": 65,
   "metadata": {},
   "outputs": [
    {
     "name": "stdout",
     "output_type": "stream",
     "text": [
      "dict_keys(['name', 'b1', 'k1', 'c5', 'c6', 'b2', 'k2', 'c7', 'c8'])\n",
      "[[-6.35451430e-04 -2.28700642e-02  3.23448330e-03 -3.99363424e-04\n",
      "   7.72505650e-03  9.99632255e-01 -7.45005729e-03  9.27953963e-03]\n",
      " [-8.75145750e-03 -9.99499550e-01  1.54447799e-02  5.34424177e-05\n",
      "  -1.26364444e-02 -2.28130767e-02  2.26004446e-03  5.41779864e-04]]\n",
      "[0.89108092 0.10727403]\n"
     ]
    }
   ],
   "source": [
    "'''PCA'''\n",
    "model = 'cohen_avoid'\n",
    "subjects = [0, 1, 2, 3, 4, 6, 7, 9, 10, 11, 12, 13]\n",
    "X = []\n",
    "for s in subjects:\n",
    "    X.append(list(avoidances['Bai_movObst1'][model]['differential_evolution'][s].values())[1:])\n",
    "pca = PCA(n_components=2)\n",
    "pca.fit(X)\n",
    "X_transformed = pca.transform(X)\n",
    "print(avoidances['Bai_movObst1'][model]['differential_evolution'][s].keys())\n",
    "print(pca.components_)\n",
    "print(pca.explained_variance_ratio_)\n",
    "plt.scatter(X_transformed[:,0], X_transformed[:,1], label=model)\n",
    "for i, txt in enumerate(subjects):\n",
    "    plt.annotate(str(txt), X_transformed[i])"
   ]
  },
  {
   "cell_type": "code",
   "execution_count": 93,
   "metadata": {},
   "outputs": [
    {
     "name": "stdout",
     "output_type": "stream",
     "text": [
      "min speed below bottom 1%\n",
      "min speed below bottom 1%\n",
      "min speed below bottom 1%\n",
      "min speed below bottom 1%\n",
      "min speed below bottom 1%\n",
      "min speed below bottom 1%\n",
      "min speed below bottom 1%\n",
      "min speed below bottom 1%\n",
      "min speed below bottom 1%\n",
      "min speed below bottom 1%\n",
      "min speed below bottom 1%\n",
      "min speed below bottom 1%\n",
      "min speed below bottom 1%\n",
      "min speed below bottom 1%\n",
      "min speed below bottom 1%\n",
      "min speed below bottom 1%\n",
      "min speed below bottom 1%\n",
      "min speed below bottom 1%\n",
      "1800 1782 360 1422\n"
     ]
    }
   ],
   "source": [
    "cnt = 0\n",
    "total = 0\n",
    "headon = 0\n",
    "for i in range(len(data.trajs)):\n",
    "    if data.info['obst_speed'][i] == 0:\n",
    "        continue\n",
    "    total += 1\n",
    "    if abs(data.info['obst_angle'][i]) == 180:\n",
    "        headon += 1\n",
    "    if i not in data.dump:\n",
    "        cnt += 1\n",
    "    else:\n",
    "        print(data.dump[i])\n",
    "print(total, cnt, headon, cnt - headon)"
   ]
  },
  {
   "cell_type": "code",
   "execution_count": 47,
   "metadata": {},
   "outputs": [
    {
     "data": {
      "text/plain": [
       "{0.0, 0.9, 1.0, 1.1, 1.2, 1.3}"
      ]
     },
     "execution_count": 47,
     "metadata": {},
     "output_type": "execute_result"
    }
   ],
   "source": [
    "set(data.info['obst_speed'])"
   ]
  },
  {
   "cell_type": "markdown",
   "metadata": {},
   "source": [
    "### Cohen_movObst1"
   ]
  },
  {
   "cell_type": "code",
   "execution_count": 4,
   "metadata": {},
   "outputs": [
    {
     "data": {
      "text/plain": [
       "<matplotlib.animation.FuncAnimation at 0x1789c62a668>"
      ]
     },
     "execution_count": 4,
     "metadata": {},
     "output_type": "execute_result"
    }
   ],
   "source": [
    "'''Animate data'''\n",
    "############\n",
    "subject = 3\n",
    "trial = 111\n",
    "############\n",
    "%matplotlib qt\n",
    "i = subject * 160 + trial - 1\n",
    "i = 616\n",
    "# p_obst = np.array(data.info['p_obst'][i])\n",
    "t0 = data.info['obst_onset'][i]\n",
    "t1 = data.info['obst_out'][i]\n",
    "p_goal = data.info['p_goal'][i]\n",
    "p_subj = data.info['p_subj'][i]\n",
    "p_obst = data.info['p_obst'][i]\n",
    "trajs = [p_goal, p_obst, p_subj]\n",
    "ws = [data.info['w_goal'], data.info['w_obst'], 0.4]\n",
    "title = 'subj ' + str(data.info['subj_id'][i]) + ' trial ' + str(data.info['trial_id'][i]) + ' obst_angle: ' + str(data.info['obst_angle'][i]) + ' obst_speed: ' + str(data.info['obst_speed'][i])\n",
    "play_trajs(trajs, ws, data.Hz, title=title, save=False)\n"
   ]
  },
  {
   "cell_type": "code",
   "execution_count": 9,
   "metadata": {},
   "outputs": [],
   "source": [
    "'''Average traj by condition'''\n",
    "'''\n",
    "In within subject design, the standard error is within subject sum of squares (s_w) divided by root(2n(m-1))\n",
    "n is the number of subjects m is number of conditions.\n",
    "Confidence interval is +-z*SE, for 95% CI z = 1.96\n",
    "'''\n",
    "# # Index all conditions start from 0\n",
    "# ic = {}\n",
    "# i = 0\n",
    "# for key in product(set(np.abs(data.info['obst_angle'])), set(data.info['obst_speed'])):\n",
    "#     ic[key] = i\n",
    "#     i += 1\n",
    "# # Create data set for plotting\n",
    "# subjs = {}\n",
    "# for i in range(len(data.trajs)):\n",
    "#     subj_id = data.info['subj_id'][i]\n",
    "#     traj = data.info['p_subj'][i]\n",
    "#     angle = abs(data.info['obst_angle'][i])\n",
    "#     speed = data.info['obst_speed'][i]\n",
    "#     if subj_id not in subjs:\n",
    "#         subjs[subj_id] = {}\n",
    "#     if (angle, speed) not in subjs[subj_id]:\n",
    "#         subjs[subj_id][(angle, speed)] = []\n",
    "#     subjs[subj_id][(angle, speed)].append(traj)\n",
    "    \n",
    "for angle in set(np.abs(data.info['obst_angle'])):\n",
    "    for speed in set(data.info['obst_speed']):\n",
    "        fig = plt.figure()\n",
    "        ax = fig.add_subplot(1,1,1)\n",
    "        ax.set_title(f'obst_angle {angle}, obst_speed {speed}')\n",
    "        ax.set_xlabel('x (m)')\n",
    "        ax.set_ylabel('y (m)')\n",
    "        ax.set_aspect('equal')\n",
    "        ax.set_xlim(-1.5, 1.5)\n",
    "        ax.set_ylim(-0.5, 8.5)\n",
    "        front = []\n",
    "        behind = []\n",
    "        len_front = float('inf')\n",
    "        len_behind = float('inf')\n",
    "        # Plot trials\n",
    "        for i in range(len(data.trajs)):\n",
    "            if angle != abs(data.info['obst_angle'][i]) or speed != data.info['obst_speed'][i] or i in data.dump:\n",
    "                continue\n",
    "            traj = data.info['p_subj'][i][:]\n",
    "            order = data.info['pass_order'][i]\n",
    "            if data.info['obst_angle'][i] < 0:\n",
    "                traj[:, 0] *= -1\n",
    "                \n",
    "            ax.plot(traj[:, 0], traj[:, 1], color='k', linewidth=0.1, alpha=0.5)\n",
    "            m = len(traj) // 2\n",
    "            if order == 1:\n",
    "                front.append(traj)\n",
    "                len_front = min(len(traj), len_front)\n",
    "            elif order == -1:\n",
    "                behind.append(traj)\n",
    "                len_behind = min(len(traj), len_behind)\n",
    "        # Plot average trials\n",
    "        front = [traj[:len_front] for traj in front]\n",
    "        behind = [traj[:len_behind] for traj in behind]\n",
    "        front = np.mean(front, axis=0)\n",
    "        behind = np.mean(behind, axis=0)\n",
    "        ax.plot(front[:, 0], front[:, 1], color='k')\n",
    "        ax.plot(behind[:, 0], behind[:, 1], color='k')"
   ]
  },
  {
   "cell_type": "code",
   "execution_count": 28,
   "metadata": {},
   "outputs": [
    {
     "data": {
      "text/plain": [
       "dict_keys(['p_goal', 'p_obst', 'obst_angle', 'obst_speed', 'subj_id', 'trial_id', 'obst_onset', 'obst_out', 'w_goal', 'w_obst', 'order', 'ps_trial', 'ps_subj', 'time_stamp', 'pass_order', 'p_subj', 'v_subj', 'a_subj', 'v_obst', 'rel_dpsi'])"
      ]
     },
     "execution_count": 28,
     "metadata": {},
     "output_type": "execute_result"
    }
   ],
   "source": [
    "data.info.keys()"
   ]
  },
  {
   "cell_type": "code",
   "execution_count": 7,
   "metadata": {},
   "outputs": [
    {
     "data": {
      "text/plain": [
       "Text(0.5, 1.0, 'mean speed control 0.07 mean heading control 0.22 ratio  0.32')"
      ]
     },
     "execution_count": 7,
     "metadata": {},
     "output_type": "execute_result"
    }
   ],
   "source": [
    "'''Speed control vs heading control all trials'''\n",
    "%matplotlib qt\n",
    "sc = []\n",
    "hc = []\n",
    "for i in range(len(data.trajs)):\n",
    "    if i in data.dump: continue\n",
    "    t0 = data.info['obst_onset'][i]\n",
    "    t1 = data.info['obst_out'][i]\n",
    "    v = data.info['v_subj'][i][t0:t1]\n",
    "    a = data.info['a_subj'][i][t0:t1]\n",
    "    speed_ctrl = np.array([np.inner(x, y)/norm(y) for x, y in zip(a, v)]) # a along direction of v\n",
    "    heading_ctrl = np.sqrt(norm(a, axis=1) ** 2 - speed_ctrl ** 2) # a perpendicular to v\n",
    "    sc.extend(speed_ctrl)\n",
    "    hc.extend(heading_ctrl)\n",
    "    plt.plot(speed_ctrl, color='r', linewidth=0.1, alpha=0.5)\n",
    "    plt.plot(heading_ctrl, color='b', linewidth=0.1, alpha=0.5)\n",
    "plt.title(f'mean speed control {np.mean(sc):.2f} mean heading control {np.mean(hc):.2f} ratio {np.mean(sc) / np.mean(hc): .2f}')"
   ]
  },
  {
   "cell_type": "code",
   "execution_count": 8,
   "metadata": {},
   "outputs": [
    {
     "data": {
      "text/plain": [
       "{0.4, 0.6, 0.8}"
      ]
     },
     "execution_count": 8,
     "metadata": {},
     "output_type": "execute_result"
    }
   ],
   "source": [
    "set(data.info['obst_speed'])"
   ]
  },
  {
   "cell_type": "code",
   "execution_count": null,
   "metadata": {},
   "outputs": [],
   "source": [
    "'''Speed control vs heading control by conditions'''\n",
    "%matplotlib qt\n",
    "for angle in set(np.abs(data.info['obst_angle'])):\n",
    "    for speed in set(data.info['obst_speed']):\n",
    "        fig = plt.figure()\n",
    "        ax = fig.add_subplot(1,1,1)\n",
    "        ax.set_title(f'obst_angle {angle}, obst_speed {speed}')\n",
    "        ax.set_ylabel('acceleration (m/s**2)')\n",
    "        ax.set_xlabel('time (s)')\n",
    "        ax.set_xlim(-0.3, 4.5)\n",
    "        ax.set_ylim(-0.1, 1.5)\n",
    "        sc = []\n",
    "        hc = []\n",
    "        for i in range(len(data.trajs)):\n",
    "            if angle != abs(data.info['obst_angle'][i]) or speed != data.info['obst_speed'][i] or i in data.dump:\n",
    "                continue\n",
    "            t0 = data.info['obst_onset'][i]\n",
    "            t1 = data.info['obst_out'][i]\n",
    "            v = data.info['v_subj'][i][t0:t1]\n",
    "            a = data.info['a_subj'][i][t0:t1]\n",
    "            speed_ctrl = np.abs([np.inner(x, y)/norm(y) for x, y in zip(a, v)]) # a along direction of v\n",
    "            heading_ctrl = np.sqrt(norm(a, axis=1) ** 2 - speed_ctrl ** 2) # a perpendicular to v\n",
    "            sc.extend(speed_ctrl)\n",
    "            hc.extend(heading_ctrl)\n",
    "            plt.plot(np.linspace(0, len(speed_ctrl)/data.Hz, len(speed_ctrl)), speed_ctrl, color='r', linewidth=0.1, alpha=0.5)\n",
    "            plt.plot(np.linspace(0, len(speed_ctrl)/data.Hz, len(speed_ctrl)), heading_ctrl, color='b', linewidth=0.1, alpha=0.5)\n",
    "        ax.set_title(f'obst_angle {angle}, obst_speed {speed}, \\n mean speed control {np.mean(sc):.2f} mean heading control {np.mean(hc):.2f} ratio {np.mean(sc) / np.mean(hc): .2f}')"
   ]
  },
  {
   "cell_type": "code",
   "execution_count": 74,
   "metadata": {},
   "outputs": [],
   "source": [
    "'''Speed control vs heading control by subject'''\n",
    "for s in set(data.info['subj_id']):\n",
    "    fig = plt.figure()\n",
    "    ax = fig.add_subplot(1,1,1)\n",
    "    ax.set_title(f'subject {s}')\n",
    "    ax.set_xlabel('acceleration (m/s**2)')\n",
    "    ax.set_ylabel('time (s)')\n",
    "    ax.set_xlim(-0.3, 4.5)\n",
    "    ax.set_ylim(-0.1, 1.5)\n",
    "    for i in range(len(data.trajs)):\n",
    "        if s != data.info['subj_id'][i] or i in data.dump:\n",
    "            continue\n",
    "        t0 = data.info['obst_onset'][i]\n",
    "        t1 = data.info['obst_out'][i]\n",
    "        v = data.info['v_subj'][i][t0:t1]\n",
    "        a = data.info['a_subj'][i][t0:t1]\n",
    "        speed_ctrl = np.abs([np.inner(x, y)/norm(y) for x, y in zip(a, v)]) # a along direction of v\n",
    "        heading_ctrl = np.sqrt(norm(a, axis=1) ** 2 - speed_ctrl ** 2) # a perpendicular to v\n",
    "        sc.extend(speed_ctrl)\n",
    "        hc.extend(heading_ctrl)\n",
    "        plt.plot(np.linspace(0, len(speed_ctrl)/data.Hz, len(speed_ctrl)), speed_ctrl, color='r', linewidth=0.1, alpha=0.5)\n",
    "        plt.plot(np.linspace(0, len(speed_ctrl)/data.Hz, len(speed_ctrl)), heading_ctrl, color='b', linewidth=0.1, alpha=0.5)\n",
    "    ax.set_title(f'subject {s}, \\n mean speed control {np.mean(sc):.2f} mean heading control {np.mean(hc):.2f} ratio {np.mean(sc) / np.mean(hc): .2f}')"
   ]
  },
  {
   "cell_type": "code",
   "execution_count": 2,
   "metadata": {},
   "outputs": [
    {
     "name": "stdout",
     "output_type": "stream",
     "text": [
      "Loading finished\n"
     ]
    },
    {
     "data": {
      "text/plain": [
       "(array([ 2.,  1.,  6., 10.,  7., 13., 16., 26., 28., 22., 45., 55., 60.,\n",
       "        53., 57., 73., 63., 63., 57., 37., 57., 56., 44., 43., 28., 23.,\n",
       "        18., 10.,  6.,  7.,  4.,  2.,  2.,  0.,  0.,  0.,  0.,  0.,  0.,\n",
       "         1.]),\n",
       " array([1.23333333, 1.33      , 1.42666667, 1.52333333, 1.62      ,\n",
       "        1.71666667, 1.81333333, 1.91      , 2.00666667, 2.10333333,\n",
       "        2.2       , 2.29666667, 2.39333333, 2.49      , 2.58666667,\n",
       "        2.68333333, 2.78      , 2.87666667, 2.97333333, 3.07      ,\n",
       "        3.16666667, 3.26333333, 3.36      , 3.45666667, 3.55333333,\n",
       "        3.65      , 3.74666667, 3.84333333, 3.94      , 4.03666667,\n",
       "        4.13333333, 4.23      , 4.32666667, 4.42333333, 4.52      ,\n",
       "        4.61666667, 4.71333333, 4.81      , 4.90666667, 5.00333333,\n",
       "        5.1       ]),\n",
       " <a list of 40 Patch objects>)"
      ]
     },
     "execution_count": 2,
     "metadata": {},
     "output_type": "execute_result"
    }
   ],
   "source": [
    "'''effective data length'''\n",
    "%matplotlib qt\n",
    "l = []\n",
    "sim = ODESimulator(data=data, ref=[0,1])\n",
    "for i in range(len(data.trajs)):\n",
    "    if i not in data.dump and data.info['obst_speed'][i] > 0 and abs(data.info['obst_angle'][i]) != 180:\n",
    "        t0 = data.info['threshold_onset'][i]\n",
    "        t1 = data.info['obst_out'][i]\n",
    "        if t0 and t1:\n",
    "            l.append((t1 - t0) / data.Hz)\n",
    "plt.hist(l, bins=40)\n",
    "# plt.plot(l)"
   ]
  },
  {
   "cell_type": "markdown",
   "metadata": {},
   "source": [
    "### Cohen_movObst2"
   ]
  },
  {
   "cell_type": "code",
   "execution_count": 84,
   "metadata": {},
   "outputs": [],
   "source": [
    "'''Plot speed'''\n",
    "for i in range(len(data.trajs)):\n",
    "    if data.info['obst_out'][i] and data.info['obst_onset'][i] and i not in data.dump:\n",
    "        t0, t1 = data.info['obst_onset'][i], data.info['obst_out'][i]\n",
    "        v_subj = data.info['v_subj'][i]\n",
    "        s_subj = norm(v_subj, axis=1)\n",
    "        plt.plot(s_subj[t0:t1], linewidth=0.1, alpha=0.5)"
   ]
  },
  {
   "cell_type": "code",
   "execution_count": 83,
   "metadata": {},
   "outputs": [
    {
     "data": {
      "text/plain": [
       "<matplotlib.animation.FuncAnimation at 0x1fbb67cc2b0>"
      ]
     },
     "execution_count": 83,
     "metadata": {},
     "output_type": "execute_result"
    }
   ],
   "source": [
    "'''Animate data'''\n",
    "############\n",
    "subject = 3\n",
    "trial = 111\n",
    "############\n",
    "%matplotlib qt\n",
    "i = subject * 160 + trial - 1\n",
    "i = 40\n",
    "# p_obst = np.array(data.info['p_obst'][i])\n",
    "t0 = data.info['obst_onset'][i]\n",
    "t1 = data.info['obst_out'][i]\n",
    "p_goal = data.info['p_goal'][i]\n",
    "p_subj = data.info['p_subj'][i]\n",
    "p_obst = data.info['p_obst'][i]\n",
    "trajs = [p_goal, p_obst, p_subj]\n",
    "ws = [data.info['w_goal'], data.info['w_obst'], 0.4]\n",
    "title = 'subj ' + str(data.info['subj_id'][i]) + ' trial ' + str(data.info['trial_id'][i]) + ' obst_angle: ' + str(data.info['obst_angle'][i]) + ' obst_dist: ' + str(data.info['obst_dist'][i])\n",
    "play_trajs(trajs, ws, data.Hz, title=title, save=False)\n"
   ]
  },
  {
   "cell_type": "code",
   "execution_count": 77,
   "metadata": {},
   "outputs": [
    {
     "data": {
      "text/plain": [
       "dict_keys(['p_goal', 'p_obst', 'obst_angle', 'obst_dist', 'obst_speed', 'subj_id', 'trial_id', 'obst_onset', 'obst_out', 'w_goal', 'w_obst', 'order', 'ps_trial', 'ps_subj', 'time_stamp', 'pass_order', 'p_subj', 'v_subj', 'a_subj', 'v_obst', 'rel_dpsi'])"
      ]
     },
     "execution_count": 77,
     "metadata": {},
     "output_type": "execute_result"
    }
   ],
   "source": [
    "data.info.keys()"
   ]
  },
  {
   "cell_type": "markdown",
   "metadata": {},
   "source": [
    "### Bai_movObst1"
   ]
  },
  {
   "cell_type": "code",
   "execution_count": null,
   "metadata": {},
   "outputs": [],
   "source": [
    "'''trial lookup'''\n",
    "i = 167\n",
    "t0, t1 = data.info['obst_onset'][i], data.info['obst_out'][i]\n",
    "data.info['rel_dpsi'][167][t1+1]"
   ]
  },
  {
   "cell_type": "code",
   "execution_count": null,
   "metadata": {},
   "outputs": [],
   "source": [
    "'''Counting trials'''\n",
    "cnt = 0\n",
    "for i in range(len(data.trajs)):\n",
    "    if i not in data.dump and data.info['obst_speed'][i] > 0 and abs(data.info['obst_angle'][i]) != 180:\n",
    "        cnt += 1\n",
    "cnt"
   ]
  },
  {
   "cell_type": "code",
   "execution_count": 23,
   "metadata": {},
   "outputs": [
    {
     "name": "stdout",
     "output_type": "stream",
     "text": [
      "Loading finished\n"
     ]
    },
    {
     "data": {
      "text/plain": [
       "(array([  2.,   7.,  19.,  29.,  44.,  97.,  83., 101., 180., 134., 137.,\n",
       "        114.,  83.,  98.,  61.,  58.,  23.,  19.,  17.,  11.,   4.,  20.,\n",
       "          7.,   2.,  11.,   8.,  11.,  10.,   1.,   1.,   5.,   5.,   2.,\n",
       "          1.,   4.,   5.,   2.,   2.,   2.,   2.]),\n",
       " array([1.3       , 1.44583333, 1.59166667, 1.7375    , 1.88333333,\n",
       "        2.02916667, 2.175     , 2.32083333, 2.46666667, 2.6125    ,\n",
       "        2.75833333, 2.90416667, 3.05      , 3.19583333, 3.34166667,\n",
       "        3.4875    , 3.63333333, 3.77916667, 3.925     , 4.07083333,\n",
       "        4.21666667, 4.3625    , 4.50833333, 4.65416667, 4.8       ,\n",
       "        4.94583333, 5.09166667, 5.2375    , 5.38333333, 5.52916667,\n",
       "        5.675     , 5.82083333, 5.96666667, 6.1125    , 6.25833333,\n",
       "        6.40416667, 6.55      , 6.69583333, 6.84166667, 6.9875    ,\n",
       "        7.13333333]),\n",
       " <a list of 40 Patch objects>)"
      ]
     },
     "execution_count": 23,
     "metadata": {},
     "output_type": "execute_result"
    }
   ],
   "source": [
    "'''effective data length'''\n",
    "%matplotlib qt\n",
    "l = []\n",
    "sim = ODESimulator(data=data, ref=[0,1])\n",
    "for i in range(len(data.trajs)):\n",
    "    if i not in data.dump and data.info['obst_speed'][i] > 0 and abs(data.info['obst_angle'][i]) != 180:\n",
    "#         t0 = data.info['obst_onset'][i]\n",
    "#         t0 = data.info['decision_onset'][i]\n",
    "        t0 = data.info['threshold_onset'][i]\n",
    "        t1 = data.info['obst_out'][i]\n",
    "        if t0 and t1:\n",
    "            l.append((t1 - t0) / data.Hz)\n",
    "#             if t1 - t0 < 2:\n",
    "#                 print(i, t0, t1)\n",
    "#                 order = []\n",
    "#                 for t in range(t0, t1):\n",
    "#                     xg, yg, xo, yo, vxo, vyo, x, y, vx, vy, a, phi, s, dphi, ds, w0 = sim.compute_var0(i, t)\n",
    "#                     # When beta and dpsi has the same sign it means pass in front, otherwise it means pass from behind\n",
    "#                     dpsi = d_psi([x, y], [xo, yo], [vx, vy], [vxo, vyo])\n",
    "#                     angle = sim.data.info['obst_angle'][i]\n",
    "#                     order.append(-dpsi * np.sign(angle))\n",
    "#                 plt.plot(order)\n",
    "#                 break\n",
    "plt.hist(l, bins=40)\n",
    "# plt.plot(l)"
   ]
  },
  {
   "cell_type": "code",
   "execution_count": 56,
   "metadata": {},
   "outputs": [
    {
     "name": "stdout",
     "output_type": "stream",
     "text": [
      "0 2 81 206\n"
     ]
    },
    {
     "data": {
      "text/plain": [
       "<matplotlib.animation.FuncAnimation at 0x138077dcf98>"
      ]
     },
     "execution_count": 56,
     "metadata": {},
     "output_type": "execute_result"
    }
   ],
   "source": [
    "'''Animate avoidance data'''\n",
    "############\n",
    "subject = 3\n",
    "trial = 111\n",
    "############\n",
    "%matplotlib qt\n",
    "i = subject * 160 + trial - 1\n",
    "i = 1\n",
    "# p_obst = np.array(data.info['p_obst'][i])\n",
    "td = data.info['decision_onset'][i]\n",
    "t0 = data.info['obst_onset'][i]\n",
    "t1 = data.info['obst_out'][i]\n",
    "p_goal = data.info['p_goal'][i]\n",
    "p_subj = data.info['p_subj'][i]\n",
    "p_obst = data.info['p_obst'][i]\n",
    "trajs = [p_goal, p_obst, p_subj]\n",
    "ws = [data.info['w_goal'], data.info['w_obst'], 0.4]\n",
    "title = 'subj ' + str(data.info['subj_id'][i]) + ' trial ' + str(data.info['trial_id'][i]) + ' obst_angle: ' + str(data.info['obst_angle'][i]) + ' obst_speed: ' + str(data.info['obst_speed'][i])\n",
    "print(data.info['subj_id'][i], data.info['trial_id'][i], td, t1)\n",
    "play_trajs(trajs, ws, data.Hz, title=title, save=False)\n"
   ]
  },
  {
   "cell_type": "code",
   "execution_count": 19,
   "metadata": {},
   "outputs": [
    {
     "data": {
      "text/plain": [
       "{0.0, 0.9, 1.0, 1.1, 1.2, 1.3}"
      ]
     },
     "execution_count": 19,
     "metadata": {},
     "output_type": "execute_result"
    }
   ],
   "source": [
    "set(data.info['obst_speed'])"
   ]
  },
  {
   "cell_type": "markdown",
   "metadata": {},
   "source": [
    "### Bai_movObst1: dpsi and order of passing"
   ]
  },
  {
   "cell_type": "code",
   "execution_count": 105,
   "metadata": {},
   "outputs": [],
   "source": [
    "'''Compute initial passing order (-dpsi * sign(obst_angle)) time series'''\n",
    "%matplotlib qt\n",
    "orders = {}\n",
    "conditions = np.zeros((5, 8))\n",
    "angle_ins = {-157.5: 0, -135: 1, -112.5: 2, -90: 3, 90: 4, 112.5: 5, 135: 6, 157.5: 7}\n",
    "speed_ins = {0.9: 0, 1: 1, 1.1: 2, 1.2: 3, 1.3: 4}\n",
    "for i in range(len(sim.data.trajs)):\n",
    "    if i not in data.dump and data.info['obst_speed'][i] != 0 and abs(data.info['obst_angle'][i]) != 180:\n",
    "        rel_dpsi = data.info['rel_dpsi'][i]\n",
    "        subj = data.info['subj_id'][i]\n",
    "        angle = data.info['obst_angle'][i]\n",
    "        speed = data.info['obst_speed'][i]\n",
    "        t0, t1 = data.info['obst_onset'][i], data.info['obst_out'][i]\n",
    "        if subj not in orders:\n",
    "            orders[subj] = {'correct': [], 'incorrect': []}\n",
    "        t0, t1 = data.info['obst_onset'][i], data.info['obst_out'][i]\n",
    "        if np.sign(rel_dpsi[t0]) == data.info['pass_order'][i]:\n",
    "            orders[subj]['correct'].append(rel_dpsi)\n",
    "        else:\n",
    "            orders[subj]['incorrect'].append(rel_dpsi)\n",
    "            conditions[speed_ins[speed], angle_ins[angle]] += 1"
   ]
  },
  {
   "cell_type": "code",
   "execution_count": 104,
   "metadata": {},
   "outputs": [
    {
     "data": {
      "text/plain": [
       "Text(0, 0.5, 'speed')"
      ]
     },
     "execution_count": 104,
     "metadata": {},
     "output_type": "execute_result"
    }
   ],
   "source": [
    "'''Plot conditions of incorrect trial'''\n",
    "# Scatter plot\n",
    "# x = []\n",
    "# y = []\n",
    "# z = []\n",
    "# for angle in angle_ins.values():\n",
    "#     for speed in speed_ins.values():\n",
    "#         x.append(angle)\n",
    "#         y.append(speed)\n",
    "#         z.append(conditions[angle, speed])\n",
    "#         for _ in range(int(conditions[angle, speed])):\n",
    "#             plt.scatter(angle + random.uniform(-0.25, 0.25), speed + random.uniform(-0.25, 0.25))\n",
    "\n",
    "# plt.xticks(range(-1, 9), [\"\"] + list(angle_ins.keys()) + [\"\"])\n",
    "# plt.yticks(range(-1, 5), [\"\"] + list(speed_ins.keys()) + [\"\"])\n",
    "\n",
    "# Heatmap\n",
    "plt.imshow(conditions, cmap='plasma')\n",
    "for i in range(conditions.shape[0]):\n",
    "    for j in range(conditions.shape[1]):\n",
    "        text = plt.text(j, i, str(conditions[i, j]),\n",
    "                       ha=\"center\", va=\"center\", color=\"w\")\n",
    "plt.xticks(range(-1, 9), [\"\"] + list(angle_ins.keys()) + [\"\"])\n",
    "plt.yticks(range(-1, 5), [\"\"] + list(speed_ins.keys()) + [\"\"])\n",
    "plt.xlabel(\"angle\")\n",
    "plt.ylabel(\"speed\")\n",
    "\n",
    "# 3D bar graph\n",
    "# fig = plt.figure()\n",
    "# ax = fig.add_subplot(projection='3d')\n",
    "# ax.bar3d(x,y,0,0.5,0.5,z)\n",
    "# ax.set_xticks(angle_ins.keys())\n",
    "# ax.set_yticks(speed_ins.keys())"
   ]
  },
  {
   "cell_type": "code",
   "execution_count": 14,
   "metadata": {},
   "outputs": [
    {
     "name": "stdout",
     "output_type": "stream",
     "text": [
      "{0, 1, 2, 3, 4, 6, 7, 9, 10, 11, 12, 13}\n",
      "passing order matching rate  0.7447257383966245\n",
      "97.52066115702479% mis-matching trials have an intial dpsi < 0.02\n"
     ]
    },
    {
     "data": {
      "text/plain": [
       "<matplotlib.legend.Legend at 0x1e410023da0>"
      ]
     },
     "execution_count": 14,
     "metadata": {},
     "output_type": "execute_result"
    }
   ],
   "source": [
    "'''Check initial dpsi and subject passing choice, plot dpsi of matching and non-matching trials'''\n",
    "%matplotlib qt\n",
    "subjects = set(data.info['subj_id'])\n",
    "print(subjects)\n",
    "side_pred = []\n",
    "side_true = []\n",
    "dpsi_match = []\n",
    "dpsi_not = []\n",
    "for i in range(len(sim.data.trajs)):\n",
    "    if i not in data.dump and data.info['obst_speed'][i] != 0 and abs(data.info['obst_angle'][i]) != 180:\n",
    "        # When angle and dpsi has the opposite sign it means pass in front, otherwise it means pass from behind\n",
    "        t0 = data.info['obst_onset'][i]\n",
    "        rel_dpsi = data.info['rel_dpsi'][i][t0]\n",
    "        side_pred.append(1 if rel_dpsi > 0 else -1)\n",
    "        side_true.append(sim.data.info['pass_order'][i])\n",
    "        if side_pred[-1] == side_true[-1]:\n",
    "            dpsi_match.append(rel_dpsi)\n",
    "        else:\n",
    "            dpsi_not.append(rel_dpsi)\n",
    "print('passing order matching rate ', accuracy_score(side_true, side_pred))\n",
    "thres = 0.02\n",
    "print(f'{np.mean(np.absolute(np.array(dpsi_not)) < thres) * 100}% mis-matching trials have an intial dpsi < {thres}')\n",
    "plt.scatter(np.random.uniform(size=len(dpsi_match)), dpsi_match, label='matching trials')\n",
    "plt.scatter(np.random.uniform(size=len(dpsi_not)), dpsi_not, label='mis-matching trials')\n",
    "plt.ylabel('dpsi')\n",
    "plt.xlabel('arbitrary')\n",
    "plt.legend()\n"
   ]
  },
  {
   "cell_type": "code",
   "execution_count": 16,
   "metadata": {},
   "outputs": [
    {
     "name": "stdout",
     "output_type": "stream",
     "text": [
      "1059 363 0.7447257383966245\n"
     ]
    }
   ],
   "source": [
    "'''Correct order ratio'''\n",
    "correct = incorrect = 0\n",
    "for order in orders.values():\n",
    "    correct += len(order['correct'])\n",
    "    incorrect += len(order['incorrect'])\n",
    "print(correct, incorrect, correct / (correct + incorrect))"
   ]
  },
  {
   "cell_type": "code",
   "execution_count": 7,
   "metadata": {},
   "outputs": [
    {
     "data": {
      "text/plain": [
       "Text(0, 0.5, 'dpsi (rad/s), positive means front')"
      ]
     },
     "execution_count": 7,
     "metadata": {},
     "output_type": "execute_result"
    }
   ],
   "source": [
    "'''Plot passing order (dpsi * sign(obst_angle)) time series'''\n",
    "for i in range(len(data.trajs)):\n",
    "    if i not in data.dump and data.info['obst_speed'][i] > 0 and abs(data.info['obst_angle'][i]) != 180:\n",
    "        t0 = data.info['obst_onset'][i]\n",
    "        t1 = data.info['obst_out'][i]\n",
    "        rel_dpsi = data.info['rel_dpsi'][i]\n",
    "        # Plot minimum |dpsi|\n",
    "        mi = np.argmin(np.absolute(rel_dpsi[t0:t1]))\n",
    "        plt.scatter(mi, rel_dpsi[mi + t0], c='k')\n",
    "        # Plot maximum |dpsi| from time 0 to t_minimum|dpsi|\n",
    "        ma = np.argmax(np.absolute(rel_dpsi[t0:t0 + mi + 1]))\n",
    "        plt.scatter(ma, rel_dpsi[ma + t0], c='r')\n",
    "        if np.sign(rel_dpsi[t0]) == data.info['pass_order'][i]:\n",
    "            plt.plot(range(len(rel_dpsi[t0:t1])), rel_dpsi[t0:t1], linewidth=0.1, alpha=0.5, color='g')\n",
    "        else:\n",
    "            plt.plot(range(len(rel_dpsi[t0:t1])), rel_dpsi[t0:t1], linewidth=0.1, alpha=0.5, color='r')\n",
    "plt.xlabel(\"Time since obst appear\", fontsize=20)\n",
    "plt.ylabel(\"dpsi (rad/s), positive means front\", fontsize=20)"
   ]
  },
  {
   "cell_type": "code",
   "execution_count": 3,
   "metadata": {},
   "outputs": [
    {
     "data": {
      "image/png": "[encoded data removed]",
      "text/plain": [
       "<Figure size 432x288 with 1 Axes>"
      ]
     },
     "metadata": {
      "needs_background": "light"
     },
     "output_type": "display_data"
    }
   ],
   "source": [
    "'''Plot x: threshold, y: % trials that have smaller threshold'''\n",
    "thress = []\n",
    "for i in range(len(data.trajs)):\n",
    "    if i not in data.dump and data.info['obst_speed'][i] > 0 and abs(data.info['obst_angle'][i]) != 180:\n",
    "        t0 = data.info['obst_onset'][i]\n",
    "        t1 = data.info['obst_out'][i]\n",
    "        rel_dpsi = data.info['rel_dpsi'][i]\n",
    "        # Find minimum |dpsi|\n",
    "        mi = np.argmin(np.absolute(rel_dpsi[t0:t1]))\n",
    "        # Find maximum |dpsi| from time 0 to t_minimum|dpsi|\n",
    "        thres = max(np.absolute(rel_dpsi[t0:t0 + mi + 1]))\n",
    "        thress.append(thres)\n",
    "# evaluate the histogram\n",
    "values, base = np.histogram(thress, bins=1000)\n",
    "#evaluate the cumulative\n",
    "cumulative = np.cumsum(values)\n",
    "# plot the cumulative function\n",
    "plt.plot(base[:-1], cumulative / len(thress), c='blue')\n",
    "plt.xlabel(\"threshold (rad/s)\", fontsize=14)\n",
    "plt.ylabel(\"trials with smaller threshold (100%)\", fontsize=14)\n",
    "\n",
    "\n",
    "# Mark point of interest\n",
    "for v in [0.02, 0.03, 0.04]:\n",
    "    x = np.argmin(np.absolute(base - v))\n",
    "    y = round(cumulative[x] / len(thress), 2)\n",
    "    x = round(base[x], 2)\n",
    "    plt.scatter(x, y, c='r')\n",
    "    plt.annotate(f\"{x}, {round(y * 100, 2)}%\", (x+0.0025, y-0.05), fontsize=14)"
   ]
  },
  {
   "cell_type": "code",
   "execution_count": null,
   "metadata": {},
   "outputs": [],
   "source": [
    "'''Count pass order by condition'''\n",
    "#########\n",
    "angle = 157.5\n",
    "speed = 1.1\n",
    "#########\n",
    "fpass = 0\n",
    "total = 0\n",
    "for i in range(len(data.trajs)):\n",
    "    if abs(data.info['obst_angle'][i]) != angle or data.info['obst_speed'][i] != speed:\n",
    "        continue\n",
    "    if data.info['pass_order'][i] == 1:\n",
    "        fpass += 1\n",
    "    total += 1\n",
    "print(fpass, total)\n",
    "print(fpass / total)"
   ]
  },
  {
   "cell_type": "code",
   "execution_count": null,
   "metadata": {},
   "outputs": [],
   "source": [
    "'''Plot dpsi dtheta by time'''\n",
    "%matplotlib qt\n",
    "subjects = range(16)\n",
    "n = len(data.trajs)\n",
    "fig0 = plt.figure()\n",
    "ax0 = fig0.add_subplot()\n",
    "fig1 = plt.figure()\n",
    "ax1 = fig1.add_subplot()\n",
    "fig2 = plt.figure()\n",
    "ax2 = fig2.add_subplot()\n",
    "for i in range(2,3):\n",
    "    if (data.info['subj_id'][i] in subjects and\n",
    "        i not in data.dump and\n",
    "        data.info['obst_speed'][i] != 0 and\n",
    "        abs(data.info['obst_angle'][i]) != 180):\n",
    "        t0, t1 = data.info['obst_onset'][i], data.info['obst_out'][i]\n",
    "        p0, p1 = np.array(data.info['p_subj'][i][t0:t1]), np.array(data.info['p_obst'][i][t0:t1])\n",
    "        v0, v1 = np.array(data.info['v_subj'][i][t0:t1]), np.array(data.info['v_obst'][i])\n",
    "        a0 = np.array(data.info['a_subj'][i][t0:t1])\n",
    "        a0 = norm(a0, axis=-1)\n",
    "        v1 = np.tile(v1, (len(v0), 1))\n",
    "        dpsis = np.absolute(d_psi(p0, p1, v0, v1))\n",
    "        dthetas = d_theta(p0, p1, v0, v1, w=0.1)\n",
    "        thetas = theta(p0, p1, w=0.1)\n",
    "        ratio = dthetas/thetas\n",
    "        ax0.plot(a0)\n",
    "        c1, c2 = 0, 0.2\n",
    "        ax1.plot((ratio+c1)/(dpsis+c2))\n",
    "        ax2.scatter(ratio[60:80], a0[60:80], s=1)\n",
    "#         ax2.scatter(range(len(dpsis)), dthetas/dpsis, s=1)"
   ]
  },
  {
   "cell_type": "markdown",
   "metadata": {},
   "source": [
    "### Bai_movObst1: Minimum Passing Distance (MPD)"
   ]
  },
  {
   "cell_type": "code",
   "execution_count": null,
   "metadata": {},
   "outputs": [],
   "source": [
    "'''Minimum Passing Distance'''\n",
    "%matplotlib qt\n",
    "fig = plt.figure()\n",
    "ax = fig.add_subplot()\n",
    "ax.set_title('Signed predicted minimum passing distance (SMPD)')\n",
    "ax.set_ylabel('SMPD (m)')\n",
    "ax.set_xlabel('normalized time (%)')\n",
    "ax.set_ylim((-2, 2))\n",
    "for i in range(len(data.trajs)):\n",
    "    t0 = data.info['stimuli_onset'][i]\n",
    "    t1 = data.info['stimuli_out'][i]\n",
    "    p0 = data.info['p_subj'][i][t0:t1]\n",
    "    p1 = data.info['p_obst'][i][t0:t1]\n",
    "    v0 = data.info['v_subj'][i][t0:t1]\n",
    "    v1 = data.info['v_obst'][i][t0:t1]\n",
    "    t = np.linspace(0, 100, len(p0))\n",
    "    smpd = []\n",
    "    for _p0, _p1, _v0, _v1 in zip(p0, p1, v0, v1):        \n",
    "        smpd.append(min_sep(_p0, _p1, _v0, _v1)[0])\n",
    "    ax.plot(t, smpd, 'k', linewidth=0.1, alpha=0.5)\n",
    "    \n",
    "    "
   ]
  },
  {
   "cell_type": "code",
   "execution_count": null,
   "metadata": {},
   "outputs": [],
   "source": [
    "'''Plot acceleration angle and magnitude'''\n",
    "%matplotlib qt\n",
    "trials = range(400,401)\n",
    "subject = 1\n",
    "con_angle = [90, -90]\n",
    "con_speed = []\n",
    "fig0 = plt.figure()\n",
    "ax0 = fig0.add_subplot()\n",
    "fig1 = plt.figure()\n",
    "ax1 = fig1.add_subplot()\n",
    "for i in trials:\n",
    "    angle = data.info['obst_angle'][i]\n",
    "    speed = data.info['obst_speed'][i]\n",
    "    subj_id = data.info['subj_id'][i]\n",
    "    if i in data.dump:\n",
    "        continue\n",
    "#     if angle not in con_angle or subj_id != subject:\n",
    "#         continue\n",
    "    t0, t1 = data.info['stimuli_onset'][i], data.info['stimuli_out'][i]\n",
    "    p0, p1, a0 = np.array(data.info['p_subj'][i][t0:t1]), np.array(data.info['p_obst'][i][t0:t1]), np.array(data.info['a_subj'][i][t0:t1])\n",
    "    angles = signed_angle(p1 - p0, a0)\n",
    "    ax0.scatter(range(len(angles)), angles, s=1)\n",
    "    ax1.plot(norm(a0, axis=-1))\n",
    "    print(data.info['subj_id'][i], data.info['trial_id'][i])"
   ]
  },
  {
   "cell_type": "markdown",
   "metadata": {},
   "source": [
    "### Bai_movObst1: Plot trajectories"
   ]
  },
  {
   "cell_type": "code",
   "execution_count": null,
   "metadata": {},
   "outputs": [],
   "source": [
    "'''Plot data by condition'''\n",
    "#####################\n",
    "subject = 3\n",
    "con_ang = [112.5]\n",
    "con_spd = [1.1]\n",
    "con_ipd = [0, 0.07]\n",
    "# con_ang = set(data.info['obst_angle'])\n",
    "# con_spd = set(data.info['obst_speed'])\n",
    "#####################\n",
    "%matplotlib qt\n",
    "plt.figure()\n",
    "n = 0\n",
    "for i in range(len(data.trajs)):\n",
    "    obst_speed = data.info['obst_speed'][i]\n",
    "    obst_angle = data.info['obst_angle'][i]\n",
    "    ipd = data.info['ipd'][i]\n",
    "    subj_id = data.info['subj_id'][i]\n",
    "    if subject != -1 and subj_id != subject:\n",
    "        continue\n",
    "    if not (obst_speed in con_spd and abs(obst_angle) in con_ang and ipd in con_ipd):\n",
    "        continue\n",
    "    subj = data.info['p_subj'][i]\n",
    "    obst = np.array(data.info['p_obst'][i])\n",
    "    n += 1\n",
    "    if i % 2 == 0:\n",
    "        subj = rotate(subj, np.arctan(11 / 9) - pi / 2)\n",
    "        obst = rotate(obst, np.arctan(11 / 9) - pi / 2)\n",
    "    else:\n",
    "        subj = rotate(subj, np.arctan(11 / 9) + pi / 2)\n",
    "        obst = rotate(obst, np.arctan(11 / 9) + pi / 2)\n",
    "    if obst_angle < 0:\n",
    "        subj[:, 0] *= -1\n",
    "        obst[:, 0] *= -1\n",
    "    if ipd == 0:\n",
    "        plt.plot(subj[:, 0], subj[:, 1], color='r')\n",
    "    else:\n",
    "        plt.plot(subj[:, 0], subj[:, 1], color='b')\n",
    "    plt.plot(obst[:, 0], obst[:, 1])\n",
    "ax = plt.gca()\n",
    "# ax.set_aspect('equal')\n",
    "ax.set_title('subj ' + str(subject) + ' angle: ' + str(con_ang[0]) + ' speed: ' + str(con_spd[0]))\n",
    "print(n)"
   ]
  },
  {
   "cell_type": "code",
   "execution_count": null,
   "metadata": {},
   "outputs": [],
   "source": [
    "'''Plot data by subject'''\n",
    "#####################\n",
    "subject = 13\n",
    "#####################\n",
    "%matplotlib qt\n",
    "fig = plt.figure()\n",
    "fig.suptitle('Subject ' + str(subject))\n",
    "axes = {}\n",
    "obst_angle = [90, 112.5, 135, 157.5, 180]\n",
    "obst_speed = [0.9, 1.0, 1.1, 1.2, 1.3]\n",
    "i_plot = 1\n",
    "for angle in obst_angle:\n",
    "    for speed in obst_speed:\n",
    "        axes[(angle, speed)] = fig.add_subplot(5, 5, i_plot)\n",
    "        axes[(angle, speed)].set_xlim(-3, 3)\n",
    "        axes[(angle, speed)].set_ylim(-7, 5)\n",
    "        axes[(angle, speed)].set_title(str(angle) + '° ' + str(speed) + 'm/s')\n",
    "        axes[(angle, speed)].set_aspect('equal')\n",
    "        i_plot += 1\n",
    "for i in range(len(data.trajs)):\n",
    "    speed = data.info['obst_speed'][i]\n",
    "    angle = data.info['obst_angle'][i]\n",
    "    subj_id = data.info['subj_id'][i]\n",
    "    if subj_id != subject or speed == 0:\n",
    "        continue\n",
    "    subj = np.array(data.info['p_subj'][i])\n",
    "    obst = np.array(data.info['p_obst'][i])\n",
    "    if i % 2 == 0:\n",
    "        subj = rotate(subj, np.arctan(11 / 9) - pi / 2)\n",
    "        obst = rotate(obst, np.arctan(11 / 9) - pi / 2)\n",
    "    else:\n",
    "        subj = rotate(subj, np.arctan(11 / 9) + pi / 2)\n",
    "        obst = rotate(obst, np.arctan(11 / 9) + pi / 2)\n",
    "    if angle < 0:\n",
    "        subj[:, 0] *= -1\n",
    "        obst[:, 0] *= -1\n",
    "    axes[(abs(angle), speed)].plot(subj[:, 0], subj[:, 1])\n",
    "    axes[(abs(angle), speed)].plot(obst[:, 0], obst[:, 1])"
   ]
  },
  {
   "cell_type": "code",
   "execution_count": 88,
   "metadata": {},
   "outputs": [
    {
     "data": {
      "text/plain": [
       "{(-180.0, 0.9),\n",
       " (-180.0, 1.0),\n",
       " (-180.0, 1.1),\n",
       " (-180.0, 1.2),\n",
       " (-180.0, 1.3),\n",
       " (-157.5, 0.9),\n",
       " (-157.5, 1.0),\n",
       " (-157.5, 1.1),\n",
       " (-157.5, 1.2),\n",
       " (-157.5, 1.3),\n",
       " (-135.0, 0.9),\n",
       " (-135.0, 1.0),\n",
       " (-135.0, 1.1),\n",
       " (-135.0, 1.2),\n",
       " (-135.0, 1.3),\n",
       " (-112.5, 0.9),\n",
       " (-112.5, 1.0),\n",
       " (-112.5, 1.1),\n",
       " (-112.5, 1.2),\n",
       " (-112.5, 1.3),\n",
       " (-90.0, 0.9),\n",
       " (-90.0, 1.0),\n",
       " (-90.0, 1.1),\n",
       " (-90.0, 1.2),\n",
       " (-90.0, 1.3),\n",
       " (90.0, 0.9),\n",
       " (90.0, 1.0),\n",
       " (90.0, 1.1),\n",
       " (90.0, 1.2),\n",
       " (90.0, 1.3),\n",
       " (112.5, 0.9),\n",
       " (112.5, 1.0),\n",
       " (112.5, 1.1),\n",
       " (112.5, 1.2),\n",
       " (112.5, 1.3),\n",
       " (135.0, 0.9),\n",
       " (135.0, 1.0),\n",
       " (135.0, 1.1),\n",
       " (135.0, 1.2),\n",
       " (135.0, 1.3),\n",
       " (157.5, 0.9),\n",
       " (157.5, 1.0),\n",
       " (157.5, 1.1),\n",
       " (157.5, 1.2),\n",
       " (157.5, 1.3),\n",
       " (180.0, 0.9),\n",
       " (180.0, 1.0),\n",
       " (180.0, 1.1),\n",
       " (180.0, 1.2),\n",
       " (180.0, 1.3)}"
      ]
     },
     "execution_count": 88,
     "metadata": {},
     "output_type": "execute_result"
    }
   ],
   "source": [
    "'''Plot obst trajectories'''\n",
    "visited = set()\n",
    "for i in range(len(data.trajs)):\n",
    "    angle = data.info['obst_angle'][i]\n",
    "    speed = data.info['obst_speed'][i]\n",
    "    if speed != 0 and (angle, speed) not in visited:\n",
    "        visited.add((angle, speed))\n",
    "        obst = data.info['p_obst'][i]\n",
    "        if data.trajs[i][0][0] > 0:\n",
    "            obst = rotate(obst, np.arctan(11 / 9) + pi / 2)\n",
    "        else:\n",
    "            obst = rotate(obst, np.arctan(11 / 9) - pi / 2)\n",
    "        plt.plot(obst[:data.Hz*10, 0], obst[:data.Hz*10, 1], 'k')\n",
    "        plt.scatter(obst[0, 0], obst[0, 1], c='k', marker='x')\n",
    "plt.scatter(0, -13.1, c='k', marker='o')\n",
    "plt.annotate(\"Participant\", (0, -12.1))\n",
    "plt.gca().set_aspect('equal') \n",
    "plt.xlabel(\"x (m)\")\n",
    "plt.ylabel(\"y (m)\")\n",
    "visited"
   ]
  },
  {
   "cell_type": "code",
   "execution_count": 55,
   "metadata": {},
   "outputs": [
    {
     "data": {
      "text/plain": [
       "array([[-5.08100000e+00, -5.08100000e-01],\n",
       "       [-5.08100000e+00, -5.08100000e-01],\n",
       "       [-5.08100000e+00, -5.08100000e-01],\n",
       "       [-5.08100000e+00, -5.08100000e-01],\n",
       "       [-5.08100000e+00, -5.08100000e-01],\n",
       "       [-5.08100000e+00, -5.08100000e-01],\n",
       "       [-5.08100000e+00, -5.08100000e-01],\n",
       "       [-5.08100000e+00, -5.08100000e-01],\n",
       "       [-5.08100000e+00, -5.08100000e-01],\n",
       "       [-5.08100000e+00, -5.08100000e-01],\n",
       "       [-5.08100000e+00, -5.08100000e-01],\n",
       "       [-5.08100000e+00, -5.08100000e-01],\n",
       "       [-5.08100000e+00, -5.08100000e-01],\n",
       "       [-5.08100000e+00, -5.08100000e-01],\n",
       "       [-5.08100000e+00, -5.08100000e-01],\n",
       "       [-5.08100000e+00, -5.08100000e-01],\n",
       "       [-5.08100000e+00, -5.08100000e-01],\n",
       "       [-5.08100000e+00, -5.08100000e-01],\n",
       "       [-5.08100000e+00, -5.08100000e-01],\n",
       "       [-5.08100000e+00, -5.08100000e-01],\n",
       "       [-5.08100000e+00, -5.08100000e-01],\n",
       "       [-5.08100000e+00, -5.08100000e-01],\n",
       "       [-5.08100000e+00, -5.08100000e-01],\n",
       "       [-5.08100000e+00, -5.08100000e-01],\n",
       "       [-5.08100000e+00, -5.08100000e-01],\n",
       "       [-5.08100000e+00, -5.08100000e-01],\n",
       "       [-5.08100000e+00, -5.08100000e-01],\n",
       "       [-5.08100000e+00, -5.08100000e-01],\n",
       "       [-5.08100000e+00, -5.08100000e-01],\n",
       "       [-5.08100000e+00, -5.08100000e-01],\n",
       "       [-5.08100000e+00, -5.08100000e-01],\n",
       "       [-5.08100000e+00, -5.08100000e-01],\n",
       "       [-5.08100000e+00, -5.08100000e-01],\n",
       "       [-5.08100000e+00, -5.08100000e-01],\n",
       "       [-5.08100000e+00, -5.08100000e-01],\n",
       "       [-5.08100000e+00, -5.08100000e-01],\n",
       "       [-5.08100000e+00, -5.08100000e-01],\n",
       "       [-5.08100000e+00, -5.08100000e-01],\n",
       "       [-5.08100000e+00, -5.08100000e-01],\n",
       "       [-5.08100000e+00, -5.08100000e-01],\n",
       "       [-5.08100000e+00, -5.08100000e-01],\n",
       "       [-5.08100000e+00, -5.08100000e-01],\n",
       "       [-5.08100000e+00, -5.08100000e-01],\n",
       "       [-5.08100000e+00, -5.08100000e-01],\n",
       "       [-5.08100000e+00, -5.08100000e-01],\n",
       "       [-5.08100000e+00, -5.08100000e-01],\n",
       "       [-5.08100000e+00, -5.08100000e-01],\n",
       "       [-5.08100000e+00, -5.08100000e-01],\n",
       "       [-5.08100000e+00, -5.08100000e-01],\n",
       "       [-5.08100000e+00, -5.08100000e-01],\n",
       "       [-5.08100000e+00, -5.08100000e-01],\n",
       "       [-5.08100000e+00, -5.08100000e-01],\n",
       "       [-5.08100000e+00, -5.08100000e-01],\n",
       "       [-5.08100000e+00, -5.08100000e-01],\n",
       "       [-5.08100000e+00, -5.08100000e-01],\n",
       "       [-5.08100000e+00, -5.08100000e-01],\n",
       "       [-5.08100000e+00, -5.08100000e-01],\n",
       "       [-5.08100000e+00, -5.08100000e-01],\n",
       "       [-5.08100000e+00, -5.08100000e-01],\n",
       "       [-5.08100000e+00, -5.08100000e-01],\n",
       "       [-5.08100000e+00, -5.08100000e-01],\n",
       "       [-5.08100000e+00, -5.08100000e-01],\n",
       "       [-5.08100000e+00, -5.08100000e-01],\n",
       "       [-5.08100000e+00, -5.08100000e-01],\n",
       "       [-5.08100000e+00, -5.08100000e-01],\n",
       "       [-5.08100000e+00, -5.08100000e-01],\n",
       "       [-5.08100000e+00, -5.08100000e-01],\n",
       "       [-5.08100000e+00, -5.08100000e-01],\n",
       "       [-5.08100000e+00, -5.08100000e-01],\n",
       "       [-5.08100000e+00, -5.08100000e-01],\n",
       "       [-5.08100000e+00, -5.08100000e-01],\n",
       "       [-5.08100000e+00, -5.08100000e-01],\n",
       "       [-5.08100000e+00, -5.08100000e-01],\n",
       "       [-5.08100000e+00, -5.08100000e-01],\n",
       "       [-5.08100000e+00, -5.08100000e-01],\n",
       "       [-5.08100000e+00, -5.08100000e-01],\n",
       "       [-5.08100000e+00, -5.08100000e-01],\n",
       "       [-5.08100000e+00, -5.08100000e-01],\n",
       "       [-5.08100000e+00, -5.08100000e-01],\n",
       "       [-5.08100000e+00, -5.08100000e-01],\n",
       "       [-5.08100000e+00, -5.08100000e-01],\n",
       "       [-5.08100000e+00, -5.08100000e-01],\n",
       "       [-5.04780377e+00, -5.04780335e-01],\n",
       "       [-5.01460753e+00, -5.01460669e-01],\n",
       "       [-4.98141130e+00, -4.98141004e-01],\n",
       "       [-4.94821506e+00, -4.94821339e-01],\n",
       "       [-4.91501883e+00, -4.91501674e-01],\n",
       "       [-4.88182259e+00, -4.88182008e-01],\n",
       "       [-4.84862636e+00, -4.84862343e-01],\n",
       "       [-4.81543013e+00, -4.81542678e-01],\n",
       "       [-4.78223389e+00, -4.78223013e-01],\n",
       "       [-4.74903766e+00, -4.74903347e-01],\n",
       "       [-4.71584142e+00, -4.71583682e-01],\n",
       "       [-4.68264519e+00, -4.68264017e-01],\n",
       "       [-4.64944895e+00, -4.64944351e-01],\n",
       "       [-4.61625272e+00, -4.61624686e-01],\n",
       "       [-4.58305649e+00, -4.58305021e-01],\n",
       "       [-4.54986025e+00, -4.54985356e-01],\n",
       "       [-4.51666402e+00, -4.51665690e-01],\n",
       "       [-4.48346778e+00, -4.48346025e-01],\n",
       "       [-4.45027155e+00, -4.45026360e-01],\n",
       "       [-4.41707531e+00, -4.41706695e-01],\n",
       "       [-4.38387908e+00, -4.38387029e-01],\n",
       "       [-4.35068285e+00, -4.35067364e-01],\n",
       "       [-4.31748661e+00, -4.31747699e-01],\n",
       "       [-4.28429038e+00, -4.28428033e-01],\n",
       "       [-4.25109414e+00, -4.25108368e-01],\n",
       "       [-4.21789791e+00, -4.21788703e-01],\n",
       "       [-4.18470167e+00, -4.18469038e-01],\n",
       "       [-4.15150544e+00, -4.15149372e-01],\n",
       "       [-4.11830921e+00, -4.11829707e-01],\n",
       "       [-4.08511297e+00, -4.08510042e-01],\n",
       "       [-4.05191674e+00, -4.05190377e-01],\n",
       "       [-4.01872050e+00, -4.01870711e-01],\n",
       "       [-3.98552427e+00, -3.98551046e-01],\n",
       "       [-3.95232803e+00, -3.95231381e-01],\n",
       "       [-3.91913180e+00, -3.91911715e-01],\n",
       "       [-3.88593556e+00, -3.88592050e-01],\n",
       "       [-3.85273933e+00, -3.85272385e-01],\n",
       "       [-3.81954310e+00, -3.81952720e-01],\n",
       "       [-3.78634686e+00, -3.78633054e-01],\n",
       "       [-3.75315063e+00, -3.75313389e-01],\n",
       "       [-3.71995439e+00, -3.71993724e-01],\n",
       "       [-3.68675816e+00, -3.68674059e-01],\n",
       "       [-3.65356192e+00, -3.65354393e-01],\n",
       "       [-3.62036569e+00, -3.62034728e-01],\n",
       "       [-3.58716946e+00, -3.58715063e-01],\n",
       "       [-3.55397322e+00, -3.55395397e-01],\n",
       "       [-3.52077699e+00, -3.52075732e-01],\n",
       "       [-3.48758075e+00, -3.48756067e-01],\n",
       "       [-3.45438452e+00, -3.45436402e-01],\n",
       "       [-3.42118828e+00, -3.42116736e-01],\n",
       "       [-3.38799205e+00, -3.38797071e-01],\n",
       "       [-3.35479582e+00, -3.35477406e-01],\n",
       "       [-3.32159958e+00, -3.32157741e-01],\n",
       "       [-3.28840335e+00, -3.28838075e-01],\n",
       "       [-3.25520711e+00, -3.25518410e-01],\n",
       "       [-3.22201088e+00, -3.22198745e-01],\n",
       "       [-3.18881464e+00, -3.18879079e-01],\n",
       "       [-3.15561841e+00, -3.15559414e-01],\n",
       "       [-3.12242218e+00, -3.12239749e-01],\n",
       "       [-3.08922594e+00, -3.08920084e-01],\n",
       "       [-3.05602971e+00, -3.05600418e-01],\n",
       "       [-3.02283347e+00, -3.02280753e-01],\n",
       "       [-2.98963724e+00, -2.98961088e-01],\n",
       "       [-2.95644100e+00, -2.95641423e-01],\n",
       "       [-2.92324477e+00, -2.92321757e-01],\n",
       "       [-2.89004854e+00, -2.89002092e-01],\n",
       "       [-2.85685230e+00, -2.85682427e-01],\n",
       "       [-2.82365607e+00, -2.82362762e-01],\n",
       "       [-2.79045983e+00, -2.79043096e-01],\n",
       "       [-2.75726360e+00, -2.75723431e-01],\n",
       "       [-2.72406736e+00, -2.72403766e-01],\n",
       "       [-2.69087113e+00, -2.69084100e-01],\n",
       "       [-2.65767490e+00, -2.65764435e-01],\n",
       "       [-2.62447866e+00, -2.62444770e-01],\n",
       "       [-2.59128243e+00, -2.59125105e-01],\n",
       "       [-2.55808619e+00, -2.55805439e-01],\n",
       "       [-2.52488996e+00, -2.52485774e-01],\n",
       "       [-2.49169372e+00, -2.49166109e-01],\n",
       "       [-2.45849749e+00, -2.45846444e-01],\n",
       "       [-2.42530126e+00, -2.42526778e-01],\n",
       "       [-2.39210502e+00, -2.39207113e-01],\n",
       "       [-2.35890879e+00, -2.35887448e-01],\n",
       "       [-2.32571255e+00, -2.32567782e-01],\n",
       "       [-2.29251632e+00, -2.29248117e-01],\n",
       "       [-2.25932008e+00, -2.25928452e-01],\n",
       "       [-2.22612385e+00, -2.22608787e-01],\n",
       "       [-2.19292762e+00, -2.19289121e-01],\n",
       "       [-2.15973138e+00, -2.15969456e-01],\n",
       "       [-2.12653515e+00, -2.12649791e-01],\n",
       "       [-2.09333891e+00, -2.09330126e-01],\n",
       "       [-2.06014268e+00, -2.06010460e-01],\n",
       "       [-2.02694644e+00, -2.02690795e-01],\n",
       "       [-1.99375021e+00, -1.99371130e-01],\n",
       "       [-1.96055397e+00, -1.96051464e-01],\n",
       "       [-1.92735774e+00, -1.92731799e-01],\n",
       "       [-1.89416151e+00, -1.89412134e-01],\n",
       "       [-1.86096527e+00, -1.86092469e-01],\n",
       "       [-1.82776904e+00, -1.82772803e-01],\n",
       "       [-1.79457280e+00, -1.79453138e-01],\n",
       "       [-1.76137657e+00, -1.76133473e-01],\n",
       "       [-1.72818033e+00, -1.72813808e-01],\n",
       "       [-1.69498410e+00, -1.69494142e-01],\n",
       "       [-1.66178787e+00, -1.66174477e-01],\n",
       "       [-1.62859163e+00, -1.62854812e-01],\n",
       "       [-1.59539540e+00, -1.59535146e-01],\n",
       "       [-1.56219916e+00, -1.56215481e-01],\n",
       "       [-1.52900293e+00, -1.52895816e-01],\n",
       "       [-1.49580669e+00, -1.49576151e-01],\n",
       "       [-1.46261046e+00, -1.46256485e-01],\n",
       "       [-1.42941423e+00, -1.42936820e-01],\n",
       "       [-1.39621799e+00, -1.39617155e-01],\n",
       "       [-1.36302176e+00, -1.36297490e-01],\n",
       "       [-1.32982552e+00, -1.32977824e-01],\n",
       "       [-1.29662929e+00, -1.29658159e-01],\n",
       "       [-1.26343305e+00, -1.26338494e-01],\n",
       "       [-1.23023682e+00, -1.23018828e-01],\n",
       "       [-1.19704059e+00, -1.19699163e-01],\n",
       "       [-1.16384435e+00, -1.16379498e-01],\n",
       "       [-1.13064812e+00, -1.13059833e-01],\n",
       "       [-1.09745188e+00, -1.09740167e-01],\n",
       "       [-1.06425565e+00, -1.06420502e-01],\n",
       "       [-1.03105941e+00, -1.03100837e-01],\n",
       "       [-9.97863180e-01, -9.97811715e-02],\n",
       "       [-9.64666946e-01, -9.64615063e-02],\n",
       "       [-9.31470711e-01, -9.31418410e-02],\n",
       "       [-8.98274477e-01, -8.98221757e-02],\n",
       "       [-8.65078243e-01, -8.65025105e-02],\n",
       "       [-8.31882008e-01, -8.31828452e-02],\n",
       "       [-7.98685774e-01, -7.98631799e-02],\n",
       "       [-7.65489540e-01, -7.65435146e-02],\n",
       "       [-7.32293305e-01, -7.32238494e-02],\n",
       "       [-6.99097071e-01, -6.99041841e-02],\n",
       "       [-6.65900837e-01, -6.65845188e-02],\n",
       "       [-6.32704603e-01, -6.32648536e-02],\n",
       "       [-5.99508368e-01, -5.99451883e-02],\n",
       "       [-5.66312134e-01, -5.66255230e-02],\n",
       "       [-5.33115900e-01, -5.33058577e-02],\n",
       "       [-4.99919665e-01, -4.99861925e-02],\n",
       "       [-4.66723431e-01, -4.66665272e-02],\n",
       "       [-4.33527197e-01, -4.33468619e-02],\n",
       "       [-4.00330962e-01, -4.00271967e-02],\n",
       "       [-3.67134728e-01, -3.67075314e-02],\n",
       "       [-3.33938494e-01, -3.33878661e-02],\n",
       "       [-3.00742259e-01, -3.00682008e-02],\n",
       "       [-2.67546025e-01, -2.67485356e-02],\n",
       "       [-2.34349791e-01, -2.34288703e-02],\n",
       "       [-2.01153556e-01, -2.01092050e-02],\n",
       "       [-1.67957322e-01, -1.67895397e-02],\n",
       "       [-1.34761088e-01, -1.34698745e-02],\n",
       "       [-1.01564854e-01, -1.01502092e-02],\n",
       "       [-6.83686192e-02, -6.83054393e-03],\n",
       "       [-3.51723849e-02, -3.51087866e-03],\n",
       "       [-1.97615063e-03, -1.91213389e-04],\n",
       "       [ 3.12200837e-02,  3.12845188e-03],\n",
       "       [ 6.44163180e-02,  6.44811715e-03],\n",
       "       [ 9.76125523e-02,  9.76778243e-03],\n",
       "       [ 1.30808787e-01,  1.30874477e-02],\n",
       "       [ 1.64005021e-01,  1.64071130e-02],\n",
       "       [ 1.97201255e-01,  1.97267782e-02],\n",
       "       [ 2.30397490e-01,  2.30464435e-02],\n",
       "       [ 2.63593724e-01,  2.63661088e-02],\n",
       "       [ 2.96789958e-01,  2.96857741e-02],\n",
       "       [ 3.29986192e-01,  3.30054393e-02],\n",
       "       [ 3.63182427e-01,  3.63251046e-02],\n",
       "       [ 3.96378661e-01,  3.96447699e-02],\n",
       "       [ 4.29574895e-01,  4.29644351e-02],\n",
       "       [ 4.62771130e-01,  4.62841004e-02],\n",
       "       [ 4.95967364e-01,  4.96037657e-02],\n",
       "       [ 5.29163598e-01,  5.29234310e-02],\n",
       "       [ 5.62359833e-01,  5.62430962e-02],\n",
       "       [ 5.95556067e-01,  5.95627615e-02],\n",
       "       [ 6.28752301e-01,  6.28824268e-02],\n",
       "       [ 6.61948536e-01,  6.62020921e-02],\n",
       "       [ 6.95144770e-01,  6.95217573e-02],\n",
       "       [ 7.28341004e-01,  7.28414226e-02],\n",
       "       [ 7.61537238e-01,  7.61610879e-02],\n",
       "       [ 7.94733473e-01,  7.94807531e-02],\n",
       "       [ 8.27929707e-01,  8.28004184e-02],\n",
       "       [ 8.61125941e-01,  8.61200837e-02],\n",
       "       [ 8.94322176e-01,  8.94397490e-02],\n",
       "       [ 9.27518410e-01,  9.27594142e-02],\n",
       "       [ 9.60714644e-01,  9.60790795e-02],\n",
       "       [ 9.93910879e-01,  9.93987448e-02],\n",
       "       [ 1.02710711e+00,  1.02718410e-01],\n",
       "       [ 1.06030335e+00,  1.06038075e-01],\n",
       "       [ 1.09349958e+00,  1.09357741e-01],\n",
       "       [ 1.12669582e+00,  1.12677406e-01],\n",
       "       [ 1.15989205e+00,  1.15997071e-01],\n",
       "       [ 1.19308828e+00,  1.19316736e-01],\n",
       "       [ 1.22628452e+00,  1.22636402e-01],\n",
       "       [ 1.25948075e+00,  1.25956067e-01],\n",
       "       [ 1.29267699e+00,  1.29275732e-01],\n",
       "       [ 1.32587322e+00,  1.32595397e-01],\n",
       "       [ 1.35906946e+00,  1.35915063e-01],\n",
       "       [ 1.39226569e+00,  1.39234728e-01],\n",
       "       [ 1.42546192e+00,  1.42554393e-01],\n",
       "       [ 1.45865816e+00,  1.45874059e-01],\n",
       "       [ 1.49185439e+00,  1.49193724e-01],\n",
       "       [ 1.52505063e+00,  1.52513389e-01],\n",
       "       [ 1.55824686e+00,  1.55833054e-01],\n",
       "       [ 1.59144310e+00,  1.59152720e-01],\n",
       "       [ 1.62463933e+00,  1.62472385e-01],\n",
       "       [ 1.65783556e+00,  1.65792050e-01],\n",
       "       [ 1.69103180e+00,  1.69111715e-01],\n",
       "       [ 1.72422803e+00,  1.72431381e-01],\n",
       "       [ 1.75742427e+00,  1.75751046e-01],\n",
       "       [ 1.79062050e+00,  1.79070711e-01],\n",
       "       [ 1.82381674e+00,  1.82390377e-01],\n",
       "       [ 1.85701297e+00,  1.85710042e-01],\n",
       "       [ 1.89020921e+00,  1.89029707e-01],\n",
       "       [ 1.92340544e+00,  1.92349372e-01],\n",
       "       [ 1.95660167e+00,  1.95669038e-01],\n",
       "       [ 1.98979791e+00,  1.98988703e-01],\n",
       "       [ 2.02299414e+00,  2.02308368e-01],\n",
       "       [ 2.05619038e+00,  2.05628033e-01],\n",
       "       [ 2.08938661e+00,  2.08947699e-01],\n",
       "       [ 2.12258285e+00,  2.12267364e-01],\n",
       "       [ 2.15577908e+00,  2.15587029e-01],\n",
       "       [ 2.18897531e+00,  2.18906695e-01],\n",
       "       [ 2.22217155e+00,  2.22226360e-01],\n",
       "       [ 2.25536778e+00,  2.25546025e-01],\n",
       "       [ 2.28856402e+00,  2.28865690e-01],\n",
       "       [ 2.32176025e+00,  2.32185356e-01],\n",
       "       [ 2.35495649e+00,  2.35505021e-01],\n",
       "       [ 2.38815272e+00,  2.38824686e-01],\n",
       "       [ 2.42134895e+00,  2.42144351e-01],\n",
       "       [ 2.45454519e+00,  2.45464017e-01],\n",
       "       [ 2.48774142e+00,  2.48783682e-01],\n",
       "       [ 2.52093766e+00,  2.52103347e-01],\n",
       "       [ 2.55413389e+00,  2.55423013e-01],\n",
       "       [ 2.58733013e+00,  2.58742678e-01],\n",
       "       [ 2.62052636e+00,  2.62062343e-01],\n",
       "       [ 2.65372259e+00,  2.65382008e-01],\n",
       "       [ 2.68691883e+00,  2.68701674e-01],\n",
       "       [ 2.72011506e+00,  2.72021339e-01],\n",
       "       [ 2.75331130e+00,  2.75341004e-01],\n",
       "       [ 2.78650753e+00,  2.78660669e-01],\n",
       "       [ 2.81970377e+00,  2.81980335e-01],\n",
       "       [ 2.85290000e+00,  2.85300000e-01]])"
      ]
     },
     "execution_count": 55,
     "metadata": {},
     "output_type": "execute_result"
    }
   ],
   "source": [
    "data.info['p_obst'][1]"
   ]
  },
  {
   "cell_type": "markdown",
   "metadata": {},
   "source": [
    "### Bai_movObst2"
   ]
  },
  {
   "cell_type": "code",
   "execution_count": 49,
   "metadata": {},
   "outputs": [
    {
     "ename": "KeyError",
     "evalue": "'ground'",
     "output_type": "error",
     "traceback": [
      "\u001b[1;31m---------------------------------------------------------------------------\u001b[0m",
      "\u001b[1;31mKeyError\u001b[0m                                  Traceback (most recent call last)",
      "\u001b[1;32m<ipython-input-49-bacbd41ab8ab>\u001b[0m in \u001b[0;36m<module>\u001b[1;34m\u001b[0m\n\u001b[0;32m     10\u001b[0m             \u001b[1;32mcontinue\u001b[0m\u001b[1;33m\u001b[0m\u001b[1;33m\u001b[0m\u001b[0m\n\u001b[0;32m     11\u001b[0m         \u001b[0msubj_id\u001b[0m \u001b[1;33m=\u001b[0m \u001b[0mdata\u001b[0m\u001b[1;33m.\u001b[0m\u001b[0minfo\u001b[0m\u001b[1;33m[\u001b[0m\u001b[1;34m'subj_id'\u001b[0m\u001b[1;33m]\u001b[0m\u001b[1;33m[\u001b[0m\u001b[0mi\u001b[0m\u001b[1;33m]\u001b[0m\u001b[1;33m\u001b[0m\u001b[1;33m\u001b[0m\u001b[0m\n\u001b[1;32m---> 12\u001b[1;33m         \u001b[0mground\u001b[0m \u001b[1;33m=\u001b[0m \u001b[0mdata\u001b[0m\u001b[1;33m.\u001b[0m\u001b[0minfo\u001b[0m\u001b[1;33m[\u001b[0m\u001b[1;34m'ground'\u001b[0m\u001b[1;33m]\u001b[0m\u001b[1;33m[\u001b[0m\u001b[0mi\u001b[0m\u001b[1;33m]\u001b[0m\u001b[1;33m\u001b[0m\u001b[1;33m\u001b[0m\u001b[0m\n\u001b[0m\u001b[0;32m     13\u001b[0m         \u001b[0mipd\u001b[0m \u001b[1;33m=\u001b[0m \u001b[0mdata\u001b[0m\u001b[1;33m.\u001b[0m\u001b[0minfo\u001b[0m\u001b[1;33m[\u001b[0m\u001b[1;34m'ipd'\u001b[0m\u001b[1;33m]\u001b[0m\u001b[1;33m[\u001b[0m\u001b[0mi\u001b[0m\u001b[1;33m]\u001b[0m\u001b[1;33m\u001b[0m\u001b[1;33m\u001b[0m\u001b[0m\n\u001b[0;32m     14\u001b[0m         \u001b[0mdsize\u001b[0m \u001b[1;33m=\u001b[0m \u001b[0mdata\u001b[0m\u001b[1;33m.\u001b[0m\u001b[0minfo\u001b[0m\u001b[1;33m[\u001b[0m\u001b[1;34m'dsize'\u001b[0m\u001b[1;33m]\u001b[0m\u001b[1;33m[\u001b[0m\u001b[0mi\u001b[0m\u001b[1;33m]\u001b[0m\u001b[1;33m\u001b[0m\u001b[1;33m\u001b[0m\u001b[0m\n",
      "\u001b[1;31mKeyError\u001b[0m: 'ground'"
     ]
    }
   ],
   "source": [
    "'''Plot average time series by subject'''\n",
    "length = 267\n",
    "subjs = {}\n",
    "t = np.linspace(0, 266/90, 267)\n",
    "for subj in set(data.info['subj_id']):\n",
    "    n = 0\n",
    "    vals = np.zeros(length)\n",
    "    for i in range(len(data.trajs)):\n",
    "        if i in data.dump or data.info['obst_speed'][i] == 0:\n",
    "            continue\n",
    "        subj_id = data.info['subj_id'][i]\n",
    "        ground = data.info['ground'][i]\n",
    "        ipd = data.info['ipd'][i]\n",
    "        dsize = data.info['dsize'][i]\n",
    "        dpsi = abs(data.info['dpsi'][i][:length])\n",
    "        if subj_id == subj:\n",
    "            n += 1\n",
    "            vals += np.array(dpsi)\n",
    "    vals /= n\n",
    "    plt.plot(t, vals, label='subj ' + str(subj))\n",
    "plt.xlabel('time (s)')\n",
    "plt.ylabel('dpsi (rad/s)')\n",
    "plt.legend()"
   ]
  },
  {
   "cell_type": "code",
   "execution_count": 50,
   "metadata": {},
   "outputs": [
    {
     "ename": "KeyError",
     "evalue": "'ground'",
     "output_type": "error",
     "traceback": [
      "\u001b[1;31m---------------------------------------------------------------------------\u001b[0m",
      "\u001b[1;31mKeyError\u001b[0m                                  Traceback (most recent call last)",
      "\u001b[1;32m<ipython-input-50-8627a9b0a8a1>\u001b[0m in \u001b[0;36m<module>\u001b[1;34m\u001b[0m\n\u001b[0;32m      8\u001b[0m         \u001b[1;32mcontinue\u001b[0m\u001b[1;33m\u001b[0m\u001b[1;33m\u001b[0m\u001b[0m\n\u001b[0;32m      9\u001b[0m     \u001b[0msubj_id\u001b[0m \u001b[1;33m=\u001b[0m \u001b[0mdata\u001b[0m\u001b[1;33m.\u001b[0m\u001b[0minfo\u001b[0m\u001b[1;33m[\u001b[0m\u001b[1;34m'subj_id'\u001b[0m\u001b[1;33m]\u001b[0m\u001b[1;33m[\u001b[0m\u001b[0mi\u001b[0m\u001b[1;33m]\u001b[0m\u001b[1;33m\u001b[0m\u001b[1;33m\u001b[0m\u001b[0m\n\u001b[1;32m---> 10\u001b[1;33m     \u001b[0mground\u001b[0m \u001b[1;33m=\u001b[0m \u001b[0mdata\u001b[0m\u001b[1;33m.\u001b[0m\u001b[0minfo\u001b[0m\u001b[1;33m[\u001b[0m\u001b[1;34m'ground'\u001b[0m\u001b[1;33m]\u001b[0m\u001b[1;33m[\u001b[0m\u001b[0mi\u001b[0m\u001b[1;33m]\u001b[0m\u001b[1;33m\u001b[0m\u001b[1;33m\u001b[0m\u001b[0m\n\u001b[0m\u001b[0;32m     11\u001b[0m     \u001b[0mipd\u001b[0m \u001b[1;33m=\u001b[0m \u001b[0mdata\u001b[0m\u001b[1;33m.\u001b[0m\u001b[0minfo\u001b[0m\u001b[1;33m[\u001b[0m\u001b[1;34m'ipd'\u001b[0m\u001b[1;33m]\u001b[0m\u001b[1;33m[\u001b[0m\u001b[0mi\u001b[0m\u001b[1;33m]\u001b[0m\u001b[1;33m\u001b[0m\u001b[1;33m\u001b[0m\u001b[0m\n\u001b[0;32m     12\u001b[0m     \u001b[0mdsize\u001b[0m \u001b[1;33m=\u001b[0m \u001b[0mdata\u001b[0m\u001b[1;33m.\u001b[0m\u001b[0minfo\u001b[0m\u001b[1;33m[\u001b[0m\u001b[1;34m'dsize'\u001b[0m\u001b[1;33m]\u001b[0m\u001b[1;33m[\u001b[0m\u001b[0mi\u001b[0m\u001b[1;33m]\u001b[0m\u001b[1;33m\u001b[0m\u001b[1;33m\u001b[0m\u001b[0m\n",
      "\u001b[1;31mKeyError\u001b[0m: 'ground'"
     ]
    }
   ],
   "source": [
    "'''Plot average time series by one condition'''\n",
    "length = 267\n",
    "n = 0\n",
    "vals = np.zeros(length)\n",
    "t = np.linspace(0, 266/90, 267)\n",
    "for i in range(len(data.trajs)):\n",
    "    if i in data.dump or data.info['obst_speed'][i] == 0:\n",
    "        continue\n",
    "    subj_id = data.info['subj_id'][i]\n",
    "    ground = data.info['ground'][i]\n",
    "    ipd = data.info['ipd'][i]\n",
    "    dsize = data.info['dsize'][i]\n",
    "    dpsi = abs(data.info['dpsi'][i][:length])\n",
    "    if dsize == 0:\n",
    "        n += 1\n",
    "        vals += np.array(dpsi)\n",
    "vals /= n\n",
    "plt.plot(t, vals, label='constant size')\n",
    "plt.xlabel('time (s)')\n",
    "plt.ylabel('dpsi (rad/s)')\n",
    "plt.legend()"
   ]
  },
  {
   "cell_type": "code",
   "execution_count": null,
   "metadata": {},
   "outputs": [],
   "source": [
    "'''Passing distance, pass order by condition Bai_movObst2'''\n",
    "%matplotlib qt\n",
    "#########\n",
    "grounds = [1, 0]\n",
    "ipds = [0.07, 0]\n",
    "dsizes = [-0.1, 0, 0.1]\n",
    "#########\n",
    "pd1 = []\n",
    "pd2 = []\n",
    "po1 = []\n",
    "po2 = []\n",
    "dp1 = []\n",
    "dp2 = []\n",
    "ps1 = []\n",
    "ps2 = []\n",
    "for i in range(len(data.trajs)):\n",
    "    if i in data.dump or data.info['obst_speed'][i] == 0:\n",
    "        continue\n",
    "    ground = data.info['ground'][i]\n",
    "    ipd = data.info['ipd'][i]\n",
    "    dsize = data.info['dsize'][i]\n",
    "    t0 = data.info['obst_onset'][i]\n",
    "    t1 = data.info['obst_out'][i]\n",
    "    p0 = data.info['p_subj'][i][t1]\n",
    "    p1 = data.info['p_obst'][i][t1]\n",
    "    ps = norm(data.info['v_subj'][i][t0])\n",
    "    pass_order = data.info['pass_order'][i]\n",
    "    j = 0\n",
    "#     for j in range(t0, t1):\n",
    "#         x, y = data.info['p_subj'][i][j]\n",
    "#         xo, yo = data.info['p_obst'][i][j]\n",
    "#         dpsi = d_psi([x, y], [xo, yo], [vx, vy], [vxo, vyo])\n",
    "#         if dpsi > 0.05:\n",
    "#             break\n",
    "    if pass_order == -1:\n",
    "        pass_order = 0\n",
    "    d = dist(p0, p1)\n",
    "    if dsize == 0.1:\n",
    "        pd1.append(d)\n",
    "        po1.append(pass_order)\n",
    "        dp1.append(j)\n",
    "        ps1.append(ps)\n",
    "    elif dsize == -0.1:\n",
    "        pd2.append(d)\n",
    "        po2.append(pass_order)\n",
    "        dp2.append(j)\n",
    "        ps2.append(ps)\n",
    "\n",
    "var1, var2 = pd1, pd2\n",
    "print(np.mean(var1), np.mean(var2))\n",
    "print(ttest_ind(var1, var2))\n",
    "plt.boxplot([var1,var2])\n"
   ]
  },
  {
   "cell_type": "code",
   "execution_count": null,
   "metadata": {},
   "outputs": [],
   "source": [
    "'''Match rate by threshold by condition, Bai_movObst2'''\n",
    "sim = ODESimulator(data=data, ref=[0,1])\n",
    "thress = np.linspace(0, 0.1, 11)\n",
    "match_rates = []\n",
    "match_rates_ipd1 = []\n",
    "match_rates_ipd0 = []\n",
    "match_rates_ground1 = []\n",
    "match_rates_ground0 = []\n",
    "match_rates_dsize1 = []\n",
    "match_rates_dsize0 = []\n",
    "i_ipd1 = []\n",
    "i_ipd0 = []\n",
    "i_ground1 = []\n",
    "i_ground0 = []\n",
    "i_dsize1 = []\n",
    "i_dsize0 = []\n",
    "t0s = {}\n",
    "for ii, thres in enumerate(thress):\n",
    "    print(f'thres = {thres}')\n",
    "    side_pred = []\n",
    "    side_true = []\n",
    "    for i in range(len(sim.data.trajs)):\n",
    "        if i in sim.data.dump or sim.data.info['obst_speed'][i] == 0:\n",
    "            continue\n",
    "        t0 = t0s.get(i, sim.data.info['obst_onset'][i])\n",
    "        t1 = sim.data.info['obst_out'][i]\n",
    "        ipd = sim.data.info['ipd'][i]\n",
    "        ground = sim.data.info['ground'][i]\n",
    "        dsize = sim.data.info['dsize'][i]\n",
    "        for j in range(t0, t1):\n",
    "            xg, yg, xo, yo, vxo, vyo, x, y, vx, vy, a, phi, s, dphi, ds, w0 = sim.compute_var0(i, j)\n",
    "            dpsi = d_psi([x, y], [xo, yo], [vx, vy], [vxo, vyo])\n",
    "            if j == t1 - 1:\n",
    "                print('reached t1 before meeting the threshold')\n",
    "            if abs(dpsi) > thres:\n",
    "                t0s[i] = j\n",
    "                break\n",
    "        angle = sim.data.info['obst_angle'][i]\n",
    "        side_pred.append(1 if angle * dpsi < 0 else -1)\n",
    "        side_true.append(sim.data.info['pass_order'][i])\n",
    "        if ii == 0:\n",
    "            i_ipd1.append(True if ipd==0.07 else False)\n",
    "            i_ipd0.append(True if ipd==0 else False)\n",
    "            i_ground1.append(True if ground==1 else False)\n",
    "            i_ground0.append(True if ground==0 else False)\n",
    "            i_dsize1.append(True if dsize==0.1 else False)\n",
    "            i_dsize0.append(True if dsize==-0.1 else False)\n",
    "    if ii == 0:\n",
    "        i_ipd1 = np.array(i_ipd1)\n",
    "        i_ipd0 = np.array(i_ipd0)\n",
    "        i_ground1 = np.array(i_ground1)\n",
    "        i_ground0 = np.array(i_ground0)\n",
    "        i_dsize1 = np.array(i_dsize1)\n",
    "        i_dsize0 = np.array(i_dsize0)\n",
    "    side_pred = np.array(side_pred)\n",
    "    side_true = np.array(side_true)\n",
    "    match_rates.append(accuracy_score(side_true, side_pred))\n",
    "    match_rates_ipd1.append(accuracy_score(side_true[i_ipd1], side_pred[i_ipd1]))\n",
    "    match_rates_ipd0.append(accuracy_score(side_true[i_ipd0], side_pred[i_ipd0]))\n",
    "    match_rates_ground1.append(accuracy_score(side_true[i_ground1], side_pred[i_ground1]))\n",
    "    match_rates_ground0.append(accuracy_score(side_true[i_ground0], side_pred[i_ground0]))\n",
    "    match_rates_dsize1.append(accuracy_score(side_true[i_dsize1], side_pred[i_dsize1]))\n",
    "    match_rates_dsize0.append(accuracy_score(side_true[i_dsize0], side_pred[i_dsize0]))\n",
    "    \n",
    "plt.plot(thress, match_rates, label='All trials')\n",
    "plt.plot(thress, match_rates_ipd1, label='disparity')\n",
    "plt.plot(thress, match_rates_ipd0, label='no disparity')\n",
    "plt.plot(thress, match_rates_ground1, label='ground')\n",
    "plt.plot(thress, match_rates_ground0, label='no ground')\n",
    "plt.plot(thress, match_rates_dsize1, label='grow')\n",
    "plt.plot(thress, match_rates_dsize0, label='shrink')\n",
    "plt.ylabel('Percentage')\n",
    "plt.xlabel('dpsi threshold')\n",
    "plt.legend()\n"
   ]
  },
  {
   "cell_type": "code",
   "execution_count": null,
   "metadata": {},
   "outputs": [],
   "source": [
    "'''Average time series of dpsi by subj and condition, Bai_movObst2'''\n",
    "dpsi = {}\n",
    "length = 267\n",
    "t = np.linspace(0, 266/90, 267)\n",
    "subjs = set(data.info['subj_id'])\n",
    "subjs.add(0)\n",
    "for subj in subjs:\n",
    "    dpsi[subj] = {}\n",
    "    for ground in [1, 0]:\n",
    "        dpsi[subj][ground] = {}\n",
    "        for ipd in [0.07, 0]:\n",
    "            dpsi[subj][ground][ipd] = {}\n",
    "            for dsize in [-0.1, 0, 0.1]:\n",
    "                dpsi[subj][ground][ipd][dsize] = {}\n",
    "                dpsi[subj][ground][ipd][dsize]['vals'] = np.zeros(length)\n",
    "                dpsi[subj][ground][ipd][dsize]['n'] = 0\n",
    "\n",
    "for i in range(len(data.trajs)):\n",
    "    if i in data.dump or data.info['obst_speed'][i] == 0:\n",
    "        continue\n",
    "    subj = data.info['subj_id'][i]\n",
    "    ground = data.info['ground'][i]\n",
    "    ipd = data.info['ipd'][i]\n",
    "    dsize = data.info['dsize'][i]\n",
    "    vals = np.array(abs(data.info['dpsi'][i][:length]))\n",
    "    dpsi[subj][ground][ipd][dsize]['vals'] += vals\n",
    "    dpsi[subj][ground][ipd][dsize]['n'] += 1\n",
    "    dpsi[0][ground][ipd][dsize]['vals'] += vals\n",
    "    dpsi[0][ground][ipd][dsize]['n'] += 1\n",
    "\n",
    "plt.plot()\n",
    "ground_con = {1:'ground', 0:'no ground'}\n",
    "ipd_con = {0.07:'disparity', 0:'no disparity'}\n",
    "dsize_con = {0.1:'grow', -0.1:'shrink', 0:'constant'}\n",
    "for ground in [1, 0]:\n",
    "    for ipd in [0.07, 0]:\n",
    "        for dsize in [-0.1, 0, 0.1]:\n",
    "            plt.plot(t, dpsi[0][ground][ipd][dsize]['vals'] / dpsi[0][ground][ipd][dsize]['n'], \n",
    "                     label=f'{ground_con[ground]}, {ipd_con[ipd]}, {dsize_con[dsize]}')\n",
    "plt.legend()\n"
   ]
  },
  {
   "cell_type": "markdown",
   "metadata": {},
   "source": [
    "### Bai_movObst1b (approach model)"
   ]
  },
  {
   "cell_type": "code",
   "execution_count": 44,
   "metadata": {},
   "outputs": [
    {
     "name": "stdout",
     "output_type": "stream",
     "text": [
      "{0.0, 10.0, -20.0, 15.0, -15.0, 20.0, -10.0}\n",
      "{0.5, 1.4, 0.0}\n",
      "{8.0, 0.0, 4.0}\n",
      "min speed below bottom 1%\n",
      "min speed below bottom 1%\n",
      "min speed below bottom 1%\n",
      "min speed below bottom 1%\n",
      "min speed below bottom 1%\n",
      "min speed below bottom 1%\n",
      "min speed below bottom 1%\n",
      "min speed below bottom 1%\n",
      "min speed below bottom 1%\n",
      "min speed below bottom 1%\n",
      "min speed below bottom 1%\n",
      "min speed below bottom 1%\n",
      "min speed below bottom 1%\n",
      "min speed below bottom 1%\n",
      "1426 14\n"
     ]
    }
   ],
   "source": [
    "print(set(data.info['goal_angle']))\n",
    "print(set(data.info['leader_s0']))\n",
    "print(set(data.info['goal_d0']))\n",
    "cnt = 0\n",
    "for i in range(len(data.trajs)):\n",
    "    if data.info['leader_s0'][i] and i not in data.dump:\n",
    "        cnt += 1\n",
    "    if i in data.dump:\n",
    "        print(data.dump[i])\n",
    "print(cnt, len(data.dump))"
   ]
  },
  {
   "cell_type": "code",
   "execution_count": 10,
   "metadata": {},
   "outputs": [
    {
     "name": "stdout",
     "output_type": "stream",
     "text": [
      "99 258\n",
      "0 2\n"
     ]
    },
    {
     "data": {
      "text/plain": [
       "<matplotlib.animation.FuncAnimation at 0x138706fc5c0>"
      ]
     },
     "execution_count": 10,
     "metadata": {},
     "output_type": "execute_result"
    }
   ],
   "source": [
    "'''Animate approach data'''\n",
    "i = 1\n",
    "t0 = data.info['stimuli_onset'][i]\n",
    "t1 = data.info['stimuli_out'][i]\n",
    "print(t0, t1)\n",
    "p_goal = data.info['p_goal'][i][t0:t1]\n",
    "p_subj = data.info['p_subj'][i][t0:t1]\n",
    "trajs = [p_goal, p_subj]\n",
    "ws = [data.info['w_goal'], 0.4]\n",
    "title = 'subj ' + str(data.info['subj_id'][i]) + ' trial ' + str(data.info['trial_id'][i]) + ' goal_d0: ' + str(data.info['goal_d0'][i]) + ' goal_angle: ' + str(data.info['goal_angle'][i]) + ' leader_s0: ' + str(data.info['leader_s0'][i])\n",
    "print(data.info['subj_id'][i], data.info['trial_id'][i])\n",
    "play_trajs(trajs, ws, data.Hz, title=title, save=False)"
   ]
  },
  {
   "cell_type": "code",
   "execution_count": null,
   "metadata": {},
   "outputs": [],
   "source": [
    "'''Plot speed'''\n",
    "for i in range(len(data.trajs)):\n",
    "    if data.info['stimuli_out'][i] and data.info['stimuli_onset'][i] and data.info['leader_s0'] and i not in data.dump:\n",
    "        t0, t1 = data.info['stimuli_onset'][i], data.info['stimuli_out'][i]\n",
    "        v_subj = data.info['v_subj'][i]\n",
    "        s_subj = norm(v_subj, axis=1)\n",
    "        plt.plot(s_subj[t0:t1])"
   ]
  },
  {
   "cell_type": "code",
   "execution_count": null,
   "metadata": {},
   "outputs": [],
   "source": [
    "'''Check trial length'''\n",
    "%matplotlib qt\n",
    "a = []\n",
    "for i in range(len(data.trajs)):\n",
    "    if data.info['stimuli_out'][i] and data.info['stimuli_onset'][i] and data.info['leader_s0'] and i not in data.dump:\n",
    "        l = data.info['stimuli_out'][i] - data.info['stimuli_onset'][i]\n",
    "        a.append(l)\n",
    "        if (l < 100 or l > 1000) and i not in data.dump:\n",
    "            print(i, l)\n",
    "plt.plot(a)"
   ]
  },
  {
   "cell_type": "code",
   "execution_count": 15,
   "metadata": {},
   "outputs": [],
   "source": [
    "'''Check trajectories'''\n",
    "for i in range(len(data.trajs)):\n",
    "    if i not in data.dump and data.info['leader_s0']:\n",
    "        if data.info['goal_d0'][i] == 8:\n",
    "            plt.plot(data.info['p_subj'][i][:, 0], data.info['p_subj'][i][:, 1])"
   ]
  },
  {
   "cell_type": "code",
   "execution_count": 40,
   "metadata": {},
   "outputs": [
    {
     "data": {
      "text/plain": [
       "Text(0, 0.5, 'y (m)')"
      ]
     },
     "execution_count": 40,
     "metadata": {},
     "output_type": "execute_result"
    }
   ],
   "source": [
    "'''Plot sample traj in each condition'''\n",
    "visited = set()\n",
    "for i in range(len(data.trajs)):\n",
    "    if i not in data.dump and data.info['leader_s0']:\n",
    "        angle = data.info['goal_angle'][i]\n",
    "        distance = data.info['goal_d0'][i]\n",
    "        speed = data.info['leader_s0'][i]\n",
    "        if (angle, distance, speed) not in visited and speed == 1.4:\n",
    "            goal = data.info['p_goal'][i][0]\n",
    "            subj = data.info['p_subj'][i]\n",
    "            if data.trajs[i][0][0] > 0:\n",
    "                subj = rotate(subj, np.arctan(11 / 9) + pi / 2)\n",
    "                goal = rotate(goal, np.arctan(11 / 9) + pi / 2)\n",
    "            else:\n",
    "                subj = rotate(subj, np.arctan(11 / 9) - pi / 2)\n",
    "                goal = rotate(goal, np.arctan(11 / 9) - pi / 2)\n",
    "            plt.plot(subj[:, 0], subj[:, 1], 'k')\n",
    "            plt.scatter(goal[0], goal[1], c='k', marker='x')\n",
    "            visited.add(((angle, distance, speed)))\n",
    "# plt.gca().set_aspect('equal') \n",
    "plt.xlabel(\"x (m)\")\n",
    "plt.ylabel(\"y (m)\")"
   ]
  },
  {
   "cell_type": "code",
   "execution_count": 18,
   "metadata": {},
   "outputs": [
    {
     "data": {
      "text/plain": [
       "{(-20.0, 4.0, 1.4),\n",
       " (-20.0, 8.0, 1.4),\n",
       " (-15.0, 4.0, 1.4),\n",
       " (-15.0, 8.0, 1.4),\n",
       " (-10.0, 4.0, 1.4),\n",
       " (-10.0, 8.0, 1.4),\n",
       " (10.0, 4.0, 1.4),\n",
       " (10.0, 8.0, 1.4),\n",
       " (15.0, 4.0, 1.4),\n",
       " (15.0, 8.0, 1.4),\n",
       " (20.0, 4.0, 1.4),\n",
       " (20.0, 8.0, 1.4)}"
      ]
     },
     "execution_count": 18,
     "metadata": {},
     "output_type": "execute_result"
    }
   ],
   "source": [
    "visited"
   ]
  },
  {
   "cell_type": "code",
   "execution_count": 29,
   "metadata": {},
   "outputs": [
    {
     "data": {
      "text/plain": [
       "Text(0.5, 1.0, 'subj 0 angle: {0.0, 10.0, -20.0, 15.0, -15.0, 20.0, -10.0} s0: {0.5, 1.4, 0.0} d0: {8.0, 0.0, 4.0}')"
      ]
     },
     "execution_count": 29,
     "metadata": {},
     "output_type": "execute_result"
    }
   ],
   "source": [
    "'''Plot data by condition'''\n",
    "#####################\n",
    "subject = 0\n",
    "s0 = [1.4]\n",
    "d0 = [8]\n",
    "angle = [15]\n",
    "s0 = set(data.info['leader_s0'])\n",
    "d0 = set(data.info['goal_d0'])\n",
    "angle = set(data.info['goal_angle'])\n",
    "#####################\n",
    "%matplotlib qt\n",
    "plt.figure()\n",
    "for i in range(len(data.trajs)):\n",
    "    goal_s0 = data.info['leader_s0'][i]\n",
    "    goal_d0 = data.info['goal_d0'][i]\n",
    "    goal_angle = data.info['goal_angle'][i]\n",
    "    subj_id = data.info['subj_id'][i]\n",
    "    if subj_id != subject:\n",
    "        continue\n",
    "    if not (goal_s0 in s0 and goal_d0 in d0 and abs(goal_angle) in angle):\n",
    "        continue\n",
    "    subj = np.array(data.info['p_subj'][i])\n",
    "    goal = np.array(data.info['p_goal'][i])\n",
    "    if i % 2 == 0:\n",
    "        subj = rotate(subj, np.arctan(11 / 9) - pi / 2)\n",
    "        goal = rotate(goal, np.arctan(11 / 9) - pi / 2)\n",
    "    else:\n",
    "        subj = rotate(subj, np.arctan(11 / 9) + pi / 2)\n",
    "        goal = rotate(goal, np.arctan(11 / 9) + pi / 2)\n",
    "#     if goal_angle < 0:\n",
    "#         subj[:, 0] *= -1\n",
    "#         goal[:, 0] *= -1\n",
    "    plt.plot(subj[:, 0], subj[:, 1])\n",
    "    plt.plot(goal[:, 0], goal[:, 1])\n",
    "ax = plt.gca()\n",
    "ax.set_aspect('equal')\n",
    "ax.set_title(f'subj {str(subject)} angle: {str(angle)} s0: {str(s0)} d0: {str(d0)}')"
   ]
  },
  {
   "cell_type": "code",
   "execution_count": null,
   "metadata": {},
   "outputs": [],
   "source": [
    "'''Cohen experiments'''\n",
    "file = os.path.abspath(os.path.join(os.getcwd(), os.pardir, 'Raw_Data', 'Cohen_movObst_exp1_data.pickle'))\n",
    "with open(file, 'rb') as f:\n",
    "    cohen1 = pickle.load(f)"
   ]
  },
  {
   "cell_type": "code",
   "execution_count": null,
   "metadata": {},
   "outputs": [],
   "source": [
    "cohen1.info['pass_order']\n",
    "# data.info['pass_order']"
   ]
  },
  {
   "cell_type": "code",
   "execution_count": 6,
   "metadata": {},
   "outputs": [
    {
     "name": "stdout",
     "output_type": "stream",
     "text": [
      "list index out of range\n",
      "list index out of range\n",
      "list index out of range\n",
      "list index out of range\n",
      "list index out of range\n",
      "list index out of range\n",
      "list index out of range\n",
      "list index out of range\n",
      "list index out of range\n",
      "list index out of range\n",
      "list index out of range\n",
      "list index out of range\n",
      "list index out of range\n",
      "list index out of range\n",
      "\n",
      "\n",
      "b' -0' b\"6712t[{'name': 'fajen_approach', 'b1': 4.296329212568901, 'k1': 3.876411184381646, 'c1': 2.373202635931417, 'c2': 1.0940365636783889, 'k2': 1.0565235274635225, 'ps': 1.1696131040416013}, {'name': 'cohen_avoid2', 'b1': 5.473755989229108, 'k1': 163.92602782418476, 'c5': 9.98591826848627, 'c6': 23.827712128363842, 'b2': 0.04742989725662028, 'k2': 13.365509942247854, 'c7': 8.152075686083629, 'c8': 15.487347288094252, 'ps': 1.1696131040416013}]t0.16206334870520647torder_accuracyt0.9900153609831029t0:00:58rn\"\n",
      "\n",
      "\n",
      "b' -1' b\"9047t[{'name': 'fajen_approach', 'b1': 4.296329212568901, 'k1': 3.876411184381646, 'c1': 2.373202635931417, 'c2': 1.0940365636783889, 'k2': 1.0565235274635225, 'ps': 1.1696131040416013}, {'name': 'cohen_avoid2', 'b1': 9.444373769235984, 'k1': 425.8489865195509, 'c5': 9.637831552956676, 'c6': 8.88115013966959, 'b2': 0.00168766188089009, 'k2': 8.833326662202126, 'c7': 7.986513553367632, 'c8': 24.918367905277677, 'ps': 1.1696131040416013}]t0.15489416040831228torder_accuracyt0.9953917050691244t0:01:14rn\"\n",
      "\n",
      "\n",
      "b' -2' b\"8893t[{'name': 'fajen_approach', 'b1': 4.296329212568901, 'k1': 3.876411184381646, 'c1': 2.373202635931417, 'c2': 1.0940365636783889, 'k2': 1.0565235274635225, 'ps': 1.1696131040416013}, {'name': 'cohen_avoid2', 'b1': 3.505902991672367, 'k1': 432.993094675727, 'c5': 9.946808215726895, 'c6': 7.160565983442178, 'b2': 0.0, 'k2': 12.505349000287788, 'c7': 9.644332482559088, 'c8': 24.549553753228203, 'ps': 1.1696131040416013}]t0.1582218527681655torder_accuracyt0.988479262672811t0:00:51rn\"\n",
      "\n",
      "\n",
      "b' -3' b\"10530t[{'name': 'fajen_approach', 'b1': 4.296329212568901, 'k1': 3.876411184381646, 'c1': 2.373202635931417, 'c2': 1.0940365636783889, 'k2': 1.0565235274635225, 'ps': 1.1696131040416013}, {'name': 'cohen_avoid2', 'b1': 0.49192944817972517, 'k1': 193.79693613385132, 'c5': 9.581888439138377, 'c6': 12.19487773054075, 'b2': 0.032906517686310366, 'k2': 13.186896948068693, 'c7': 9.491930075263461, 'c8': 24.6311710976007, 'ps': 1.1696131040416013}]t0.13952297035843164torder_accuracyt0.9885057471264368t0:00:31rn\"\n",
      "\n",
      "\n",
      "b' -4' b\"5969t[{'name': 'fajen_approach', 'b1': 4.296329212568901, 'k1': 3.876411184381646, 'c1': 2.373202635931417, 'c2': 1.0940365636783889, 'k2': 1.0565235274635225, 'ps': 1.1696131040416013}, {'name': 'cohen_avoid2', 'b1': 3.836398981352712, 'k1': 233.57704804967435, 'c5': 9.84479923298159, 'c6': 13.563852744076156, 'b2': 0.01915851467848384, 'k2': 147.71655471892126, 'c7': 9.793812872532595, 'c8': 1.7007118575463114, 'ps': 1.1696131040416013}]t0.16033737840940346torder_accuracyt0.989247311827957t0:00:51rn\"\n",
      "\n",
      "\n",
      "b' -6' b\"7816t[{'name': 'fajen_approach', 'b1': 4.296329212568901, 'k1': 3.876411184381646, 'c1': 2.373202635931417, 'c2': 1.0940365636783889, 'k2': 1.0565235274635225, 'ps': 1.1696131040416013}, {'name': 'cohen_avoid2', 'b1': 4.211176254281401, 'k1': 276.35493596357185, 'c5': 9.752549167800943, 'c6': 12.659850381985759, 'b2': 0.018219635868216955, 'k2': 65.22359032310953, 'c7': 9.695968862950814, 'c8': 4.181572482606645, 'ps': 1.1696131040416013}]t0.1526770012926339torder_accuracyt0.9923195084485407t0:00:55rn\"\n",
      "\n",
      "\n",
      "b'-10' b\"12370t[{'name': 'fajen_approach', 'b1': 4.296329212568901, 'k1': 3.876411184381646, 'c1': 2.373202635931417, 'c2': 1.0940365636783889, 'k2': 1.0565235274635225, 'ps': 1.1696131040416013}, {'name': 'cohen_avoid2', 'b1': 1.1938454971109853, 'k1': 175.55886608090825, 'c5': 9.678964167870724, 'c6': 16.531448203551882, 'b2': 0.01311394719985126, 'k2': 13.486347203815338, 'c7': 9.923748630487895, 'c8': 26.420002206314436, 'ps': 1.1696131040416013}]t0.15038197563909964torder_accuracyt0.9885321100917431t0:00:38rn\"\n",
      "\n",
      "\n",
      "b'-11' b\"13144t[{'name': 'fajen_approach', 'b1': 4.296329212568901, 'k1': 3.876411184381646, 'c1': 2.373202635931417, 'c2': 1.0940365636783889, 'k2': 1.0565235274635225, 'ps': 1.1696131040416013}, {'name': 'cohen_avoid2', 'b1': 3.128581183157927, 'k1': 318.58688398874926, 'c5': 9.934438242803127, 'c6': 9.578173109610836, 'b2': 0.0, 'k2': 12.550240716529094, 'c7': 9.761353391792445, 'c8': 29.16578162814497, 'ps': 1.1696131040416013}]t0.15821841659878763torder_accuracyt0.988479262672811t0:00:50rn\"\n",
      "\n",
      "\n",
      "b'-12' b\"12883t[{'name': 'fajen_approach', 'b1': 4.296329212568901, 'k1': 3.876411184381646, 'c1': 2.373202635931417, 'c2': 1.0940365636783889, 'k2': 1.0565235274635225, 'ps': 1.1696131040416013}, {'name': 'cohen_avoid2', 'b1': 2.891960502902173, 'k1': 336.09684916153367, 'c5': 10.0, 'c6': 8.756105982011372, 'b2': 0.0, 'k2': 10.711458464087455, 'c7': 9.7464020373734, 'c8': 29.38833698161501, 'ps': 1.1696131040416013}]t0.1507260522328364torder_accuracyt0.9885496183206107t0:00:55rn\"\n",
      "\n",
      "\n",
      "b'-13' b\"12151t[{'name': 'fajen_approach', 'b1': 4.296329212568901, 'k1': 3.876411184381646, 'c1': 2.373202635931417, 'c2': 1.0940365636783889, 'k2': 1.0565235274635225, 'ps': 1.2242142960388376}, {'name': 'cohen_avoid2', 'b1': 4.111888972286868, 'k1': 383.3768769900331, 'c5': 9.998610044064796, 'c6': 8.86698576259253, 'b2': 0.0, 'k2': 125.64696999360923, 'c7': 9.526968784446986, 'c8': 1.9558258336820062, 'ps': 1.2242142960388376}]t0.15797293243282448torder_accuracyt0.989247311827957t0:00:57rn\"\n",
      "\n",
      "\n",
      "b' -7' b\"13144t[{'name': 'fajen_approach', 'b1': 4.296329212568901, 'k1': 3.876411184381646, 'c1': 2.373202635931417, 'c2': 1.0940365636783889, 'k2': 1.0565235274635225, 'ps': 1.1696131040416013}, {'name': 'cohen_avoid2', 'b1': 4.053294283293467, 'k1': 274.6672942491959, 'c5': 9.546563554710373, 'c6': 11.298700891280948, 'b2': 0.0027081942733256253, 'k2': 38.56619666542117, 'c7': 9.998187708254886, 'c8': 7.534504471194245, 'ps': 1.1696131040416013}]t0.1594743068594643torder_accuracyt0.988479262672811t0:00:53rn\"\n",
      "\n",
      "\n",
      "b' -9' b\"13868t[{'name': 'fajen_approach', 'b1': 4.296329212568901, 'k1': 3.876411184381646, 'c1': 2.373202635931417, 'c2': 1.0940365636783889, 'k2': 1.0565235274635225, 'ps': 1.1696131040416013}, {'name': 'cohen_avoid2', 'b1': 3.3231180197797343, 'k1': 168.217686195209, 'c5': 9.321448532586215, 'c6': 17.708820958771295, 'b2': 0.021293938964294767, 'k2': 21.227357643422465, 'c7': 9.550044398368524, 'c8': 14.12848538993541, 'ps': 1.1696131040416013}]t0.1570249064448921torder_accuracyt0.9892555640828856t0:00:50rn\"\n"
     ]
    }
   ],
   "source": [
    "'''Check optimal parameters for individuals from training results'''\n",
    "bests = {} \n",
    "path = os.path.abspath(os.path.join(os.getcwd(), os.pardir, 'Results', 'Bai_movObst1_cross_validation_cohen_avoid2_with_approach_trained_on_Bai_movObst1b_all_threshold_onset'))\n",
    "filenames = [os.path.join(path, name) for name in os.listdir(path) if name[-3:] == 'txt']\n",
    "# filenames = [filenames[1]]\n",
    "errs = []\n",
    "for filename in filenames:\n",
    "    with open(filename, 'rb') as f:\n",
    "        best = 0\n",
    "        e_min = float('inf')\n",
    "        for i, line in enumerate(f):\n",
    "            if i == 1:\n",
    "                subj_id = line[-5:-2]\n",
    "            if i >= 11:\n",
    "                try:\n",
    "                    err = str(line).split(\"\\\\t\")[2][:10]\n",
    "                    if err[0] == '0':\n",
    "                        err = float(err)\n",
    "                        if err < e_min:\n",
    "                            e_min = err\n",
    "                            best = str(line).replace(\"\\\\\", \"\")\n",
    "                except Exception as e:\n",
    "                    print(e)\n",
    "    bests[subj_id] = best\n",
    "for i, best in bests.items():\n",
    "    print('\\n')\n",
    "    print(i, best)"
   ]
  },
  {
   "cell_type": "code",
   "execution_count": 6,
   "metadata": {},
   "outputs": [
    {
     "name": "stdout",
     "output_type": "stream",
     "text": [
      "list index out of range\n",
      "\n",
      "\n",
      "b\"1370t[{'name': 'fajen_approach', 'b1': 4.296329212568901, 'k1': 3.876411184381646, 'c1': 2.373202635931417, 'c2': 1.0940365636783889, 'k2': 1.0565235274635225, 'ps': 1.1696131040416013}, {'name': 'cohen_avoid_heading', 'b1': 9.930552269026572, 'k1': 649.82737708828, 'c5': 17.90090735259422, 'c6': 0.2844581112275794, 'ps': 1.1696131040416013}]t0.18672572731120712torder_accuracyt0.989451476793249t0:01:08rn\"\n",
      "list index out of range\n",
      "\n",
      "\n",
      "b\"706t[{'name': 'fajen_approach2', 'b1': 3.7380520763369196, 'k1': 2.87947916970264, 'c1': 0.2206162881805807, 'c2': 0.960123052819782, 'b2': 2.359847074014972, 'k2': 2.570997808604569, 'ps': 1.1696131040416013}, {'name': 'cohen_avoid4_heading', 'k1': 7.0288327450614645, 'c5': 5.699504822685455, 'c6': 15.368240959940403, 'ps': 1.1696131040416013}]t0.1576436127481332torder_accuracyt0.989451476793249t0:00:24rn\"\n",
      "list index out of range\n",
      "\n",
      "\n",
      "b\"1852t[{'name': 'fajen_approach2', 'b1': 3.7380520763369196, 'k1': 2.87947916970264, 'c1': 0.2206162881805807, 'c2': 0.960123052819782, 'b2': 2.359847074014972, 'k2': 2.570997808604569, 'ps': 1.1696131040416013}, {'name': 'cohen_avoid3', 'k1': 93.42068415612331, 'c5': 9.923230152411703, 'c6': 20.077941579021086, 'k2': 22.321805247910984, 'c7': 9.834536869882928, 'c8': 28.10117113055228, 'ps': 1.1696131040416013}]t0.13919774138302604torder_accuracyt0.989451476793249t0:00:29rn\"\n",
      "list index out of range\n",
      "\n",
      "\n",
      "b\"392t[{'name': 'acceleration_approach', 'k': 1.0077701621761348, 'ps': 1.1696131040416013}, {'name': 'perpendicular_avoid', 'k': 11.397868452412597, 'c': 8.813338864706262, 'ps': 1.1696131040416013}]t0.16274774586887192torder_accuracyt0.9915611814345991t0:00:14rn\"\n",
      "list index out of range\n",
      "list index out of range\n",
      "\n",
      "\n",
      "b\"12339t[{'name': 'fajen_approach', 'b1': 4.296329212568901, 'k1': 3.876411184381646, 'c1': 2.373202635931417, 'c2': 1.0940365636783889, 'k2': 1.0565235274635225, 'ps': 1.1696131040416013}, {'name': 'cohen_avoid', 'b1': 4.642525322134875, 'k1': 502.8560291766539, 'c5': 14.952434368653059, 'c6': 0.33097327028944756, 'b2': 0.0, 'k2': 15.710653241018438, 'c7': 9.450938176626648, 'c8': 0.25055228278197594, 'ps': 1.1696131040416013}]t0.15516072398133962torder_accuracyt0.989451476793249t0:00:52rn\"\n",
      "list index out of range\n",
      "list index out of range\n",
      "\n",
      "\n",
      "b\"10909t[{'name': 'fajen_approach', 'b1': 4.296329212568901, 'k1': 3.876411184381646, 'c1': 2.373202635931417, 'c2': 1.0940365636783889, 'k2': 1.0565235274635225, 'ps': 1.1696131040416013}, {'name': 'cohen_avoid2', 'b1': 3.31660936296053, 'k1': 265.24585586337037, 'c5': 9.737473661386517, 'c6': 11.609850708869496, 'b2': 0.0, 'k2': 20.44218194006397, 'c7': 9.879816352314704, 'c8': 14.825253227271302, 'ps': 1.1696131040416013}]t0.15476085697735129torder_accuracyt0.989451476793249t0:00:51rn\"\n",
      "list index out of range\n",
      "\n",
      "\n",
      "b\"2641t[{'name': 'fajen_approach2', 'b1': 3.7380520763369196, 'k1': 2.87947916970264, 'c1': 0.2206162881805807, 'c2': 0.960123052819782, 'b2': 2.359847074014972, 'k2': 2.570997808604569, 'ps': 1.1696131040416013}, {'name': 'cohen_avoid4', 'k1': 35.66006018987271, 'c5': 6.211312647402919, 'c6': 2.8829899279613884, 'k2': 26.297504220855956, 'c7': 9.950133508470925, 'c8': 1.8318341573512125, 'ps': 1.1696131040416013}]t0.1395871095742992torder_accuracyt0.9901547116736991t0:00:23rn\"\n"
     ]
    }
   ],
   "source": [
    "'''Check optimal parameters for all subjects from training results'''\n",
    "path = os.path.abspath(os.path.join(os.getcwd(), os.pardir, 'Results', 'Bai_movObst1_all_all_models_with_approach_trained_on_Bai_movObst1b_all_threshold_onset'))\n",
    "filenames = [os.path.join(path, name) for name in os.listdir(path) if name[-3:] == 'txt']\n",
    "errs = []\n",
    "for filename in filenames:\n",
    "    with open(filename, 'rb') as f:\n",
    "        best = 0\n",
    "        e_min = float('inf')\n",
    "        for i, line in enumerate(f):\n",
    "            if i > 10:\n",
    "                try:\n",
    "                    err = str(line).split(\"\\\\t\")[2]\n",
    "                    if err[0] == '0':\n",
    "                        err = float(err)\n",
    "                        if err < e_min:\n",
    "                            e_min = err\n",
    "                            best = str(line).replace(\"\\\\\", \"\")\n",
    "                except Exception as e:\n",
    "                    print(e)\n",
    "                    pass\n",
    "\n",
    "    print('\\n')\n",
    "    print(best)\n",
    "    "
   ]
  },
  {
   "cell_type": "code",
   "execution_count": null,
   "metadata": {},
   "outputs": [],
   "source": [
    "bests"
   ]
  }
 ],
 "metadata": {
  "kernelspec": {
   "display_name": "avoidance",
   "language": "python",
   "name": "avoidance"
  },
  "language_info": {
   "codemirror_mode": {
    "name": "ipython",
    "version": 3
   },
   "file_extension": ".py",
   "mimetype": "text/x-python",
   "name": "python",
   "nbconvert_exporter": "python",
   "pygments_lexer": "ipython3",
   "version": "3.6.10"
  }
 },
 "nbformat": 4,
 "nbformat_minor": 2
}
